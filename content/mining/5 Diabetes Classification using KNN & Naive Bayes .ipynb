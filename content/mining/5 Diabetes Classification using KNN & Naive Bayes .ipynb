{
 "cells": [
  {
   "cell_type": "markdown",
   "id": "yQIESu-emrAS",
   "metadata": {
    "id": "yQIESu-emrAS"
   },
   "source": [
    "# Notebook Klasifikasi Diabetes"
   ]
  },
  {
   "cell_type": "code",
   "execution_count": 1,
   "id": "xK0bEL68r2IN",
   "metadata": {
    "colab": {
     "base_uri": "https://localhost:8080/"
    },
    "executionInfo": {
     "elapsed": 3073,
     "status": "ok",
     "timestamp": 1726554494844,
     "user": {
      "displayName": "Switra yana",
      "userId": "05526936548485182607"
     },
     "user_tz": -480
    },
    "id": "xK0bEL68r2IN",
    "outputId": "e531648c-e4e8-46f9-eac8-ce3fda90daf2"
   },
   "outputs": [
    {
     "name": "stdout",
     "output_type": "stream",
     "text": [
      "Drive already mounted at /content/drive; to attempt to forcibly remount, call drive.mount(\"/content/drive\", force_remount=True).\n"
     ]
    }
   ],
   "source": [
    "from google.colab import drive\n",
    "drive.mount('/content/drive')"
   ]
  },
  {
   "cell_type": "code",
   "execution_count": 2,
   "id": "60l3YJufru7q",
   "metadata": {
    "colab": {
     "base_uri": "https://localhost:8080/"
    },
    "executionInfo": {
     "elapsed": 4,
     "status": "ok",
     "timestamp": 1726554494844,
     "user": {
      "displayName": "Switra yana",
      "userId": "05526936548485182607"
     },
     "user_tz": -480
    },
    "id": "60l3YJufru7q",
    "outputId": "d9a87e09-1314-4574-b029-7ebdc9072bb5"
   },
   "outputs": [
    {
     "name": "stdout",
     "output_type": "stream",
     "text": [
      "/content/drive/My Drive/Colab Notebooks/Praktikum Pemrograman 5\n"
     ]
    }
   ],
   "source": [
    "%cd /content/drive/My Drive/Colab Notebooks/Praktikum Pemrograman 5"
   ]
  },
  {
   "cell_type": "code",
   "execution_count": 3,
   "id": "fx2Gw5GHrv_J",
   "metadata": {
    "colab": {
     "base_uri": "https://localhost:8080/"
    },
    "executionInfo": {
     "elapsed": 4,
     "status": "ok",
     "timestamp": 1726554494844,
     "user": {
      "displayName": "Switra yana",
      "userId": "05526936548485182607"
     },
     "user_tz": -480
    },
    "id": "fx2Gw5GHrv_J",
    "outputId": "fc0c9bbe-6718-4bdf-ffdb-82a65ba3506f"
   },
   "outputs": [
    {
     "name": "stdout",
     "output_type": "stream",
     "text": [
      "'5 Diabetes Classification using KNN & Naive Bayes .ipynb'\n",
      "'6 Diabetes Classification using Decision Tree & SVM.ipynb'\n",
      "'7 Diabetes Classification using Random Forest.ipynb'\n",
      " diabetes.csv\n"
     ]
    }
   ],
   "source": [
    "ls"
   ]
  },
  {
   "cell_type": "code",
   "execution_count": 4,
   "id": "8pEPFOQ0rwa3",
   "metadata": {
    "executionInfo": {
     "elapsed": 2,
     "status": "ok",
     "timestamp": 1726554494844,
     "user": {
      "displayName": "Switra yana",
      "userId": "05526936548485182607"
     },
     "user_tz": -480
    },
    "id": "8pEPFOQ0rwa3"
   },
   "outputs": [],
   "source": [
    "path = \"/content/drive/My Drive/Colab Notebooks/Praktikum Pemrograman 5\""
   ]
  },
  {
   "cell_type": "code",
   "execution_count": 5,
   "id": "fc3d5ecf",
   "metadata": {
    "executionInfo": {
     "elapsed": 2452,
     "status": "ok",
     "timestamp": 1726554497294,
     "user": {
      "displayName": "Switra yana",
      "userId": "05526936548485182607"
     },
     "user_tz": -480
    },
    "id": "fc3d5ecf"
   },
   "outputs": [],
   "source": [
    "import pandas as pd\n",
    "import numpy as np\n",
    "from  matplotlib import pyplot as plt\n",
    "import seaborn as sns"
   ]
  },
  {
   "cell_type": "code",
   "execution_count": 6,
   "id": "4a01d8fb",
   "metadata": {
    "executionInfo": {
     "elapsed": 11,
     "status": "ok",
     "timestamp": 1726554497294,
     "user": {
      "displayName": "Switra yana",
      "userId": "05526936548485182607"
     },
     "user_tz": -480
    },
    "id": "4a01d8fb"
   },
   "outputs": [],
   "source": [
    "data = pd.read_csv(path + '/diabetes.csv',sep=\",\")\n",
    "\n",
    "df =pd.DataFrame(data)\n",
    "X = df[['Pregnancies','Glucose','BloodPressure','SkinThickness','Insulin','BMI','DiabetesPedigreeFunction','Age']]\n",
    "Y = df['Outcome'] # 1(Presence / ada) dan 0(Absence / tidak ada)"
   ]
  },
  {
   "cell_type": "code",
   "execution_count": 7,
   "id": "dfee892e",
   "metadata": {
    "colab": {
     "base_uri": "https://localhost:8080/",
     "height": 363
    },
    "executionInfo": {
     "elapsed": 10,
     "status": "ok",
     "timestamp": 1726554497294,
     "user": {
      "displayName": "Switra yana",
      "userId": "05526936548485182607"
     },
     "user_tz": -480
    },
    "id": "dfee892e",
    "outputId": "6a5f7ebf-6c73-4237-b184-a943f17de134"
   },
   "outputs": [
    {
     "data": {
      "application/vnd.google.colaboratory.intrinsic+json": {
       "summary": "{\n  \"name\": \"df\",\n  \"rows\": 768,\n  \"fields\": [\n    {\n      \"column\": \"Pregnancies\",\n      \"properties\": {\n        \"dtype\": \"number\",\n        \"std\": 3,\n        \"min\": 0,\n        \"max\": 17,\n        \"num_unique_values\": 17,\n        \"samples\": [\n          6,\n          1,\n          3\n        ],\n        \"semantic_type\": \"\",\n        \"description\": \"\"\n      }\n    },\n    {\n      \"column\": \"Glucose\",\n      \"properties\": {\n        \"dtype\": \"number\",\n        \"std\": 31,\n        \"min\": 0,\n        \"max\": 199,\n        \"num_unique_values\": 136,\n        \"samples\": [\n          151,\n          101,\n          112\n        ],\n        \"semantic_type\": \"\",\n        \"description\": \"\"\n      }\n    },\n    {\n      \"column\": \"BloodPressure\",\n      \"properties\": {\n        \"dtype\": \"number\",\n        \"std\": 19,\n        \"min\": 0,\n        \"max\": 122,\n        \"num_unique_values\": 47,\n        \"samples\": [\n          86,\n          46,\n          85\n        ],\n        \"semantic_type\": \"\",\n        \"description\": \"\"\n      }\n    },\n    {\n      \"column\": \"SkinThickness\",\n      \"properties\": {\n        \"dtype\": \"number\",\n        \"std\": 15,\n        \"min\": 0,\n        \"max\": 99,\n        \"num_unique_values\": 51,\n        \"samples\": [\n          7,\n          12,\n          48\n        ],\n        \"semantic_type\": \"\",\n        \"description\": \"\"\n      }\n    },\n    {\n      \"column\": \"Insulin\",\n      \"properties\": {\n        \"dtype\": \"number\",\n        \"std\": 115,\n        \"min\": 0,\n        \"max\": 846,\n        \"num_unique_values\": 186,\n        \"samples\": [\n          52,\n          41,\n          183\n        ],\n        \"semantic_type\": \"\",\n        \"description\": \"\"\n      }\n    },\n    {\n      \"column\": \"BMI\",\n      \"properties\": {\n        \"dtype\": \"number\",\n        \"std\": 7.884160320375446,\n        \"min\": 0.0,\n        \"max\": 67.1,\n        \"num_unique_values\": 248,\n        \"samples\": [\n          19.9,\n          31.0,\n          38.1\n        ],\n        \"semantic_type\": \"\",\n        \"description\": \"\"\n      }\n    },\n    {\n      \"column\": \"DiabetesPedigreeFunction\",\n      \"properties\": {\n        \"dtype\": \"number\",\n        \"std\": 0.3313285950127749,\n        \"min\": 0.078,\n        \"max\": 2.42,\n        \"num_unique_values\": 517,\n        \"samples\": [\n          1.731,\n          0.426,\n          0.138\n        ],\n        \"semantic_type\": \"\",\n        \"description\": \"\"\n      }\n    },\n    {\n      \"column\": \"Age\",\n      \"properties\": {\n        \"dtype\": \"number\",\n        \"std\": 11,\n        \"min\": 21,\n        \"max\": 81,\n        \"num_unique_values\": 52,\n        \"samples\": [\n          60,\n          47,\n          72\n        ],\n        \"semantic_type\": \"\",\n        \"description\": \"\"\n      }\n    },\n    {\n      \"column\": \"Outcome\",\n      \"properties\": {\n        \"dtype\": \"number\",\n        \"std\": 0,\n        \"min\": 0,\n        \"max\": 1,\n        \"num_unique_values\": 2,\n        \"samples\": [\n          0,\n          1\n        ],\n        \"semantic_type\": \"\",\n        \"description\": \"\"\n      }\n    }\n  ]\n}",
       "type": "dataframe",
       "variable_name": "df"
      },
      "text/html": [
       "\n",
       "  <div id=\"df-2609074e-045c-46f5-a8f3-aef48e8ea60d\" class=\"colab-df-container\">\n",
       "    <div>\n",
       "<style scoped>\n",
       "    .dataframe tbody tr th:only-of-type {\n",
       "        vertical-align: middle;\n",
       "    }\n",
       "\n",
       "    .dataframe tbody tr th {\n",
       "        vertical-align: top;\n",
       "    }\n",
       "\n",
       "    .dataframe thead th {\n",
       "        text-align: right;\n",
       "    }\n",
       "</style>\n",
       "<table border=\"1\" class=\"dataframe\">\n",
       "  <thead>\n",
       "    <tr style=\"text-align: right;\">\n",
       "      <th></th>\n",
       "      <th>Pregnancies</th>\n",
       "      <th>Glucose</th>\n",
       "      <th>BloodPressure</th>\n",
       "      <th>SkinThickness</th>\n",
       "      <th>Insulin</th>\n",
       "      <th>BMI</th>\n",
       "      <th>DiabetesPedigreeFunction</th>\n",
       "      <th>Age</th>\n",
       "      <th>Outcome</th>\n",
       "    </tr>\n",
       "  </thead>\n",
       "  <tbody>\n",
       "    <tr>\n",
       "      <th>0</th>\n",
       "      <td>6</td>\n",
       "      <td>148</td>\n",
       "      <td>72</td>\n",
       "      <td>35</td>\n",
       "      <td>0</td>\n",
       "      <td>33.6</td>\n",
       "      <td>0.627</td>\n",
       "      <td>50</td>\n",
       "      <td>1</td>\n",
       "    </tr>\n",
       "    <tr>\n",
       "      <th>1</th>\n",
       "      <td>1</td>\n",
       "      <td>85</td>\n",
       "      <td>66</td>\n",
       "      <td>29</td>\n",
       "      <td>0</td>\n",
       "      <td>26.6</td>\n",
       "      <td>0.351</td>\n",
       "      <td>31</td>\n",
       "      <td>0</td>\n",
       "    </tr>\n",
       "    <tr>\n",
       "      <th>2</th>\n",
       "      <td>8</td>\n",
       "      <td>183</td>\n",
       "      <td>64</td>\n",
       "      <td>0</td>\n",
       "      <td>0</td>\n",
       "      <td>23.3</td>\n",
       "      <td>0.672</td>\n",
       "      <td>32</td>\n",
       "      <td>1</td>\n",
       "    </tr>\n",
       "    <tr>\n",
       "      <th>3</th>\n",
       "      <td>1</td>\n",
       "      <td>89</td>\n",
       "      <td>66</td>\n",
       "      <td>23</td>\n",
       "      <td>94</td>\n",
       "      <td>28.1</td>\n",
       "      <td>0.167</td>\n",
       "      <td>21</td>\n",
       "      <td>0</td>\n",
       "    </tr>\n",
       "    <tr>\n",
       "      <th>4</th>\n",
       "      <td>0</td>\n",
       "      <td>137</td>\n",
       "      <td>40</td>\n",
       "      <td>35</td>\n",
       "      <td>168</td>\n",
       "      <td>43.1</td>\n",
       "      <td>2.288</td>\n",
       "      <td>33</td>\n",
       "      <td>1</td>\n",
       "    </tr>\n",
       "    <tr>\n",
       "      <th>5</th>\n",
       "      <td>5</td>\n",
       "      <td>116</td>\n",
       "      <td>74</td>\n",
       "      <td>0</td>\n",
       "      <td>0</td>\n",
       "      <td>25.6</td>\n",
       "      <td>0.201</td>\n",
       "      <td>30</td>\n",
       "      <td>0</td>\n",
       "    </tr>\n",
       "    <tr>\n",
       "      <th>6</th>\n",
       "      <td>3</td>\n",
       "      <td>78</td>\n",
       "      <td>50</td>\n",
       "      <td>32</td>\n",
       "      <td>88</td>\n",
       "      <td>31.0</td>\n",
       "      <td>0.248</td>\n",
       "      <td>26</td>\n",
       "      <td>1</td>\n",
       "    </tr>\n",
       "    <tr>\n",
       "      <th>7</th>\n",
       "      <td>10</td>\n",
       "      <td>115</td>\n",
       "      <td>0</td>\n",
       "      <td>0</td>\n",
       "      <td>0</td>\n",
       "      <td>35.3</td>\n",
       "      <td>0.134</td>\n",
       "      <td>29</td>\n",
       "      <td>0</td>\n",
       "    </tr>\n",
       "    <tr>\n",
       "      <th>8</th>\n",
       "      <td>2</td>\n",
       "      <td>197</td>\n",
       "      <td>70</td>\n",
       "      <td>45</td>\n",
       "      <td>543</td>\n",
       "      <td>30.5</td>\n",
       "      <td>0.158</td>\n",
       "      <td>53</td>\n",
       "      <td>1</td>\n",
       "    </tr>\n",
       "    <tr>\n",
       "      <th>9</th>\n",
       "      <td>8</td>\n",
       "      <td>125</td>\n",
       "      <td>96</td>\n",
       "      <td>0</td>\n",
       "      <td>0</td>\n",
       "      <td>0.0</td>\n",
       "      <td>0.232</td>\n",
       "      <td>54</td>\n",
       "      <td>1</td>\n",
       "    </tr>\n",
       "  </tbody>\n",
       "</table>\n",
       "</div>\n",
       "    <div class=\"colab-df-buttons\">\n",
       "\n",
       "  <div class=\"colab-df-container\">\n",
       "    <button class=\"colab-df-convert\" onclick=\"convertToInteractive('df-2609074e-045c-46f5-a8f3-aef48e8ea60d')\"\n",
       "            title=\"Convert this dataframe to an interactive table.\"\n",
       "            style=\"display:none;\">\n",
       "\n",
       "  <svg xmlns=\"http://www.w3.org/2000/svg\" height=\"24px\" viewBox=\"0 -960 960 960\">\n",
       "    <path d=\"M120-120v-720h720v720H120Zm60-500h600v-160H180v160Zm220 220h160v-160H400v160Zm0 220h160v-160H400v160ZM180-400h160v-160H180v160Zm440 0h160v-160H620v160ZM180-180h160v-160H180v160Zm440 0h160v-160H620v160Z\"/>\n",
       "  </svg>\n",
       "    </button>\n",
       "\n",
       "  <style>\n",
       "    .colab-df-container {\n",
       "      display:flex;\n",
       "      gap: 12px;\n",
       "    }\n",
       "\n",
       "    .colab-df-convert {\n",
       "      background-color: #E8F0FE;\n",
       "      border: none;\n",
       "      border-radius: 50%;\n",
       "      cursor: pointer;\n",
       "      display: none;\n",
       "      fill: #1967D2;\n",
       "      height: 32px;\n",
       "      padding: 0 0 0 0;\n",
       "      width: 32px;\n",
       "    }\n",
       "\n",
       "    .colab-df-convert:hover {\n",
       "      background-color: #E2EBFA;\n",
       "      box-shadow: 0px 1px 2px rgba(60, 64, 67, 0.3), 0px 1px 3px 1px rgba(60, 64, 67, 0.15);\n",
       "      fill: #174EA6;\n",
       "    }\n",
       "\n",
       "    .colab-df-buttons div {\n",
       "      margin-bottom: 4px;\n",
       "    }\n",
       "\n",
       "    [theme=dark] .colab-df-convert {\n",
       "      background-color: #3B4455;\n",
       "      fill: #D2E3FC;\n",
       "    }\n",
       "\n",
       "    [theme=dark] .colab-df-convert:hover {\n",
       "      background-color: #434B5C;\n",
       "      box-shadow: 0px 1px 3px 1px rgba(0, 0, 0, 0.15);\n",
       "      filter: drop-shadow(0px 1px 2px rgba(0, 0, 0, 0.3));\n",
       "      fill: #FFFFFF;\n",
       "    }\n",
       "  </style>\n",
       "\n",
       "    <script>\n",
       "      const buttonEl =\n",
       "        document.querySelector('#df-2609074e-045c-46f5-a8f3-aef48e8ea60d button.colab-df-convert');\n",
       "      buttonEl.style.display =\n",
       "        google.colab.kernel.accessAllowed ? 'block' : 'none';\n",
       "\n",
       "      async function convertToInteractive(key) {\n",
       "        const element = document.querySelector('#df-2609074e-045c-46f5-a8f3-aef48e8ea60d');\n",
       "        const dataTable =\n",
       "          await google.colab.kernel.invokeFunction('convertToInteractive',\n",
       "                                                    [key], {});\n",
       "        if (!dataTable) return;\n",
       "\n",
       "        const docLinkHtml = 'Like what you see? Visit the ' +\n",
       "          '<a target=\"_blank\" href=https://colab.research.google.com/notebooks/data_table.ipynb>data table notebook</a>'\n",
       "          + ' to learn more about interactive tables.';\n",
       "        element.innerHTML = '';\n",
       "        dataTable['output_type'] = 'display_data';\n",
       "        await google.colab.output.renderOutput(dataTable, element);\n",
       "        const docLink = document.createElement('div');\n",
       "        docLink.innerHTML = docLinkHtml;\n",
       "        element.appendChild(docLink);\n",
       "      }\n",
       "    </script>\n",
       "  </div>\n",
       "\n",
       "\n",
       "<div id=\"df-0c4f9296-6535-4d52-8964-97621118ec6a\">\n",
       "  <button class=\"colab-df-quickchart\" onclick=\"quickchart('df-0c4f9296-6535-4d52-8964-97621118ec6a')\"\n",
       "            title=\"Suggest charts\"\n",
       "            style=\"display:none;\">\n",
       "\n",
       "<svg xmlns=\"http://www.w3.org/2000/svg\" height=\"24px\"viewBox=\"0 0 24 24\"\n",
       "     width=\"24px\">\n",
       "    <g>\n",
       "        <path d=\"M19 3H5c-1.1 0-2 .9-2 2v14c0 1.1.9 2 2 2h14c1.1 0 2-.9 2-2V5c0-1.1-.9-2-2-2zM9 17H7v-7h2v7zm4 0h-2V7h2v10zm4 0h-2v-4h2v4z\"/>\n",
       "    </g>\n",
       "</svg>\n",
       "  </button>\n",
       "\n",
       "<style>\n",
       "  .colab-df-quickchart {\n",
       "      --bg-color: #E8F0FE;\n",
       "      --fill-color: #1967D2;\n",
       "      --hover-bg-color: #E2EBFA;\n",
       "      --hover-fill-color: #174EA6;\n",
       "      --disabled-fill-color: #AAA;\n",
       "      --disabled-bg-color: #DDD;\n",
       "  }\n",
       "\n",
       "  [theme=dark] .colab-df-quickchart {\n",
       "      --bg-color: #3B4455;\n",
       "      --fill-color: #D2E3FC;\n",
       "      --hover-bg-color: #434B5C;\n",
       "      --hover-fill-color: #FFFFFF;\n",
       "      --disabled-bg-color: #3B4455;\n",
       "      --disabled-fill-color: #666;\n",
       "  }\n",
       "\n",
       "  .colab-df-quickchart {\n",
       "    background-color: var(--bg-color);\n",
       "    border: none;\n",
       "    border-radius: 50%;\n",
       "    cursor: pointer;\n",
       "    display: none;\n",
       "    fill: var(--fill-color);\n",
       "    height: 32px;\n",
       "    padding: 0;\n",
       "    width: 32px;\n",
       "  }\n",
       "\n",
       "  .colab-df-quickchart:hover {\n",
       "    background-color: var(--hover-bg-color);\n",
       "    box-shadow: 0 1px 2px rgba(60, 64, 67, 0.3), 0 1px 3px 1px rgba(60, 64, 67, 0.15);\n",
       "    fill: var(--button-hover-fill-color);\n",
       "  }\n",
       "\n",
       "  .colab-df-quickchart-complete:disabled,\n",
       "  .colab-df-quickchart-complete:disabled:hover {\n",
       "    background-color: var(--disabled-bg-color);\n",
       "    fill: var(--disabled-fill-color);\n",
       "    box-shadow: none;\n",
       "  }\n",
       "\n",
       "  .colab-df-spinner {\n",
       "    border: 2px solid var(--fill-color);\n",
       "    border-color: transparent;\n",
       "    border-bottom-color: var(--fill-color);\n",
       "    animation:\n",
       "      spin 1s steps(1) infinite;\n",
       "  }\n",
       "\n",
       "  @keyframes spin {\n",
       "    0% {\n",
       "      border-color: transparent;\n",
       "      border-bottom-color: var(--fill-color);\n",
       "      border-left-color: var(--fill-color);\n",
       "    }\n",
       "    20% {\n",
       "      border-color: transparent;\n",
       "      border-left-color: var(--fill-color);\n",
       "      border-top-color: var(--fill-color);\n",
       "    }\n",
       "    30% {\n",
       "      border-color: transparent;\n",
       "      border-left-color: var(--fill-color);\n",
       "      border-top-color: var(--fill-color);\n",
       "      border-right-color: var(--fill-color);\n",
       "    }\n",
       "    40% {\n",
       "      border-color: transparent;\n",
       "      border-right-color: var(--fill-color);\n",
       "      border-top-color: var(--fill-color);\n",
       "    }\n",
       "    60% {\n",
       "      border-color: transparent;\n",
       "      border-right-color: var(--fill-color);\n",
       "    }\n",
       "    80% {\n",
       "      border-color: transparent;\n",
       "      border-right-color: var(--fill-color);\n",
       "      border-bottom-color: var(--fill-color);\n",
       "    }\n",
       "    90% {\n",
       "      border-color: transparent;\n",
       "      border-bottom-color: var(--fill-color);\n",
       "    }\n",
       "  }\n",
       "</style>\n",
       "\n",
       "  <script>\n",
       "    async function quickchart(key) {\n",
       "      const quickchartButtonEl =\n",
       "        document.querySelector('#' + key + ' button');\n",
       "      quickchartButtonEl.disabled = true;  // To prevent multiple clicks.\n",
       "      quickchartButtonEl.classList.add('colab-df-spinner');\n",
       "      try {\n",
       "        const charts = await google.colab.kernel.invokeFunction(\n",
       "            'suggestCharts', [key], {});\n",
       "      } catch (error) {\n",
       "        console.error('Error during call to suggestCharts:', error);\n",
       "      }\n",
       "      quickchartButtonEl.classList.remove('colab-df-spinner');\n",
       "      quickchartButtonEl.classList.add('colab-df-quickchart-complete');\n",
       "    }\n",
       "    (() => {\n",
       "      let quickchartButtonEl =\n",
       "        document.querySelector('#df-0c4f9296-6535-4d52-8964-97621118ec6a button');\n",
       "      quickchartButtonEl.style.display =\n",
       "        google.colab.kernel.accessAllowed ? 'block' : 'none';\n",
       "    })();\n",
       "  </script>\n",
       "</div>\n",
       "\n",
       "    </div>\n",
       "  </div>\n"
      ],
      "text/plain": [
       "   Pregnancies  Glucose  BloodPressure  SkinThickness  Insulin   BMI  \\\n",
       "0            6      148             72             35        0  33.6   \n",
       "1            1       85             66             29        0  26.6   \n",
       "2            8      183             64              0        0  23.3   \n",
       "3            1       89             66             23       94  28.1   \n",
       "4            0      137             40             35      168  43.1   \n",
       "5            5      116             74              0        0  25.6   \n",
       "6            3       78             50             32       88  31.0   \n",
       "7           10      115              0              0        0  35.3   \n",
       "8            2      197             70             45      543  30.5   \n",
       "9            8      125             96              0        0   0.0   \n",
       "\n",
       "   DiabetesPedigreeFunction  Age  Outcome  \n",
       "0                     0.627   50        1  \n",
       "1                     0.351   31        0  \n",
       "2                     0.672   32        1  \n",
       "3                     0.167   21        0  \n",
       "4                     2.288   33        1  \n",
       "5                     0.201   30        0  \n",
       "6                     0.248   26        1  \n",
       "7                     0.134   29        0  \n",
       "8                     0.158   53        1  \n",
       "9                     0.232   54        1  "
      ]
     },
     "execution_count": 7,
     "metadata": {},
     "output_type": "execute_result"
    }
   ],
   "source": [
    "df.head(10)"
   ]
  },
  {
   "cell_type": "code",
   "execution_count": 8,
   "id": "6e72126c",
   "metadata": {
    "colab": {
     "base_uri": "https://localhost:8080/",
     "height": 206
    },
    "executionInfo": {
     "elapsed": 10,
     "status": "ok",
     "timestamp": 1726554497295,
     "user": {
      "displayName": "Switra yana",
      "userId": "05526936548485182607"
     },
     "user_tz": -480
    },
    "id": "6e72126c",
    "outputId": "bd3b3051-1e5f-4c71-b485-1648ba995e41"
   },
   "outputs": [
    {
     "data": {
      "application/vnd.google.colaboratory.intrinsic+json": {
       "summary": "{\n  \"name\": \"X\",\n  \"rows\": 768,\n  \"fields\": [\n    {\n      \"column\": \"Pregnancies\",\n      \"properties\": {\n        \"dtype\": \"number\",\n        \"std\": 3,\n        \"min\": 0,\n        \"max\": 17,\n        \"num_unique_values\": 17,\n        \"samples\": [\n          6,\n          1,\n          3\n        ],\n        \"semantic_type\": \"\",\n        \"description\": \"\"\n      }\n    },\n    {\n      \"column\": \"Glucose\",\n      \"properties\": {\n        \"dtype\": \"number\",\n        \"std\": 31,\n        \"min\": 0,\n        \"max\": 199,\n        \"num_unique_values\": 136,\n        \"samples\": [\n          151,\n          101,\n          112\n        ],\n        \"semantic_type\": \"\",\n        \"description\": \"\"\n      }\n    },\n    {\n      \"column\": \"BloodPressure\",\n      \"properties\": {\n        \"dtype\": \"number\",\n        \"std\": 19,\n        \"min\": 0,\n        \"max\": 122,\n        \"num_unique_values\": 47,\n        \"samples\": [\n          86,\n          46,\n          85\n        ],\n        \"semantic_type\": \"\",\n        \"description\": \"\"\n      }\n    },\n    {\n      \"column\": \"SkinThickness\",\n      \"properties\": {\n        \"dtype\": \"number\",\n        \"std\": 15,\n        \"min\": 0,\n        \"max\": 99,\n        \"num_unique_values\": 51,\n        \"samples\": [\n          7,\n          12,\n          48\n        ],\n        \"semantic_type\": \"\",\n        \"description\": \"\"\n      }\n    },\n    {\n      \"column\": \"Insulin\",\n      \"properties\": {\n        \"dtype\": \"number\",\n        \"std\": 115,\n        \"min\": 0,\n        \"max\": 846,\n        \"num_unique_values\": 186,\n        \"samples\": [\n          52,\n          41,\n          183\n        ],\n        \"semantic_type\": \"\",\n        \"description\": \"\"\n      }\n    },\n    {\n      \"column\": \"BMI\",\n      \"properties\": {\n        \"dtype\": \"number\",\n        \"std\": 7.884160320375446,\n        \"min\": 0.0,\n        \"max\": 67.1,\n        \"num_unique_values\": 248,\n        \"samples\": [\n          19.9,\n          31.0,\n          38.1\n        ],\n        \"semantic_type\": \"\",\n        \"description\": \"\"\n      }\n    },\n    {\n      \"column\": \"DiabetesPedigreeFunction\",\n      \"properties\": {\n        \"dtype\": \"number\",\n        \"std\": 0.3313285950127749,\n        \"min\": 0.078,\n        \"max\": 2.42,\n        \"num_unique_values\": 517,\n        \"samples\": [\n          1.731,\n          0.426,\n          0.138\n        ],\n        \"semantic_type\": \"\",\n        \"description\": \"\"\n      }\n    },\n    {\n      \"column\": \"Age\",\n      \"properties\": {\n        \"dtype\": \"number\",\n        \"std\": 11,\n        \"min\": 21,\n        \"max\": 81,\n        \"num_unique_values\": 52,\n        \"samples\": [\n          60,\n          47,\n          72\n        ],\n        \"semantic_type\": \"\",\n        \"description\": \"\"\n      }\n    }\n  ]\n}",
       "type": "dataframe",
       "variable_name": "X"
      },
      "text/html": [
       "\n",
       "  <div id=\"df-24373607-f73e-4449-801f-00a33a416d16\" class=\"colab-df-container\">\n",
       "    <div>\n",
       "<style scoped>\n",
       "    .dataframe tbody tr th:only-of-type {\n",
       "        vertical-align: middle;\n",
       "    }\n",
       "\n",
       "    .dataframe tbody tr th {\n",
       "        vertical-align: top;\n",
       "    }\n",
       "\n",
       "    .dataframe thead th {\n",
       "        text-align: right;\n",
       "    }\n",
       "</style>\n",
       "<table border=\"1\" class=\"dataframe\">\n",
       "  <thead>\n",
       "    <tr style=\"text-align: right;\">\n",
       "      <th></th>\n",
       "      <th>Pregnancies</th>\n",
       "      <th>Glucose</th>\n",
       "      <th>BloodPressure</th>\n",
       "      <th>SkinThickness</th>\n",
       "      <th>Insulin</th>\n",
       "      <th>BMI</th>\n",
       "      <th>DiabetesPedigreeFunction</th>\n",
       "      <th>Age</th>\n",
       "    </tr>\n",
       "  </thead>\n",
       "  <tbody>\n",
       "    <tr>\n",
       "      <th>0</th>\n",
       "      <td>6</td>\n",
       "      <td>148</td>\n",
       "      <td>72</td>\n",
       "      <td>35</td>\n",
       "      <td>0</td>\n",
       "      <td>33.6</td>\n",
       "      <td>0.627</td>\n",
       "      <td>50</td>\n",
       "    </tr>\n",
       "    <tr>\n",
       "      <th>1</th>\n",
       "      <td>1</td>\n",
       "      <td>85</td>\n",
       "      <td>66</td>\n",
       "      <td>29</td>\n",
       "      <td>0</td>\n",
       "      <td>26.6</td>\n",
       "      <td>0.351</td>\n",
       "      <td>31</td>\n",
       "    </tr>\n",
       "    <tr>\n",
       "      <th>2</th>\n",
       "      <td>8</td>\n",
       "      <td>183</td>\n",
       "      <td>64</td>\n",
       "      <td>0</td>\n",
       "      <td>0</td>\n",
       "      <td>23.3</td>\n",
       "      <td>0.672</td>\n",
       "      <td>32</td>\n",
       "    </tr>\n",
       "    <tr>\n",
       "      <th>3</th>\n",
       "      <td>1</td>\n",
       "      <td>89</td>\n",
       "      <td>66</td>\n",
       "      <td>23</td>\n",
       "      <td>94</td>\n",
       "      <td>28.1</td>\n",
       "      <td>0.167</td>\n",
       "      <td>21</td>\n",
       "    </tr>\n",
       "    <tr>\n",
       "      <th>4</th>\n",
       "      <td>0</td>\n",
       "      <td>137</td>\n",
       "      <td>40</td>\n",
       "      <td>35</td>\n",
       "      <td>168</td>\n",
       "      <td>43.1</td>\n",
       "      <td>2.288</td>\n",
       "      <td>33</td>\n",
       "    </tr>\n",
       "  </tbody>\n",
       "</table>\n",
       "</div>\n",
       "    <div class=\"colab-df-buttons\">\n",
       "\n",
       "  <div class=\"colab-df-container\">\n",
       "    <button class=\"colab-df-convert\" onclick=\"convertToInteractive('df-24373607-f73e-4449-801f-00a33a416d16')\"\n",
       "            title=\"Convert this dataframe to an interactive table.\"\n",
       "            style=\"display:none;\">\n",
       "\n",
       "  <svg xmlns=\"http://www.w3.org/2000/svg\" height=\"24px\" viewBox=\"0 -960 960 960\">\n",
       "    <path d=\"M120-120v-720h720v720H120Zm60-500h600v-160H180v160Zm220 220h160v-160H400v160Zm0 220h160v-160H400v160ZM180-400h160v-160H180v160Zm440 0h160v-160H620v160ZM180-180h160v-160H180v160Zm440 0h160v-160H620v160Z\"/>\n",
       "  </svg>\n",
       "    </button>\n",
       "\n",
       "  <style>\n",
       "    .colab-df-container {\n",
       "      display:flex;\n",
       "      gap: 12px;\n",
       "    }\n",
       "\n",
       "    .colab-df-convert {\n",
       "      background-color: #E8F0FE;\n",
       "      border: none;\n",
       "      border-radius: 50%;\n",
       "      cursor: pointer;\n",
       "      display: none;\n",
       "      fill: #1967D2;\n",
       "      height: 32px;\n",
       "      padding: 0 0 0 0;\n",
       "      width: 32px;\n",
       "    }\n",
       "\n",
       "    .colab-df-convert:hover {\n",
       "      background-color: #E2EBFA;\n",
       "      box-shadow: 0px 1px 2px rgba(60, 64, 67, 0.3), 0px 1px 3px 1px rgba(60, 64, 67, 0.15);\n",
       "      fill: #174EA6;\n",
       "    }\n",
       "\n",
       "    .colab-df-buttons div {\n",
       "      margin-bottom: 4px;\n",
       "    }\n",
       "\n",
       "    [theme=dark] .colab-df-convert {\n",
       "      background-color: #3B4455;\n",
       "      fill: #D2E3FC;\n",
       "    }\n",
       "\n",
       "    [theme=dark] .colab-df-convert:hover {\n",
       "      background-color: #434B5C;\n",
       "      box-shadow: 0px 1px 3px 1px rgba(0, 0, 0, 0.15);\n",
       "      filter: drop-shadow(0px 1px 2px rgba(0, 0, 0, 0.3));\n",
       "      fill: #FFFFFF;\n",
       "    }\n",
       "  </style>\n",
       "\n",
       "    <script>\n",
       "      const buttonEl =\n",
       "        document.querySelector('#df-24373607-f73e-4449-801f-00a33a416d16 button.colab-df-convert');\n",
       "      buttonEl.style.display =\n",
       "        google.colab.kernel.accessAllowed ? 'block' : 'none';\n",
       "\n",
       "      async function convertToInteractive(key) {\n",
       "        const element = document.querySelector('#df-24373607-f73e-4449-801f-00a33a416d16');\n",
       "        const dataTable =\n",
       "          await google.colab.kernel.invokeFunction('convertToInteractive',\n",
       "                                                    [key], {});\n",
       "        if (!dataTable) return;\n",
       "\n",
       "        const docLinkHtml = 'Like what you see? Visit the ' +\n",
       "          '<a target=\"_blank\" href=https://colab.research.google.com/notebooks/data_table.ipynb>data table notebook</a>'\n",
       "          + ' to learn more about interactive tables.';\n",
       "        element.innerHTML = '';\n",
       "        dataTable['output_type'] = 'display_data';\n",
       "        await google.colab.output.renderOutput(dataTable, element);\n",
       "        const docLink = document.createElement('div');\n",
       "        docLink.innerHTML = docLinkHtml;\n",
       "        element.appendChild(docLink);\n",
       "      }\n",
       "    </script>\n",
       "  </div>\n",
       "\n",
       "\n",
       "<div id=\"df-45bfca0d-7f43-466f-afc8-17afb0084750\">\n",
       "  <button class=\"colab-df-quickchart\" onclick=\"quickchart('df-45bfca0d-7f43-466f-afc8-17afb0084750')\"\n",
       "            title=\"Suggest charts\"\n",
       "            style=\"display:none;\">\n",
       "\n",
       "<svg xmlns=\"http://www.w3.org/2000/svg\" height=\"24px\"viewBox=\"0 0 24 24\"\n",
       "     width=\"24px\">\n",
       "    <g>\n",
       "        <path d=\"M19 3H5c-1.1 0-2 .9-2 2v14c0 1.1.9 2 2 2h14c1.1 0 2-.9 2-2V5c0-1.1-.9-2-2-2zM9 17H7v-7h2v7zm4 0h-2V7h2v10zm4 0h-2v-4h2v4z\"/>\n",
       "    </g>\n",
       "</svg>\n",
       "  </button>\n",
       "\n",
       "<style>\n",
       "  .colab-df-quickchart {\n",
       "      --bg-color: #E8F0FE;\n",
       "      --fill-color: #1967D2;\n",
       "      --hover-bg-color: #E2EBFA;\n",
       "      --hover-fill-color: #174EA6;\n",
       "      --disabled-fill-color: #AAA;\n",
       "      --disabled-bg-color: #DDD;\n",
       "  }\n",
       "\n",
       "  [theme=dark] .colab-df-quickchart {\n",
       "      --bg-color: #3B4455;\n",
       "      --fill-color: #D2E3FC;\n",
       "      --hover-bg-color: #434B5C;\n",
       "      --hover-fill-color: #FFFFFF;\n",
       "      --disabled-bg-color: #3B4455;\n",
       "      --disabled-fill-color: #666;\n",
       "  }\n",
       "\n",
       "  .colab-df-quickchart {\n",
       "    background-color: var(--bg-color);\n",
       "    border: none;\n",
       "    border-radius: 50%;\n",
       "    cursor: pointer;\n",
       "    display: none;\n",
       "    fill: var(--fill-color);\n",
       "    height: 32px;\n",
       "    padding: 0;\n",
       "    width: 32px;\n",
       "  }\n",
       "\n",
       "  .colab-df-quickchart:hover {\n",
       "    background-color: var(--hover-bg-color);\n",
       "    box-shadow: 0 1px 2px rgba(60, 64, 67, 0.3), 0 1px 3px 1px rgba(60, 64, 67, 0.15);\n",
       "    fill: var(--button-hover-fill-color);\n",
       "  }\n",
       "\n",
       "  .colab-df-quickchart-complete:disabled,\n",
       "  .colab-df-quickchart-complete:disabled:hover {\n",
       "    background-color: var(--disabled-bg-color);\n",
       "    fill: var(--disabled-fill-color);\n",
       "    box-shadow: none;\n",
       "  }\n",
       "\n",
       "  .colab-df-spinner {\n",
       "    border: 2px solid var(--fill-color);\n",
       "    border-color: transparent;\n",
       "    border-bottom-color: var(--fill-color);\n",
       "    animation:\n",
       "      spin 1s steps(1) infinite;\n",
       "  }\n",
       "\n",
       "  @keyframes spin {\n",
       "    0% {\n",
       "      border-color: transparent;\n",
       "      border-bottom-color: var(--fill-color);\n",
       "      border-left-color: var(--fill-color);\n",
       "    }\n",
       "    20% {\n",
       "      border-color: transparent;\n",
       "      border-left-color: var(--fill-color);\n",
       "      border-top-color: var(--fill-color);\n",
       "    }\n",
       "    30% {\n",
       "      border-color: transparent;\n",
       "      border-left-color: var(--fill-color);\n",
       "      border-top-color: var(--fill-color);\n",
       "      border-right-color: var(--fill-color);\n",
       "    }\n",
       "    40% {\n",
       "      border-color: transparent;\n",
       "      border-right-color: var(--fill-color);\n",
       "      border-top-color: var(--fill-color);\n",
       "    }\n",
       "    60% {\n",
       "      border-color: transparent;\n",
       "      border-right-color: var(--fill-color);\n",
       "    }\n",
       "    80% {\n",
       "      border-color: transparent;\n",
       "      border-right-color: var(--fill-color);\n",
       "      border-bottom-color: var(--fill-color);\n",
       "    }\n",
       "    90% {\n",
       "      border-color: transparent;\n",
       "      border-bottom-color: var(--fill-color);\n",
       "    }\n",
       "  }\n",
       "</style>\n",
       "\n",
       "  <script>\n",
       "    async function quickchart(key) {\n",
       "      const quickchartButtonEl =\n",
       "        document.querySelector('#' + key + ' button');\n",
       "      quickchartButtonEl.disabled = true;  // To prevent multiple clicks.\n",
       "      quickchartButtonEl.classList.add('colab-df-spinner');\n",
       "      try {\n",
       "        const charts = await google.colab.kernel.invokeFunction(\n",
       "            'suggestCharts', [key], {});\n",
       "      } catch (error) {\n",
       "        console.error('Error during call to suggestCharts:', error);\n",
       "      }\n",
       "      quickchartButtonEl.classList.remove('colab-df-spinner');\n",
       "      quickchartButtonEl.classList.add('colab-df-quickchart-complete');\n",
       "    }\n",
       "    (() => {\n",
       "      let quickchartButtonEl =\n",
       "        document.querySelector('#df-45bfca0d-7f43-466f-afc8-17afb0084750 button');\n",
       "      quickchartButtonEl.style.display =\n",
       "        google.colab.kernel.accessAllowed ? 'block' : 'none';\n",
       "    })();\n",
       "  </script>\n",
       "</div>\n",
       "\n",
       "    </div>\n",
       "  </div>\n"
      ],
      "text/plain": [
       "   Pregnancies  Glucose  BloodPressure  SkinThickness  Insulin   BMI  \\\n",
       "0            6      148             72             35        0  33.6   \n",
       "1            1       85             66             29        0  26.6   \n",
       "2            8      183             64              0        0  23.3   \n",
       "3            1       89             66             23       94  28.1   \n",
       "4            0      137             40             35      168  43.1   \n",
       "\n",
       "   DiabetesPedigreeFunction  Age  \n",
       "0                     0.627   50  \n",
       "1                     0.351   31  \n",
       "2                     0.672   32  \n",
       "3                     0.167   21  \n",
       "4                     2.288   33  "
      ]
     },
     "execution_count": 8,
     "metadata": {},
     "output_type": "execute_result"
    }
   ],
   "source": [
    "X.head()"
   ]
  },
  {
   "cell_type": "code",
   "execution_count": 9,
   "id": "1b68d3d9",
   "metadata": {
    "colab": {
     "base_uri": "https://localhost:8080/",
     "height": 241
    },
    "executionInfo": {
     "elapsed": 10,
     "status": "ok",
     "timestamp": 1726554497295,
     "user": {
      "displayName": "Switra yana",
      "userId": "05526936548485182607"
     },
     "user_tz": -480
    },
    "id": "1b68d3d9",
    "outputId": "2147d5fa-7392-4de7-e472-416e91e40beb"
   },
   "outputs": [
    {
     "data": {
      "text/html": [
       "<div>\n",
       "<style scoped>\n",
       "    .dataframe tbody tr th:only-of-type {\n",
       "        vertical-align: middle;\n",
       "    }\n",
       "\n",
       "    .dataframe tbody tr th {\n",
       "        vertical-align: top;\n",
       "    }\n",
       "\n",
       "    .dataframe thead th {\n",
       "        text-align: right;\n",
       "    }\n",
       "</style>\n",
       "<table border=\"1\" class=\"dataframe\">\n",
       "  <thead>\n",
       "    <tr style=\"text-align: right;\">\n",
       "      <th></th>\n",
       "      <th>Outcome</th>\n",
       "    </tr>\n",
       "  </thead>\n",
       "  <tbody>\n",
       "    <tr>\n",
       "      <th>0</th>\n",
       "      <td>1</td>\n",
       "    </tr>\n",
       "    <tr>\n",
       "      <th>1</th>\n",
       "      <td>0</td>\n",
       "    </tr>\n",
       "    <tr>\n",
       "      <th>2</th>\n",
       "      <td>1</td>\n",
       "    </tr>\n",
       "    <tr>\n",
       "      <th>3</th>\n",
       "      <td>0</td>\n",
       "    </tr>\n",
       "    <tr>\n",
       "      <th>4</th>\n",
       "      <td>1</td>\n",
       "    </tr>\n",
       "  </tbody>\n",
       "</table>\n",
       "</div><br><label><b>dtype:</b> int64</label>"
      ],
      "text/plain": [
       "0    1\n",
       "1    0\n",
       "2    1\n",
       "3    0\n",
       "4    1\n",
       "Name: Outcome, dtype: int64"
      ]
     },
     "execution_count": 9,
     "metadata": {},
     "output_type": "execute_result"
    }
   ],
   "source": [
    "Y.head()"
   ]
  },
  {
   "cell_type": "code",
   "execution_count": 10,
   "id": "a40f0b80",
   "metadata": {
    "colab": {
     "base_uri": "https://localhost:8080/"
    },
    "executionInfo": {
     "elapsed": 9,
     "status": "ok",
     "timestamp": 1726554497295,
     "user": {
      "displayName": "Switra yana",
      "userId": "05526936548485182607"
     },
     "user_tz": -480
    },
    "id": "a40f0b80",
    "outputId": "e03ec52d-bf5d-4378-93b1-4be505b62909"
   },
   "outputs": [
    {
     "data": {
      "text/plain": [
       "(768, 9)"
      ]
     },
     "execution_count": 10,
     "metadata": {},
     "output_type": "execute_result"
    }
   ],
   "source": [
    "df.shape"
   ]
  },
  {
   "cell_type": "code",
   "execution_count": 11,
   "id": "1429f34b",
   "metadata": {
    "colab": {
     "base_uri": "https://localhost:8080/"
    },
    "executionInfo": {
     "elapsed": 8,
     "status": "ok",
     "timestamp": 1726554497295,
     "user": {
      "displayName": "Switra yana",
      "userId": "05526936548485182607"
     },
     "user_tz": -480
    },
    "id": "1429f34b",
    "outputId": "18110249-49e8-4bfb-c17c-1e5f8bf74701"
   },
   "outputs": [
    {
     "data": {
      "text/plain": [
       "Index(['Pregnancies', 'Glucose', 'BloodPressure', 'SkinThickness', 'Insulin',\n",
       "       'BMI', 'DiabetesPedigreeFunction', 'Age', 'Outcome'],\n",
       "      dtype='object')"
      ]
     },
     "execution_count": 11,
     "metadata": {},
     "output_type": "execute_result"
    }
   ],
   "source": [
    "df.columns"
   ]
  },
  {
   "cell_type": "code",
   "execution_count": 12,
   "id": "f342ea61",
   "metadata": {
    "colab": {
     "base_uri": "https://localhost:8080/"
    },
    "executionInfo": {
     "elapsed": 7,
     "status": "ok",
     "timestamp": 1726554497295,
     "user": {
      "displayName": "Switra yana",
      "userId": "05526936548485182607"
     },
     "user_tz": -480
    },
    "id": "f342ea61",
    "outputId": "05ef3354-ce38-4c6b-e550-395f5efdeb67"
   },
   "outputs": [
    {
     "name": "stdout",
     "output_type": "stream",
     "text": [
      "<class 'pandas.core.frame.DataFrame'>\n",
      "RangeIndex: 768 entries, 0 to 767\n",
      "Data columns (total 9 columns):\n",
      " #   Column                    Non-Null Count  Dtype  \n",
      "---  ------                    --------------  -----  \n",
      " 0   Pregnancies               768 non-null    int64  \n",
      " 1   Glucose                   768 non-null    int64  \n",
      " 2   BloodPressure             768 non-null    int64  \n",
      " 3   SkinThickness             768 non-null    int64  \n",
      " 4   Insulin                   768 non-null    int64  \n",
      " 5   BMI                       768 non-null    float64\n",
      " 6   DiabetesPedigreeFunction  768 non-null    float64\n",
      " 7   Age                       768 non-null    int64  \n",
      " 8   Outcome                   768 non-null    int64  \n",
      "dtypes: float64(2), int64(7)\n",
      "memory usage: 54.1 KB\n"
     ]
    }
   ],
   "source": [
    "#Melihat informasi dataset\n",
    "df.info()"
   ]
  },
  {
   "cell_type": "code",
   "execution_count": 13,
   "id": "QeAmZ0MptHdL",
   "metadata": {
    "colab": {
     "base_uri": "https://localhost:8080/",
     "height": 300
    },
    "executionInfo": {
     "elapsed": 499,
     "status": "ok",
     "timestamp": 1726554497787,
     "user": {
      "displayName": "Switra yana",
      "userId": "05526936548485182607"
     },
     "user_tz": -480
    },
    "id": "QeAmZ0MptHdL",
    "outputId": "dcd6fea4-4f1a-4725-84f2-74c5df6e618e"
   },
   "outputs": [
    {
     "data": {
      "application/vnd.google.colaboratory.intrinsic+json": {
       "summary": "{\n  \"name\": \"# round(df\",\n  \"rows\": 8,\n  \"fields\": [\n    {\n      \"column\": \"Pregnancies\",\n      \"properties\": {\n        \"dtype\": \"number\",\n        \"std\": 269.85223453356366,\n        \"min\": 0.0,\n        \"max\": 768.0,\n        \"num_unique_values\": 8,\n        \"samples\": [\n          3.8450520833333335,\n          3.0,\n          768.0\n        ],\n        \"semantic_type\": \"\",\n        \"description\": \"\"\n      }\n    },\n    {\n      \"column\": \"Glucose\",\n      \"properties\": {\n        \"dtype\": \"number\",\n        \"std\": 243.73802348295857,\n        \"min\": 0.0,\n        \"max\": 768.0,\n        \"num_unique_values\": 8,\n        \"samples\": [\n          120.89453125,\n          117.0,\n          768.0\n        ],\n        \"semantic_type\": \"\",\n        \"description\": \"\"\n      }\n    },\n    {\n      \"column\": \"BloodPressure\",\n      \"properties\": {\n        \"dtype\": \"number\",\n        \"std\": 252.8525053581062,\n        \"min\": 0.0,\n        \"max\": 768.0,\n        \"num_unique_values\": 8,\n        \"samples\": [\n          69.10546875,\n          72.0,\n          768.0\n        ],\n        \"semantic_type\": \"\",\n        \"description\": \"\"\n      }\n    },\n    {\n      \"column\": \"SkinThickness\",\n      \"properties\": {\n        \"dtype\": \"number\",\n        \"std\": 263.7684730531098,\n        \"min\": 0.0,\n        \"max\": 768.0,\n        \"num_unique_values\": 7,\n        \"samples\": [\n          768.0,\n          20.536458333333332,\n          32.0\n        ],\n        \"semantic_type\": \"\",\n        \"description\": \"\"\n      }\n    },\n    {\n      \"column\": \"Insulin\",\n      \"properties\": {\n        \"dtype\": \"number\",\n        \"std\": 350.26059167945886,\n        \"min\": 0.0,\n        \"max\": 846.0,\n        \"num_unique_values\": 7,\n        \"samples\": [\n          768.0,\n          79.79947916666667,\n          127.25\n        ],\n        \"semantic_type\": \"\",\n        \"description\": \"\"\n      }\n    },\n    {\n      \"column\": \"BMI\",\n      \"properties\": {\n        \"dtype\": \"number\",\n        \"std\": 262.05117817552093,\n        \"min\": 0.0,\n        \"max\": 768.0,\n        \"num_unique_values\": 8,\n        \"samples\": [\n          31.992578124999998,\n          32.0,\n          768.0\n        ],\n        \"semantic_type\": \"\",\n        \"description\": \"\"\n      }\n    },\n    {\n      \"column\": \"DiabetesPedigreeFunction\",\n      \"properties\": {\n        \"dtype\": \"number\",\n        \"std\": 271.3005221658502,\n        \"min\": 0.078,\n        \"max\": 768.0,\n        \"num_unique_values\": 8,\n        \"samples\": [\n          0.47187630208333325,\n          0.3725,\n          768.0\n        ],\n        \"semantic_type\": \"\",\n        \"description\": \"\"\n      }\n    },\n    {\n      \"column\": \"Age\",\n      \"properties\": {\n        \"dtype\": \"number\",\n        \"std\": 260.1941178528413,\n        \"min\": 11.760231540678685,\n        \"max\": 768.0,\n        \"num_unique_values\": 8,\n        \"samples\": [\n          33.240885416666664,\n          29.0,\n          768.0\n        ],\n        \"semantic_type\": \"\",\n        \"description\": \"\"\n      }\n    },\n    {\n      \"column\": \"Outcome\",\n      \"properties\": {\n        \"dtype\": \"number\",\n        \"std\": 271.3865920388932,\n        \"min\": 0.0,\n        \"max\": 768.0,\n        \"num_unique_values\": 5,\n        \"samples\": [\n          0.3489583333333333,\n          1.0,\n          0.47695137724279896\n        ],\n        \"semantic_type\": \"\",\n        \"description\": \"\"\n      }\n    }\n  ]\n}",
       "type": "dataframe"
      },
      "text/html": [
       "\n",
       "  <div id=\"df-8f3ab2dd-ff2d-4b82-8563-4359bd507a5a\" class=\"colab-df-container\">\n",
       "    <div>\n",
       "<style scoped>\n",
       "    .dataframe tbody tr th:only-of-type {\n",
       "        vertical-align: middle;\n",
       "    }\n",
       "\n",
       "    .dataframe tbody tr th {\n",
       "        vertical-align: top;\n",
       "    }\n",
       "\n",
       "    .dataframe thead th {\n",
       "        text-align: right;\n",
       "    }\n",
       "</style>\n",
       "<table border=\"1\" class=\"dataframe\">\n",
       "  <thead>\n",
       "    <tr style=\"text-align: right;\">\n",
       "      <th></th>\n",
       "      <th>Pregnancies</th>\n",
       "      <th>Glucose</th>\n",
       "      <th>BloodPressure</th>\n",
       "      <th>SkinThickness</th>\n",
       "      <th>Insulin</th>\n",
       "      <th>BMI</th>\n",
       "      <th>DiabetesPedigreeFunction</th>\n",
       "      <th>Age</th>\n",
       "      <th>Outcome</th>\n",
       "    </tr>\n",
       "  </thead>\n",
       "  <tbody>\n",
       "    <tr>\n",
       "      <th>count</th>\n",
       "      <td>768.000000</td>\n",
       "      <td>768.000000</td>\n",
       "      <td>768.000000</td>\n",
       "      <td>768.000000</td>\n",
       "      <td>768.000000</td>\n",
       "      <td>768.000000</td>\n",
       "      <td>768.000000</td>\n",
       "      <td>768.000000</td>\n",
       "      <td>768.000000</td>\n",
       "    </tr>\n",
       "    <tr>\n",
       "      <th>mean</th>\n",
       "      <td>3.845052</td>\n",
       "      <td>120.894531</td>\n",
       "      <td>69.105469</td>\n",
       "      <td>20.536458</td>\n",
       "      <td>79.799479</td>\n",
       "      <td>31.992578</td>\n",
       "      <td>0.471876</td>\n",
       "      <td>33.240885</td>\n",
       "      <td>0.348958</td>\n",
       "    </tr>\n",
       "    <tr>\n",
       "      <th>std</th>\n",
       "      <td>3.369578</td>\n",
       "      <td>31.972618</td>\n",
       "      <td>19.355807</td>\n",
       "      <td>15.952218</td>\n",
       "      <td>115.244002</td>\n",
       "      <td>7.884160</td>\n",
       "      <td>0.331329</td>\n",
       "      <td>11.760232</td>\n",
       "      <td>0.476951</td>\n",
       "    </tr>\n",
       "    <tr>\n",
       "      <th>min</th>\n",
       "      <td>0.000000</td>\n",
       "      <td>0.000000</td>\n",
       "      <td>0.000000</td>\n",
       "      <td>0.000000</td>\n",
       "      <td>0.000000</td>\n",
       "      <td>0.000000</td>\n",
       "      <td>0.078000</td>\n",
       "      <td>21.000000</td>\n",
       "      <td>0.000000</td>\n",
       "    </tr>\n",
       "    <tr>\n",
       "      <th>25%</th>\n",
       "      <td>1.000000</td>\n",
       "      <td>99.000000</td>\n",
       "      <td>62.000000</td>\n",
       "      <td>0.000000</td>\n",
       "      <td>0.000000</td>\n",
       "      <td>27.300000</td>\n",
       "      <td>0.243750</td>\n",
       "      <td>24.000000</td>\n",
       "      <td>0.000000</td>\n",
       "    </tr>\n",
       "    <tr>\n",
       "      <th>50%</th>\n",
       "      <td>3.000000</td>\n",
       "      <td>117.000000</td>\n",
       "      <td>72.000000</td>\n",
       "      <td>23.000000</td>\n",
       "      <td>30.500000</td>\n",
       "      <td>32.000000</td>\n",
       "      <td>0.372500</td>\n",
       "      <td>29.000000</td>\n",
       "      <td>0.000000</td>\n",
       "    </tr>\n",
       "    <tr>\n",
       "      <th>75%</th>\n",
       "      <td>6.000000</td>\n",
       "      <td>140.250000</td>\n",
       "      <td>80.000000</td>\n",
       "      <td>32.000000</td>\n",
       "      <td>127.250000</td>\n",
       "      <td>36.600000</td>\n",
       "      <td>0.626250</td>\n",
       "      <td>41.000000</td>\n",
       "      <td>1.000000</td>\n",
       "    </tr>\n",
       "    <tr>\n",
       "      <th>max</th>\n",
       "      <td>17.000000</td>\n",
       "      <td>199.000000</td>\n",
       "      <td>122.000000</td>\n",
       "      <td>99.000000</td>\n",
       "      <td>846.000000</td>\n",
       "      <td>67.100000</td>\n",
       "      <td>2.420000</td>\n",
       "      <td>81.000000</td>\n",
       "      <td>1.000000</td>\n",
       "    </tr>\n",
       "  </tbody>\n",
       "</table>\n",
       "</div>\n",
       "    <div class=\"colab-df-buttons\">\n",
       "\n",
       "  <div class=\"colab-df-container\">\n",
       "    <button class=\"colab-df-convert\" onclick=\"convertToInteractive('df-8f3ab2dd-ff2d-4b82-8563-4359bd507a5a')\"\n",
       "            title=\"Convert this dataframe to an interactive table.\"\n",
       "            style=\"display:none;\">\n",
       "\n",
       "  <svg xmlns=\"http://www.w3.org/2000/svg\" height=\"24px\" viewBox=\"0 -960 960 960\">\n",
       "    <path d=\"M120-120v-720h720v720H120Zm60-500h600v-160H180v160Zm220 220h160v-160H400v160Zm0 220h160v-160H400v160ZM180-400h160v-160H180v160Zm440 0h160v-160H620v160ZM180-180h160v-160H180v160Zm440 0h160v-160H620v160Z\"/>\n",
       "  </svg>\n",
       "    </button>\n",
       "\n",
       "  <style>\n",
       "    .colab-df-container {\n",
       "      display:flex;\n",
       "      gap: 12px;\n",
       "    }\n",
       "\n",
       "    .colab-df-convert {\n",
       "      background-color: #E8F0FE;\n",
       "      border: none;\n",
       "      border-radius: 50%;\n",
       "      cursor: pointer;\n",
       "      display: none;\n",
       "      fill: #1967D2;\n",
       "      height: 32px;\n",
       "      padding: 0 0 0 0;\n",
       "      width: 32px;\n",
       "    }\n",
       "\n",
       "    .colab-df-convert:hover {\n",
       "      background-color: #E2EBFA;\n",
       "      box-shadow: 0px 1px 2px rgba(60, 64, 67, 0.3), 0px 1px 3px 1px rgba(60, 64, 67, 0.15);\n",
       "      fill: #174EA6;\n",
       "    }\n",
       "\n",
       "    .colab-df-buttons div {\n",
       "      margin-bottom: 4px;\n",
       "    }\n",
       "\n",
       "    [theme=dark] .colab-df-convert {\n",
       "      background-color: #3B4455;\n",
       "      fill: #D2E3FC;\n",
       "    }\n",
       "\n",
       "    [theme=dark] .colab-df-convert:hover {\n",
       "      background-color: #434B5C;\n",
       "      box-shadow: 0px 1px 3px 1px rgba(0, 0, 0, 0.15);\n",
       "      filter: drop-shadow(0px 1px 2px rgba(0, 0, 0, 0.3));\n",
       "      fill: #FFFFFF;\n",
       "    }\n",
       "  </style>\n",
       "\n",
       "    <script>\n",
       "      const buttonEl =\n",
       "        document.querySelector('#df-8f3ab2dd-ff2d-4b82-8563-4359bd507a5a button.colab-df-convert');\n",
       "      buttonEl.style.display =\n",
       "        google.colab.kernel.accessAllowed ? 'block' : 'none';\n",
       "\n",
       "      async function convertToInteractive(key) {\n",
       "        const element = document.querySelector('#df-8f3ab2dd-ff2d-4b82-8563-4359bd507a5a');\n",
       "        const dataTable =\n",
       "          await google.colab.kernel.invokeFunction('convertToInteractive',\n",
       "                                                    [key], {});\n",
       "        if (!dataTable) return;\n",
       "\n",
       "        const docLinkHtml = 'Like what you see? Visit the ' +\n",
       "          '<a target=\"_blank\" href=https://colab.research.google.com/notebooks/data_table.ipynb>data table notebook</a>'\n",
       "          + ' to learn more about interactive tables.';\n",
       "        element.innerHTML = '';\n",
       "        dataTable['output_type'] = 'display_data';\n",
       "        await google.colab.output.renderOutput(dataTable, element);\n",
       "        const docLink = document.createElement('div');\n",
       "        docLink.innerHTML = docLinkHtml;\n",
       "        element.appendChild(docLink);\n",
       "      }\n",
       "    </script>\n",
       "  </div>\n",
       "\n",
       "\n",
       "<div id=\"df-91b1bc4a-4121-4998-9c2f-5eaa395a7b80\">\n",
       "  <button class=\"colab-df-quickchart\" onclick=\"quickchart('df-91b1bc4a-4121-4998-9c2f-5eaa395a7b80')\"\n",
       "            title=\"Suggest charts\"\n",
       "            style=\"display:none;\">\n",
       "\n",
       "<svg xmlns=\"http://www.w3.org/2000/svg\" height=\"24px\"viewBox=\"0 0 24 24\"\n",
       "     width=\"24px\">\n",
       "    <g>\n",
       "        <path d=\"M19 3H5c-1.1 0-2 .9-2 2v14c0 1.1.9 2 2 2h14c1.1 0 2-.9 2-2V5c0-1.1-.9-2-2-2zM9 17H7v-7h2v7zm4 0h-2V7h2v10zm4 0h-2v-4h2v4z\"/>\n",
       "    </g>\n",
       "</svg>\n",
       "  </button>\n",
       "\n",
       "<style>\n",
       "  .colab-df-quickchart {\n",
       "      --bg-color: #E8F0FE;\n",
       "      --fill-color: #1967D2;\n",
       "      --hover-bg-color: #E2EBFA;\n",
       "      --hover-fill-color: #174EA6;\n",
       "      --disabled-fill-color: #AAA;\n",
       "      --disabled-bg-color: #DDD;\n",
       "  }\n",
       "\n",
       "  [theme=dark] .colab-df-quickchart {\n",
       "      --bg-color: #3B4455;\n",
       "      --fill-color: #D2E3FC;\n",
       "      --hover-bg-color: #434B5C;\n",
       "      --hover-fill-color: #FFFFFF;\n",
       "      --disabled-bg-color: #3B4455;\n",
       "      --disabled-fill-color: #666;\n",
       "  }\n",
       "\n",
       "  .colab-df-quickchart {\n",
       "    background-color: var(--bg-color);\n",
       "    border: none;\n",
       "    border-radius: 50%;\n",
       "    cursor: pointer;\n",
       "    display: none;\n",
       "    fill: var(--fill-color);\n",
       "    height: 32px;\n",
       "    padding: 0;\n",
       "    width: 32px;\n",
       "  }\n",
       "\n",
       "  .colab-df-quickchart:hover {\n",
       "    background-color: var(--hover-bg-color);\n",
       "    box-shadow: 0 1px 2px rgba(60, 64, 67, 0.3), 0 1px 3px 1px rgba(60, 64, 67, 0.15);\n",
       "    fill: var(--button-hover-fill-color);\n",
       "  }\n",
       "\n",
       "  .colab-df-quickchart-complete:disabled,\n",
       "  .colab-df-quickchart-complete:disabled:hover {\n",
       "    background-color: var(--disabled-bg-color);\n",
       "    fill: var(--disabled-fill-color);\n",
       "    box-shadow: none;\n",
       "  }\n",
       "\n",
       "  .colab-df-spinner {\n",
       "    border: 2px solid var(--fill-color);\n",
       "    border-color: transparent;\n",
       "    border-bottom-color: var(--fill-color);\n",
       "    animation:\n",
       "      spin 1s steps(1) infinite;\n",
       "  }\n",
       "\n",
       "  @keyframes spin {\n",
       "    0% {\n",
       "      border-color: transparent;\n",
       "      border-bottom-color: var(--fill-color);\n",
       "      border-left-color: var(--fill-color);\n",
       "    }\n",
       "    20% {\n",
       "      border-color: transparent;\n",
       "      border-left-color: var(--fill-color);\n",
       "      border-top-color: var(--fill-color);\n",
       "    }\n",
       "    30% {\n",
       "      border-color: transparent;\n",
       "      border-left-color: var(--fill-color);\n",
       "      border-top-color: var(--fill-color);\n",
       "      border-right-color: var(--fill-color);\n",
       "    }\n",
       "    40% {\n",
       "      border-color: transparent;\n",
       "      border-right-color: var(--fill-color);\n",
       "      border-top-color: var(--fill-color);\n",
       "    }\n",
       "    60% {\n",
       "      border-color: transparent;\n",
       "      border-right-color: var(--fill-color);\n",
       "    }\n",
       "    80% {\n",
       "      border-color: transparent;\n",
       "      border-right-color: var(--fill-color);\n",
       "      border-bottom-color: var(--fill-color);\n",
       "    }\n",
       "    90% {\n",
       "      border-color: transparent;\n",
       "      border-bottom-color: var(--fill-color);\n",
       "    }\n",
       "  }\n",
       "</style>\n",
       "\n",
       "  <script>\n",
       "    async function quickchart(key) {\n",
       "      const quickchartButtonEl =\n",
       "        document.querySelector('#' + key + ' button');\n",
       "      quickchartButtonEl.disabled = true;  // To prevent multiple clicks.\n",
       "      quickchartButtonEl.classList.add('colab-df-spinner');\n",
       "      try {\n",
       "        const charts = await google.colab.kernel.invokeFunction(\n",
       "            'suggestCharts', [key], {});\n",
       "      } catch (error) {\n",
       "        console.error('Error during call to suggestCharts:', error);\n",
       "      }\n",
       "      quickchartButtonEl.classList.remove('colab-df-spinner');\n",
       "      quickchartButtonEl.classList.add('colab-df-quickchart-complete');\n",
       "    }\n",
       "    (() => {\n",
       "      let quickchartButtonEl =\n",
       "        document.querySelector('#df-91b1bc4a-4121-4998-9c2f-5eaa395a7b80 button');\n",
       "      quickchartButtonEl.style.display =\n",
       "        google.colab.kernel.accessAllowed ? 'block' : 'none';\n",
       "    })();\n",
       "  </script>\n",
       "</div>\n",
       "\n",
       "    </div>\n",
       "  </div>\n"
      ],
      "text/plain": [
       "       Pregnancies     Glucose  BloodPressure  SkinThickness     Insulin  \\\n",
       "count   768.000000  768.000000     768.000000     768.000000  768.000000   \n",
       "mean      3.845052  120.894531      69.105469      20.536458   79.799479   \n",
       "std       3.369578   31.972618      19.355807      15.952218  115.244002   \n",
       "min       0.000000    0.000000       0.000000       0.000000    0.000000   \n",
       "25%       1.000000   99.000000      62.000000       0.000000    0.000000   \n",
       "50%       3.000000  117.000000      72.000000      23.000000   30.500000   \n",
       "75%       6.000000  140.250000      80.000000      32.000000  127.250000   \n",
       "max      17.000000  199.000000     122.000000      99.000000  846.000000   \n",
       "\n",
       "              BMI  DiabetesPedigreeFunction         Age     Outcome  \n",
       "count  768.000000                768.000000  768.000000  768.000000  \n",
       "mean    31.992578                  0.471876   33.240885    0.348958  \n",
       "std      7.884160                  0.331329   11.760232    0.476951  \n",
       "min      0.000000                  0.078000   21.000000    0.000000  \n",
       "25%     27.300000                  0.243750   24.000000    0.000000  \n",
       "50%     32.000000                  0.372500   29.000000    0.000000  \n",
       "75%     36.600000                  0.626250   41.000000    1.000000  \n",
       "max     67.100000                  2.420000   81.000000    1.000000  "
      ]
     },
     "execution_count": 13,
     "metadata": {},
     "output_type": "execute_result"
    }
   ],
   "source": [
    "df.describe()\n",
    "# round(df.describe(),2)"
   ]
  },
  {
   "cell_type": "code",
   "execution_count": 14,
   "id": "9dafe309",
   "metadata": {
    "colab": {
     "base_uri": "https://localhost:8080/",
     "height": 366
    },
    "executionInfo": {
     "elapsed": 5,
     "status": "ok",
     "timestamp": 1726554497787,
     "user": {
      "displayName": "Switra yana",
      "userId": "05526936548485182607"
     },
     "user_tz": -480
    },
    "id": "9dafe309",
    "outputId": "430b51d1-d16a-42df-f141-940860df620f",
    "scrolled": true
   },
   "outputs": [
    {
     "data": {
      "text/html": [
       "<div>\n",
       "<style scoped>\n",
       "    .dataframe tbody tr th:only-of-type {\n",
       "        vertical-align: middle;\n",
       "    }\n",
       "\n",
       "    .dataframe tbody tr th {\n",
       "        vertical-align: top;\n",
       "    }\n",
       "\n",
       "    .dataframe thead th {\n",
       "        text-align: right;\n",
       "    }\n",
       "</style>\n",
       "<table border=\"1\" class=\"dataframe\">\n",
       "  <thead>\n",
       "    <tr style=\"text-align: right;\">\n",
       "      <th></th>\n",
       "      <th>0</th>\n",
       "    </tr>\n",
       "  </thead>\n",
       "  <tbody>\n",
       "    <tr>\n",
       "      <th>Pregnancies</th>\n",
       "      <td>0</td>\n",
       "    </tr>\n",
       "    <tr>\n",
       "      <th>Glucose</th>\n",
       "      <td>0</td>\n",
       "    </tr>\n",
       "    <tr>\n",
       "      <th>BloodPressure</th>\n",
       "      <td>0</td>\n",
       "    </tr>\n",
       "    <tr>\n",
       "      <th>SkinThickness</th>\n",
       "      <td>0</td>\n",
       "    </tr>\n",
       "    <tr>\n",
       "      <th>Insulin</th>\n",
       "      <td>0</td>\n",
       "    </tr>\n",
       "    <tr>\n",
       "      <th>BMI</th>\n",
       "      <td>0</td>\n",
       "    </tr>\n",
       "    <tr>\n",
       "      <th>DiabetesPedigreeFunction</th>\n",
       "      <td>0</td>\n",
       "    </tr>\n",
       "    <tr>\n",
       "      <th>Age</th>\n",
       "      <td>0</td>\n",
       "    </tr>\n",
       "    <tr>\n",
       "      <th>Outcome</th>\n",
       "      <td>0</td>\n",
       "    </tr>\n",
       "  </tbody>\n",
       "</table>\n",
       "</div><br><label><b>dtype:</b> int64</label>"
      ],
      "text/plain": [
       "Pregnancies                 0\n",
       "Glucose                     0\n",
       "BloodPressure               0\n",
       "SkinThickness               0\n",
       "Insulin                     0\n",
       "BMI                         0\n",
       "DiabetesPedigreeFunction    0\n",
       "Age                         0\n",
       "Outcome                     0\n",
       "dtype: int64"
      ]
     },
     "execution_count": 14,
     "metadata": {},
     "output_type": "execute_result"
    }
   ],
   "source": [
    "#Mengecek adanya missing value (data yang kosong)\n",
    "df.isnull().sum()"
   ]
  },
  {
   "cell_type": "code",
   "execution_count": 15,
   "id": "10af904d",
   "metadata": {
    "executionInfo": {
     "elapsed": 4,
     "status": "ok",
     "timestamp": 1726554497787,
     "user": {
      "displayName": "Switra yana",
      "userId": "05526936548485182607"
     },
     "user_tz": -480
    },
    "id": "10af904d"
   },
   "outputs": [],
   "source": [
    "#Menghapus data duplikat\n",
    "df.drop_duplicates(inplace=True)"
   ]
  },
  {
   "cell_type": "code",
   "execution_count": 16,
   "id": "248362bf",
   "metadata": {
    "colab": {
     "base_uri": "https://localhost:8080/"
    },
    "executionInfo": {
     "elapsed": 4,
     "status": "ok",
     "timestamp": 1726554497787,
     "user": {
      "displayName": "Switra yana",
      "userId": "05526936548485182607"
     },
     "user_tz": -480
    },
    "id": "248362bf",
    "outputId": "a9ed44c7-5d27-4bc9-ee1d-33f21c8186a1"
   },
   "outputs": [
    {
     "data": {
      "text/plain": [
       "(768, 9)"
      ]
     },
     "execution_count": 16,
     "metadata": {},
     "output_type": "execute_result"
    }
   ],
   "source": [
    "#Mengecek baris dan kolom\n",
    "df.shape"
   ]
  },
  {
   "cell_type": "markdown",
   "id": "d74f99fa",
   "metadata": {
    "id": "d74f99fa"
   },
   "source": [
    "# EDA"
   ]
  },
  {
   "cell_type": "code",
   "execution_count": 17,
   "id": "1022c49d",
   "metadata": {
    "colab": {
     "base_uri": "https://localhost:8080/",
     "height": 1000
    },
    "executionInfo": {
     "elapsed": 2054,
     "status": "ok",
     "timestamp": 1726554499838,
     "user": {
      "displayName": "Switra yana",
      "userId": "05526936548485182607"
     },
     "user_tz": -480
    },
    "id": "1022c49d",
    "outputId": "b9f75292-341c-4d15-d8c0-3c63c3c0d21d"
   },
   "outputs": [
    {
     "data": {
      "text/plain": [
       "<Axes: >"
      ]
     },
     "execution_count": 17,
     "metadata": {},
     "output_type": "execute_result"
    },
    {
     "data": {
      "image/png": "[encoded data removed]",
      "text/plain": [
       "<Figure size 1500x1000 with 2 Axes>"
      ]
     },
     "metadata": {},
     "output_type": "display_data"
    }
   ],
   "source": [
    "# 1. Mengetahui atribut yang memiliki korelasi tinggi dengan label\n",
    "f, ax = plt.subplots(figsize=(15,10))\n",
    "sns.heatmap(df.corr(), annot=True, cmap='coolwarm', linewidths=.5)"
   ]
  },
  {
   "cell_type": "code",
   "execution_count": 18,
   "id": "50e6aafd",
   "metadata": {
    "colab": {
     "base_uri": "https://localhost:8080/",
     "height": 713
    },
    "executionInfo": {
     "elapsed": 430,
     "status": "ok",
     "timestamp": 1726554500267,
     "user": {
      "displayName": "Switra yana",
      "userId": "05526936548485182607"
     },
     "user_tz": -480
    },
    "id": "50e6aafd",
    "outputId": "368973af-418a-4865-e0af-e3e99fdf33b2"
   },
   "outputs": [
    {
     "data": {
      "text/plain": [
       "<Axes: xlabel='Glucose', ylabel='Count'>"
      ]
     },
     "execution_count": 18,
     "metadata": {},
     "output_type": "execute_result"
    },
    {
     "data": {
      "image/png": "[encoded data removed]",
      "text/plain": [
       "<Figure size 1200x800 with 1 Axes>"
      ]
     },
     "metadata": {},
     "output_type": "display_data"
    }
   ],
   "source": [
    "#2. Penyakit Diabetes berdasarkan Glukosa\n",
    "plt.subplots(figsize=(12,8))\n",
    "sns.histplot(data=df, x = 'Glucose', hue=\"Outcome\", multiple=\"dodge\",shrink=.9)"
   ]
  },
  {
   "cell_type": "code",
   "execution_count": 19,
   "id": "bae04c4c",
   "metadata": {
    "colab": {
     "base_uri": "https://localhost:8080/",
     "height": 713
    },
    "executionInfo": {
     "elapsed": 2268,
     "status": "ok",
     "timestamp": 1726554502533,
     "user": {
      "displayName": "Switra yana",
      "userId": "05526936548485182607"
     },
     "user_tz": -480
    },
    "id": "bae04c4c",
    "outputId": "c79362ba-0e5b-4018-e7f1-a910706fe607"
   },
   "outputs": [
    {
     "data": {
      "text/plain": [
       "<Axes: xlabel='Age', ylabel='Count'>"
      ]
     },
     "execution_count": 19,
     "metadata": {},
     "output_type": "execute_result"
    },
    {
     "data": {
      "image/png": "[encoded data removed]",
      "text/plain": [
       "<Figure size 1200x800 with 1 Axes>"
      ]
     },
     "metadata": {},
     "output_type": "display_data"
    }
   ],
   "source": [
    "#3. Penyakit Diabetes berdasarkan umur\n",
    "plt.subplots(figsize=(12,8))\n",
    "sns.histplot(data=df, x = 'Age', hue=\"Outcome\", multiple=\"dodge\",shrink=.9)"
   ]
  },
  {
   "cell_type": "code",
   "execution_count": 20,
   "id": "d422b75c",
   "metadata": {
    "colab": {
     "base_uri": "https://localhost:8080/",
     "height": 713
    },
    "executionInfo": {
     "elapsed": 1469,
     "status": "ok",
     "timestamp": 1726554504000,
     "user": {
      "displayName": "Switra yana",
      "userId": "05526936548485182607"
     },
     "user_tz": -480
    },
    "id": "d422b75c",
    "outputId": "5898f5a1-3266-48e2-dca2-f7c54b123870"
   },
   "outputs": [
    {
     "data": {
      "text/plain": [
       "<Axes: xlabel='Insulin', ylabel='Count'>"
      ]
     },
     "execution_count": 20,
     "metadata": {},
     "output_type": "execute_result"
    },
    {
     "data": {
      "image/png": "[encoded data removed]",
      "text/plain": [
       "<Figure size 1200x800 with 1 Axes>"
      ]
     },
     "metadata": {},
     "output_type": "display_data"
    }
   ],
   "source": [
    "#4. Penyakit diabetes berdasarkan insulin\n",
    "plt.subplots(figsize=(12,8))\n",
    "sns.histplot(data=df, x = 'Insulin', hue=\"Outcome\", multiple=\"dodge\",shrink=.9)"
   ]
  },
  {
   "cell_type": "code",
   "execution_count": 21,
   "id": "f3de8888",
   "metadata": {
    "colab": {
     "base_uri": "https://localhost:8080/",
     "height": 713
    },
    "executionInfo": {
     "elapsed": 1779,
     "status": "ok",
     "timestamp": 1726554505778,
     "user": {
      "displayName": "Switra yana",
      "userId": "05526936548485182607"
     },
     "user_tz": -480
    },
    "id": "f3de8888",
    "outputId": "0da60e39-9b9b-403d-c211-75b375389d4e"
   },
   "outputs": [
    {
     "data": {
      "text/plain": [
       "<Axes: xlabel='BMI', ylabel='Count'>"
      ]
     },
     "execution_count": 21,
     "metadata": {},
     "output_type": "execute_result"
    },
    {
     "data": {
      "image/png": "[encoded data removed]",
      "text/plain": [
       "<Figure size 1200x800 with 1 Axes>"
      ]
     },
     "metadata": {},
     "output_type": "display_data"
    }
   ],
   "source": [
    "#5. Penyakit diabetes berdasarkan BMI\n",
    "plt.subplots(figsize=(12,8))\n",
    "sns.histplot(data=df, x = 'BMI', hue=\"Outcome\", multiple=\"dodge\",shrink=.9)"
   ]
  },
  {
   "cell_type": "code",
   "execution_count": 22,
   "id": "a38a11e2",
   "metadata": {
    "colab": {
     "base_uri": "https://localhost:8080/",
     "height": 713
    },
    "executionInfo": {
     "elapsed": 452,
     "status": "ok",
     "timestamp": 1726554506228,
     "user": {
      "displayName": "Switra yana",
      "userId": "05526936548485182607"
     },
     "user_tz": -480
    },
    "id": "a38a11e2",
    "outputId": "dc97909d-c167-40cd-aa00-ed075706b816"
   },
   "outputs": [
    {
     "data": {
      "text/plain": [
       "<Axes: xlabel='DiabetesPedigreeFunction', ylabel='Count'>"
      ]
     },
     "execution_count": 22,
     "metadata": {},
     "output_type": "execute_result"
    },
    {
     "data": {
      "image/png": "[encoded data removed]",
      "text/plain": [
       "<Figure size 1200x800 with 1 Axes>"
      ]
     },
     "metadata": {},
     "output_type": "display_data"
    }
   ],
   "source": [
    "#6. Penyakit diabetes berdasarkan DiabetesPedigreeFunction\n",
    "plt.subplots(figsize=(12,8))\n",
    "sns.histplot(data=df, x = 'DiabetesPedigreeFunction', hue=\"Outcome\", multiple=\"dodge\",shrink=.9)"
   ]
  },
  {
   "cell_type": "code",
   "execution_count": 23,
   "id": "75959e85",
   "metadata": {
    "colab": {
     "base_uri": "https://localhost:8080/",
     "height": 713
    },
    "executionInfo": {
     "elapsed": 1745,
     "status": "ok",
     "timestamp": 1726554507970,
     "user": {
      "displayName": "Switra yana",
      "userId": "05526936548485182607"
     },
     "user_tz": -480
    },
    "id": "75959e85",
    "outputId": "1f403c16-1aaa-47c2-dc55-e07183a261ea"
   },
   "outputs": [
    {
     "data": {
      "text/plain": [
       "<Axes: xlabel='Pregnancies', ylabel='Count'>"
      ]
     },
     "execution_count": 23,
     "metadata": {},
     "output_type": "execute_result"
    },
    {
     "data": {
      "image/png": "[encoded data removed]",
      "text/plain": [
       "<Figure size 1200x800 with 1 Axes>"
      ]
     },
     "metadata": {},
     "output_type": "display_data"
    }
   ],
   "source": [
    "#7. Penyakit diabetes berdasarkan Pregnancies\n",
    "plt.subplots(figsize=(12,8))\n",
    "sns.histplot(data=df, x = 'Pregnancies', hue=\"Outcome\", multiple=\"dodge\",shrink=.9)"
   ]
  },
  {
   "cell_type": "code",
   "execution_count": 24,
   "id": "ca205b67",
   "metadata": {
    "colab": {
     "base_uri": "https://localhost:8080/",
     "height": 449
    },
    "executionInfo": {
     "elapsed": 4,
     "status": "ok",
     "timestamp": 1726554507970,
     "user": {
      "displayName": "Switra yana",
      "userId": "05526936548485182607"
     },
     "user_tz": -480
    },
    "id": "ca205b67",
    "outputId": "c2e3355c-097e-47e7-f62a-5a73ce0320b3",
    "scrolled": false
   },
   "outputs": [
    {
     "data": {
      "image/png": "[encoded data removed]",
      "text/plain": [
       "<Figure size 640x480 with 1 Axes>"
      ]
     },
     "metadata": {},
     "output_type": "display_data"
    }
   ],
   "source": [
    "#8. Korelasi antara atribut glukosa dengan insulin\n",
    "sns.scatterplot(x='Glucose',y='Insulin',data=df)\n",
    "plt.show()"
   ]
  },
  {
   "cell_type": "code",
   "execution_count": 25,
   "id": "3b95ebb9",
   "metadata": {
    "colab": {
     "base_uri": "https://localhost:8080/",
     "height": 449
    },
    "executionInfo": {
     "elapsed": 459,
     "status": "ok",
     "timestamp": 1726554508425,
     "user": {
      "displayName": "Switra yana",
      "userId": "05526936548485182607"
     },
     "user_tz": -480
    },
    "id": "3b95ebb9",
    "outputId": "aa1bb337-88cf-474c-ab96-df059a52ceac"
   },
   "outputs": [
    {
     "data": {
      "image/png": "[encoded data removed]",
      "text/plain": [
       "<Figure size 640x480 with 1 Axes>"
      ]
     },
     "metadata": {},
     "output_type": "display_data"
    }
   ],
   "source": [
    "#9. Korelasi antara atribut glukosa dengan insulin\n",
    "sns.scatterplot(x='Age',y='SkinThickness',data=df)\n",
    "plt.show()"
   ]
  },
  {
   "cell_type": "code",
   "execution_count": 26,
   "id": "c3c3fefa",
   "metadata": {
    "colab": {
     "base_uri": "https://localhost:8080/",
     "height": 484
    },
    "executionInfo": {
     "elapsed": 450,
     "status": "ok",
     "timestamp": 1726554508873,
     "user": {
      "displayName": "Switra yana",
      "userId": "05526936548485182607"
     },
     "user_tz": -480
    },
    "id": "c3c3fefa",
    "outputId": "fa1b8f6f-bc21-4d09-e1f1-bfe9c5842599"
   },
   "outputs": [
    {
     "name": "stdout",
     "output_type": "stream",
     "text": [
      "Jumlah Kelas 0 (Tidak Diabetes):  500\n",
      "Jumlah Kelas 1 (Diabetes) :  268\n"
     ]
    },
    {
     "data": {
      "image/png": "[encoded data removed]",
      "text/plain": [
       "<Figure size 640x480 with 1 Axes>"
      ]
     },
     "metadata": {},
     "output_type": "display_data"
    }
   ],
   "source": [
    "#10. Jumlah masing-masing label/kelas penderita diabetes\n",
    "sns.countplot(data=df, x = 'Outcome', label='Count')\n",
    "A, P = df['Outcome'].value_counts()\n",
    "print('Jumlah Kelas 0 (Tidak Diabetes): ',A)\n",
    "print('Jumlah Kelas 1 (Diabetes) : ',P)"
   ]
  },
  {
   "cell_type": "markdown",
   "id": "UDLdk_MExUph",
   "metadata": {
    "id": "UDLdk_MExUph"
   },
   "source": [
    "# Split the Dataset"
   ]
  },
  {
   "cell_type": "code",
   "execution_count": 27,
   "id": "5fe8cda4",
   "metadata": {
    "executionInfo": {
     "elapsed": 408,
     "status": "ok",
     "timestamp": 1726554509279,
     "user": {
      "displayName": "Switra yana",
      "userId": "05526936548485182607"
     },
     "user_tz": -480
    },
    "id": "5fe8cda4"
   },
   "outputs": [],
   "source": [
    "#Membagi data training dan testing dengan split data\n",
    "from sklearn.model_selection import train_test_split\n",
    "X_train, X_test, Y_train, Y_test = train_test_split(X, Y, test_size=0.20, random_state=0)"
   ]
  },
  {
   "cell_type": "code",
   "execution_count": 28,
   "id": "ooy4O4Chvf0N",
   "metadata": {
    "colab": {
     "base_uri": "https://localhost:8080/",
     "height": 424
    },
    "executionInfo": {
     "elapsed": 6,
     "status": "ok",
     "timestamp": 1726554509279,
     "user": {
      "displayName": "Switra yana",
      "userId": "05526936548485182607"
     },
     "user_tz": -480
    },
    "id": "ooy4O4Chvf0N",
    "outputId": "c23ca94d-763c-49a5-a17e-ced27556bc0c"
   },
   "outputs": [
    {
     "data": {
      "application/vnd.google.colaboratory.intrinsic+json": {
       "summary": "{\n  \"name\": \"X_train\",\n  \"rows\": 614,\n  \"fields\": [\n    {\n      \"column\": \"Pregnancies\",\n      \"properties\": {\n        \"dtype\": \"number\",\n        \"std\": 3,\n        \"min\": 0,\n        \"max\": 17,\n        \"num_unique_values\": 17,\n        \"samples\": [\n          7,\n          4,\n          11\n        ],\n        \"semantic_type\": \"\",\n        \"description\": \"\"\n      }\n    },\n    {\n      \"column\": \"Glucose\",\n      \"properties\": {\n        \"dtype\": \"number\",\n        \"std\": 31,\n        \"min\": 0,\n        \"max\": 198,\n        \"num_unique_values\": 128,\n        \"samples\": [\n          152,\n          139,\n          102\n        ],\n        \"semantic_type\": \"\",\n        \"description\": \"\"\n      }\n    },\n    {\n      \"column\": \"BloodPressure\",\n      \"properties\": {\n        \"dtype\": \"number\",\n        \"std\": 19,\n        \"min\": 0,\n        \"max\": 122,\n        \"num_unique_values\": 47,\n        \"samples\": [\n          44,\n          40,\n          61\n        ],\n        \"semantic_type\": \"\",\n        \"description\": \"\"\n      }\n    },\n    {\n      \"column\": \"SkinThickness\",\n      \"properties\": {\n        \"dtype\": \"number\",\n        \"std\": 16,\n        \"min\": 0,\n        \"max\": 99,\n        \"num_unique_values\": 51,\n        \"samples\": [\n          12,\n          10,\n          56\n        ],\n        \"semantic_type\": \"\",\n        \"description\": \"\"\n      }\n    },\n    {\n      \"column\": \"Insulin\",\n      \"properties\": {\n        \"dtype\": \"number\",\n        \"std\": 117,\n        \"min\": 0,\n        \"max\": 846,\n        \"num_unique_values\": 166,\n        \"samples\": [\n          170,\n          188,\n          65\n        ],\n        \"semantic_type\": \"\",\n        \"description\": \"\"\n      }\n    },\n    {\n      \"column\": \"BMI\",\n      \"properties\": {\n        \"dtype\": \"number\",\n        \"std\": 7.914275888671449,\n        \"min\": 0.0,\n        \"max\": 67.1,\n        \"num_unique_values\": 230,\n        \"samples\": [\n          40.0,\n          36.3,\n          35.1\n        ],\n        \"semantic_type\": \"\",\n        \"description\": \"\"\n      }\n    },\n    {\n      \"column\": \"DiabetesPedigreeFunction\",\n      \"properties\": {\n        \"dtype\": \"number\",\n        \"std\": 0.333203216244014,\n        \"min\": 0.078,\n        \"max\": 2.42,\n        \"num_unique_values\": 440,\n        \"samples\": [\n          0.759,\n          0.378,\n          0.571\n        ],\n        \"semantic_type\": \"\",\n        \"description\": \"\"\n      }\n    },\n    {\n      \"column\": \"Age\",\n      \"properties\": {\n        \"dtype\": \"number\",\n        \"std\": 12,\n        \"min\": 21,\n        \"max\": 81,\n        \"num_unique_values\": 52,\n        \"samples\": [\n          36,\n          34,\n          68\n        ],\n        \"semantic_type\": \"\",\n        \"description\": \"\"\n      }\n    }\n  ]\n}",
       "type": "dataframe",
       "variable_name": "X_train"
      },
      "text/html": [
       "\n",
       "  <div id=\"df-dfaccddb-dd8c-492f-b62e-92b12ab6056c\" class=\"colab-df-container\">\n",
       "    <div>\n",
       "<style scoped>\n",
       "    .dataframe tbody tr th:only-of-type {\n",
       "        vertical-align: middle;\n",
       "    }\n",
       "\n",
       "    .dataframe tbody tr th {\n",
       "        vertical-align: top;\n",
       "    }\n",
       "\n",
       "    .dataframe thead th {\n",
       "        text-align: right;\n",
       "    }\n",
       "</style>\n",
       "<table border=\"1\" class=\"dataframe\">\n",
       "  <thead>\n",
       "    <tr style=\"text-align: right;\">\n",
       "      <th></th>\n",
       "      <th>Pregnancies</th>\n",
       "      <th>Glucose</th>\n",
       "      <th>BloodPressure</th>\n",
       "      <th>SkinThickness</th>\n",
       "      <th>Insulin</th>\n",
       "      <th>BMI</th>\n",
       "      <th>DiabetesPedigreeFunction</th>\n",
       "      <th>Age</th>\n",
       "    </tr>\n",
       "  </thead>\n",
       "  <tbody>\n",
       "    <tr>\n",
       "      <th>603</th>\n",
       "      <td>7</td>\n",
       "      <td>150</td>\n",
       "      <td>78</td>\n",
       "      <td>29</td>\n",
       "      <td>126</td>\n",
       "      <td>35.2</td>\n",
       "      <td>0.692</td>\n",
       "      <td>54</td>\n",
       "    </tr>\n",
       "    <tr>\n",
       "      <th>118</th>\n",
       "      <td>4</td>\n",
       "      <td>97</td>\n",
       "      <td>60</td>\n",
       "      <td>23</td>\n",
       "      <td>0</td>\n",
       "      <td>28.2</td>\n",
       "      <td>0.443</td>\n",
       "      <td>22</td>\n",
       "    </tr>\n",
       "    <tr>\n",
       "      <th>247</th>\n",
       "      <td>0</td>\n",
       "      <td>165</td>\n",
       "      <td>90</td>\n",
       "      <td>33</td>\n",
       "      <td>680</td>\n",
       "      <td>52.3</td>\n",
       "      <td>0.427</td>\n",
       "      <td>23</td>\n",
       "    </tr>\n",
       "    <tr>\n",
       "      <th>157</th>\n",
       "      <td>1</td>\n",
       "      <td>109</td>\n",
       "      <td>56</td>\n",
       "      <td>21</td>\n",
       "      <td>135</td>\n",
       "      <td>25.2</td>\n",
       "      <td>0.833</td>\n",
       "      <td>23</td>\n",
       "    </tr>\n",
       "    <tr>\n",
       "      <th>468</th>\n",
       "      <td>8</td>\n",
       "      <td>120</td>\n",
       "      <td>0</td>\n",
       "      <td>0</td>\n",
       "      <td>0</td>\n",
       "      <td>30.0</td>\n",
       "      <td>0.183</td>\n",
       "      <td>38</td>\n",
       "    </tr>\n",
       "    <tr>\n",
       "      <th>...</th>\n",
       "      <td>...</td>\n",
       "      <td>...</td>\n",
       "      <td>...</td>\n",
       "      <td>...</td>\n",
       "      <td>...</td>\n",
       "      <td>...</td>\n",
       "      <td>...</td>\n",
       "      <td>...</td>\n",
       "    </tr>\n",
       "    <tr>\n",
       "      <th>763</th>\n",
       "      <td>10</td>\n",
       "      <td>101</td>\n",
       "      <td>76</td>\n",
       "      <td>48</td>\n",
       "      <td>180</td>\n",
       "      <td>32.9</td>\n",
       "      <td>0.171</td>\n",
       "      <td>63</td>\n",
       "    </tr>\n",
       "    <tr>\n",
       "      <th>192</th>\n",
       "      <td>7</td>\n",
       "      <td>159</td>\n",
       "      <td>66</td>\n",
       "      <td>0</td>\n",
       "      <td>0</td>\n",
       "      <td>30.4</td>\n",
       "      <td>0.383</td>\n",
       "      <td>36</td>\n",
       "    </tr>\n",
       "    <tr>\n",
       "      <th>629</th>\n",
       "      <td>4</td>\n",
       "      <td>94</td>\n",
       "      <td>65</td>\n",
       "      <td>22</td>\n",
       "      <td>0</td>\n",
       "      <td>24.7</td>\n",
       "      <td>0.148</td>\n",
       "      <td>21</td>\n",
       "    </tr>\n",
       "    <tr>\n",
       "      <th>559</th>\n",
       "      <td>11</td>\n",
       "      <td>85</td>\n",
       "      <td>74</td>\n",
       "      <td>0</td>\n",
       "      <td>0</td>\n",
       "      <td>30.1</td>\n",
       "      <td>0.300</td>\n",
       "      <td>35</td>\n",
       "    </tr>\n",
       "    <tr>\n",
       "      <th>684</th>\n",
       "      <td>5</td>\n",
       "      <td>136</td>\n",
       "      <td>82</td>\n",
       "      <td>0</td>\n",
       "      <td>0</td>\n",
       "      <td>0.0</td>\n",
       "      <td>0.640</td>\n",
       "      <td>69</td>\n",
       "    </tr>\n",
       "  </tbody>\n",
       "</table>\n",
       "<p>614 rows × 8 columns</p>\n",
       "</div>\n",
       "    <div class=\"colab-df-buttons\">\n",
       "\n",
       "  <div class=\"colab-df-container\">\n",
       "    <button class=\"colab-df-convert\" onclick=\"convertToInteractive('df-dfaccddb-dd8c-492f-b62e-92b12ab6056c')\"\n",
       "            title=\"Convert this dataframe to an interactive table.\"\n",
       "            style=\"display:none;\">\n",
       "\n",
       "  <svg xmlns=\"http://www.w3.org/2000/svg\" height=\"24px\" viewBox=\"0 -960 960 960\">\n",
       "    <path d=\"M120-120v-720h720v720H120Zm60-500h600v-160H180v160Zm220 220h160v-160H400v160Zm0 220h160v-160H400v160ZM180-400h160v-160H180v160Zm440 0h160v-160H620v160ZM180-180h160v-160H180v160Zm440 0h160v-160H620v160Z\"/>\n",
       "  </svg>\n",
       "    </button>\n",
       "\n",
       "  <style>\n",
       "    .colab-df-container {\n",
       "      display:flex;\n",
       "      gap: 12px;\n",
       "    }\n",
       "\n",
       "    .colab-df-convert {\n",
       "      background-color: #E8F0FE;\n",
       "      border: none;\n",
       "      border-radius: 50%;\n",
       "      cursor: pointer;\n",
       "      display: none;\n",
       "      fill: #1967D2;\n",
       "      height: 32px;\n",
       "      padding: 0 0 0 0;\n",
       "      width: 32px;\n",
       "    }\n",
       "\n",
       "    .colab-df-convert:hover {\n",
       "      background-color: #E2EBFA;\n",
       "      box-shadow: 0px 1px 2px rgba(60, 64, 67, 0.3), 0px 1px 3px 1px rgba(60, 64, 67, 0.15);\n",
       "      fill: #174EA6;\n",
       "    }\n",
       "\n",
       "    .colab-df-buttons div {\n",
       "      margin-bottom: 4px;\n",
       "    }\n",
       "\n",
       "    [theme=dark] .colab-df-convert {\n",
       "      background-color: #3B4455;\n",
       "      fill: #D2E3FC;\n",
       "    }\n",
       "\n",
       "    [theme=dark] .colab-df-convert:hover {\n",
       "      background-color: #434B5C;\n",
       "      box-shadow: 0px 1px 3px 1px rgba(0, 0, 0, 0.15);\n",
       "      filter: drop-shadow(0px 1px 2px rgba(0, 0, 0, 0.3));\n",
       "      fill: #FFFFFF;\n",
       "    }\n",
       "  </style>\n",
       "\n",
       "    <script>\n",
       "      const buttonEl =\n",
       "        document.querySelector('#df-dfaccddb-dd8c-492f-b62e-92b12ab6056c button.colab-df-convert');\n",
       "      buttonEl.style.display =\n",
       "        google.colab.kernel.accessAllowed ? 'block' : 'none';\n",
       "\n",
       "      async function convertToInteractive(key) {\n",
       "        const element = document.querySelector('#df-dfaccddb-dd8c-492f-b62e-92b12ab6056c');\n",
       "        const dataTable =\n",
       "          await google.colab.kernel.invokeFunction('convertToInteractive',\n",
       "                                                    [key], {});\n",
       "        if (!dataTable) return;\n",
       "\n",
       "        const docLinkHtml = 'Like what you see? Visit the ' +\n",
       "          '<a target=\"_blank\" href=https://colab.research.google.com/notebooks/data_table.ipynb>data table notebook</a>'\n",
       "          + ' to learn more about interactive tables.';\n",
       "        element.innerHTML = '';\n",
       "        dataTable['output_type'] = 'display_data';\n",
       "        await google.colab.output.renderOutput(dataTable, element);\n",
       "        const docLink = document.createElement('div');\n",
       "        docLink.innerHTML = docLinkHtml;\n",
       "        element.appendChild(docLink);\n",
       "      }\n",
       "    </script>\n",
       "  </div>\n",
       "\n",
       "\n",
       "<div id=\"df-573fc6a3-1d68-4c2a-86c7-ae868ad04ccf\">\n",
       "  <button class=\"colab-df-quickchart\" onclick=\"quickchart('df-573fc6a3-1d68-4c2a-86c7-ae868ad04ccf')\"\n",
       "            title=\"Suggest charts\"\n",
       "            style=\"display:none;\">\n",
       "\n",
       "<svg xmlns=\"http://www.w3.org/2000/svg\" height=\"24px\"viewBox=\"0 0 24 24\"\n",
       "     width=\"24px\">\n",
       "    <g>\n",
       "        <path d=\"M19 3H5c-1.1 0-2 .9-2 2v14c0 1.1.9 2 2 2h14c1.1 0 2-.9 2-2V5c0-1.1-.9-2-2-2zM9 17H7v-7h2v7zm4 0h-2V7h2v10zm4 0h-2v-4h2v4z\"/>\n",
       "    </g>\n",
       "</svg>\n",
       "  </button>\n",
       "\n",
       "<style>\n",
       "  .colab-df-quickchart {\n",
       "      --bg-color: #E8F0FE;\n",
       "      --fill-color: #1967D2;\n",
       "      --hover-bg-color: #E2EBFA;\n",
       "      --hover-fill-color: #174EA6;\n",
       "      --disabled-fill-color: #AAA;\n",
       "      --disabled-bg-color: #DDD;\n",
       "  }\n",
       "\n",
       "  [theme=dark] .colab-df-quickchart {\n",
       "      --bg-color: #3B4455;\n",
       "      --fill-color: #D2E3FC;\n",
       "      --hover-bg-color: #434B5C;\n",
       "      --hover-fill-color: #FFFFFF;\n",
       "      --disabled-bg-color: #3B4455;\n",
       "      --disabled-fill-color: #666;\n",
       "  }\n",
       "\n",
       "  .colab-df-quickchart {\n",
       "    background-color: var(--bg-color);\n",
       "    border: none;\n",
       "    border-radius: 50%;\n",
       "    cursor: pointer;\n",
       "    display: none;\n",
       "    fill: var(--fill-color);\n",
       "    height: 32px;\n",
       "    padding: 0;\n",
       "    width: 32px;\n",
       "  }\n",
       "\n",
       "  .colab-df-quickchart:hover {\n",
       "    background-color: var(--hover-bg-color);\n",
       "    box-shadow: 0 1px 2px rgba(60, 64, 67, 0.3), 0 1px 3px 1px rgba(60, 64, 67, 0.15);\n",
       "    fill: var(--button-hover-fill-color);\n",
       "  }\n",
       "\n",
       "  .colab-df-quickchart-complete:disabled,\n",
       "  .colab-df-quickchart-complete:disabled:hover {\n",
       "    background-color: var(--disabled-bg-color);\n",
       "    fill: var(--disabled-fill-color);\n",
       "    box-shadow: none;\n",
       "  }\n",
       "\n",
       "  .colab-df-spinner {\n",
       "    border: 2px solid var(--fill-color);\n",
       "    border-color: transparent;\n",
       "    border-bottom-color: var(--fill-color);\n",
       "    animation:\n",
       "      spin 1s steps(1) infinite;\n",
       "  }\n",
       "\n",
       "  @keyframes spin {\n",
       "    0% {\n",
       "      border-color: transparent;\n",
       "      border-bottom-color: var(--fill-color);\n",
       "      border-left-color: var(--fill-color);\n",
       "    }\n",
       "    20% {\n",
       "      border-color: transparent;\n",
       "      border-left-color: var(--fill-color);\n",
       "      border-top-color: var(--fill-color);\n",
       "    }\n",
       "    30% {\n",
       "      border-color: transparent;\n",
       "      border-left-color: var(--fill-color);\n",
       "      border-top-color: var(--fill-color);\n",
       "      border-right-color: var(--fill-color);\n",
       "    }\n",
       "    40% {\n",
       "      border-color: transparent;\n",
       "      border-right-color: var(--fill-color);\n",
       "      border-top-color: var(--fill-color);\n",
       "    }\n",
       "    60% {\n",
       "      border-color: transparent;\n",
       "      border-right-color: var(--fill-color);\n",
       "    }\n",
       "    80% {\n",
       "      border-color: transparent;\n",
       "      border-right-color: var(--fill-color);\n",
       "      border-bottom-color: var(--fill-color);\n",
       "    }\n",
       "    90% {\n",
       "      border-color: transparent;\n",
       "      border-bottom-color: var(--fill-color);\n",
       "    }\n",
       "  }\n",
       "</style>\n",
       "\n",
       "  <script>\n",
       "    async function quickchart(key) {\n",
       "      const quickchartButtonEl =\n",
       "        document.querySelector('#' + key + ' button');\n",
       "      quickchartButtonEl.disabled = true;  // To prevent multiple clicks.\n",
       "      quickchartButtonEl.classList.add('colab-df-spinner');\n",
       "      try {\n",
       "        const charts = await google.colab.kernel.invokeFunction(\n",
       "            'suggestCharts', [key], {});\n",
       "      } catch (error) {\n",
       "        console.error('Error during call to suggestCharts:', error);\n",
       "      }\n",
       "      quickchartButtonEl.classList.remove('colab-df-spinner');\n",
       "      quickchartButtonEl.classList.add('colab-df-quickchart-complete');\n",
       "    }\n",
       "    (() => {\n",
       "      let quickchartButtonEl =\n",
       "        document.querySelector('#df-573fc6a3-1d68-4c2a-86c7-ae868ad04ccf button');\n",
       "      quickchartButtonEl.style.display =\n",
       "        google.colab.kernel.accessAllowed ? 'block' : 'none';\n",
       "    })();\n",
       "  </script>\n",
       "</div>\n",
       "\n",
       "  <div id=\"id_fc10b9ae-1d09-4ce2-8ca4-b55809568f05\">\n",
       "    <style>\n",
       "      .colab-df-generate {\n",
       "        background-color: #E8F0FE;\n",
       "        border: none;\n",
       "        border-radius: 50%;\n",
       "        cursor: pointer;\n",
       "        display: none;\n",
       "        fill: #1967D2;\n",
       "        height: 32px;\n",
       "        padding: 0 0 0 0;\n",
       "        width: 32px;\n",
       "      }\n",
       "\n",
       "      .colab-df-generate:hover {\n",
       "        background-color: #E2EBFA;\n",
       "        box-shadow: 0px 1px 2px rgba(60, 64, 67, 0.3), 0px 1px 3px 1px rgba(60, 64, 67, 0.15);\n",
       "        fill: #174EA6;\n",
       "      }\n",
       "\n",
       "      [theme=dark] .colab-df-generate {\n",
       "        background-color: #3B4455;\n",
       "        fill: #D2E3FC;\n",
       "      }\n",
       "\n",
       "      [theme=dark] .colab-df-generate:hover {\n",
       "        background-color: #434B5C;\n",
       "        box-shadow: 0px 1px 3px 1px rgba(0, 0, 0, 0.15);\n",
       "        filter: drop-shadow(0px 1px 2px rgba(0, 0, 0, 0.3));\n",
       "        fill: #FFFFFF;\n",
       "      }\n",
       "    </style>\n",
       "    <button class=\"colab-df-generate\" onclick=\"generateWithVariable('X_train')\"\n",
       "            title=\"Generate code using this dataframe.\"\n",
       "            style=\"display:none;\">\n",
       "\n",
       "  <svg xmlns=\"http://www.w3.org/2000/svg\" height=\"24px\"viewBox=\"0 0 24 24\"\n",
       "       width=\"24px\">\n",
       "    <path d=\"M7,19H8.4L18.45,9,17,7.55,7,17.6ZM5,21V16.75L18.45,3.32a2,2,0,0,1,2.83,0l1.4,1.43a1.91,1.91,0,0,1,.58,1.4,1.91,1.91,0,0,1-.58,1.4L9.25,21ZM18.45,9,17,7.55Zm-12,3A5.31,5.31,0,0,0,4.9,8.1,5.31,5.31,0,0,0,1,6.5,5.31,5.31,0,0,0,4.9,4.9,5.31,5.31,0,0,0,6.5,1,5.31,5.31,0,0,0,8.1,4.9,5.31,5.31,0,0,0,12,6.5,5.46,5.46,0,0,0,6.5,12Z\"/>\n",
       "  </svg>\n",
       "    </button>\n",
       "    <script>\n",
       "      (() => {\n",
       "      const buttonEl =\n",
       "        document.querySelector('#id_fc10b9ae-1d09-4ce2-8ca4-b55809568f05 button.colab-df-generate');\n",
       "      buttonEl.style.display =\n",
       "        google.colab.kernel.accessAllowed ? 'block' : 'none';\n",
       "\n",
       "      buttonEl.onclick = () => {\n",
       "        google.colab.notebook.generateWithVariable('X_train');\n",
       "      }\n",
       "      })();\n",
       "    </script>\n",
       "  </div>\n",
       "\n",
       "    </div>\n",
       "  </div>\n"
      ],
      "text/plain": [
       "     Pregnancies  Glucose  BloodPressure  SkinThickness  Insulin   BMI  \\\n",
       "603            7      150             78             29      126  35.2   \n",
       "118            4       97             60             23        0  28.2   \n",
       "247            0      165             90             33      680  52.3   \n",
       "157            1      109             56             21      135  25.2   \n",
       "468            8      120              0              0        0  30.0   \n",
       "..           ...      ...            ...            ...      ...   ...   \n",
       "763           10      101             76             48      180  32.9   \n",
       "192            7      159             66              0        0  30.4   \n",
       "629            4       94             65             22        0  24.7   \n",
       "559           11       85             74              0        0  30.1   \n",
       "684            5      136             82              0        0   0.0   \n",
       "\n",
       "     DiabetesPedigreeFunction  Age  \n",
       "603                     0.692   54  \n",
       "118                     0.443   22  \n",
       "247                     0.427   23  \n",
       "157                     0.833   23  \n",
       "468                     0.183   38  \n",
       "..                        ...  ...  \n",
       "763                     0.171   63  \n",
       "192                     0.383   36  \n",
       "629                     0.148   21  \n",
       "559                     0.300   35  \n",
       "684                     0.640   69  \n",
       "\n",
       "[614 rows x 8 columns]"
      ]
     },
     "execution_count": 28,
     "metadata": {},
     "output_type": "execute_result"
    }
   ],
   "source": [
    "X_train"
   ]
  },
  {
   "cell_type": "code",
   "execution_count": 29,
   "id": "0bPVmYlQvj4E",
   "metadata": {
    "colab": {
     "base_uri": "https://localhost:8080/"
    },
    "executionInfo": {
     "elapsed": 5,
     "status": "ok",
     "timestamp": 1726554509279,
     "user": {
      "displayName": "Switra yana",
      "userId": "05526936548485182607"
     },
     "user_tz": -480
    },
    "id": "0bPVmYlQvj4E",
    "outputId": "fc3240d4-d24e-4c8d-a695-f553ea0e5d30"
   },
   "outputs": [
    {
     "data": {
      "text/plain": [
       "(614,)"
      ]
     },
     "execution_count": 29,
     "metadata": {},
     "output_type": "execute_result"
    }
   ],
   "source": [
    "Y_train.shape"
   ]
  },
  {
   "cell_type": "code",
   "execution_count": 30,
   "id": "okMkKAzkvpMP",
   "metadata": {
    "colab": {
     "base_uri": "https://localhost:8080/",
     "height": 424
    },
    "executionInfo": {
     "elapsed": 4,
     "status": "ok",
     "timestamp": 1726554509279,
     "user": {
      "displayName": "Switra yana",
      "userId": "05526936548485182607"
     },
     "user_tz": -480
    },
    "id": "okMkKAzkvpMP",
    "outputId": "7df48b1b-82c7-45af-8c3a-4125fcddb28d"
   },
   "outputs": [
    {
     "data": {
      "application/vnd.google.colaboratory.intrinsic+json": {
       "summary": "{\n  \"name\": \"X_test\",\n  \"rows\": 154,\n  \"fields\": [\n    {\n      \"column\": \"Pregnancies\",\n      \"properties\": {\n        \"dtype\": \"number\",\n        \"std\": 3,\n        \"min\": 0,\n        \"max\": 13,\n        \"num_unique_values\": 14,\n        \"samples\": [\n          13,\n          11,\n          1\n        ],\n        \"semantic_type\": \"\",\n        \"description\": \"\"\n      }\n    },\n    {\n      \"column\": \"Glucose\",\n      \"properties\": {\n        \"dtype\": \"number\",\n        \"std\": 32,\n        \"min\": 0,\n        \"max\": 199,\n        \"num_unique_values\": 89,\n        \"samples\": [\n          151,\n          138,\n          136\n        ],\n        \"semantic_type\": \"\",\n        \"description\": \"\"\n      }\n    },\n    {\n      \"column\": \"BloodPressure\",\n      \"properties\": {\n        \"dtype\": \"number\",\n        \"std\": 18,\n        \"min\": 0,\n        \"max\": 108,\n        \"num_unique_values\": 31,\n        \"samples\": [\n          94,\n          66,\n          75\n        ],\n        \"semantic_type\": \"\",\n        \"description\": \"\"\n      }\n    },\n    {\n      \"column\": \"SkinThickness\",\n      \"properties\": {\n        \"dtype\": \"number\",\n        \"std\": 15,\n        \"min\": 0,\n        \"max\": 50,\n        \"num_unique_values\": 39,\n        \"samples\": [\n          21,\n          33,\n          18\n        ],\n        \"semantic_type\": \"\",\n        \"description\": \"\"\n      }\n    },\n    {\n      \"column\": \"Insulin\",\n      \"properties\": {\n        \"dtype\": \"number\",\n        \"std\": 105,\n        \"min\": 0,\n        \"max\": 579,\n        \"num_unique_values\": 61,\n        \"samples\": [\n          0,\n          156,\n          64\n        ],\n        \"semantic_type\": \"\",\n        \"description\": \"\"\n      }\n    },\n    {\n      \"column\": \"BMI\",\n      \"properties\": {\n        \"dtype\": \"number\",\n        \"std\": 7.729337301648513,\n        \"min\": 0.0,\n        \"max\": 52.9,\n        \"num_unique_values\": 108,\n        \"samples\": [\n          27.4,\n          31.6,\n          24.6\n        ],\n        \"semantic_type\": \"\",\n        \"description\": \"\"\n      }\n    },\n    {\n      \"column\": \"DiabetesPedigreeFunction\",\n      \"properties\": {\n        \"dtype\": \"number\",\n        \"std\": 0.3239139088628467,\n        \"min\": 0.1,\n        \"max\": 1.699,\n        \"num_unique_values\": 140,\n        \"samples\": [\n          0.881,\n          0.38,\n          0.496\n        ],\n        \"semantic_type\": \"\",\n        \"description\": \"\"\n      }\n    },\n    {\n      \"column\": \"Age\",\n      \"properties\": {\n        \"dtype\": \"number\",\n        \"std\": 10,\n        \"min\": 21,\n        \"max\": 65,\n        \"num_unique_values\": 38,\n        \"samples\": [\n          56,\n          62,\n          31\n        ],\n        \"semantic_type\": \"\",\n        \"description\": \"\"\n      }\n    }\n  ]\n}",
       "type": "dataframe",
       "variable_name": "X_test"
      },
      "text/html": [
       "\n",
       "  <div id=\"df-52b56390-3f91-4fa3-9db8-ac8b43f7387b\" class=\"colab-df-container\">\n",
       "    <div>\n",
       "<style scoped>\n",
       "    .dataframe tbody tr th:only-of-type {\n",
       "        vertical-align: middle;\n",
       "    }\n",
       "\n",
       "    .dataframe tbody tr th {\n",
       "        vertical-align: top;\n",
       "    }\n",
       "\n",
       "    .dataframe thead th {\n",
       "        text-align: right;\n",
       "    }\n",
       "</style>\n",
       "<table border=\"1\" class=\"dataframe\">\n",
       "  <thead>\n",
       "    <tr style=\"text-align: right;\">\n",
       "      <th></th>\n",
       "      <th>Pregnancies</th>\n",
       "      <th>Glucose</th>\n",
       "      <th>BloodPressure</th>\n",
       "      <th>SkinThickness</th>\n",
       "      <th>Insulin</th>\n",
       "      <th>BMI</th>\n",
       "      <th>DiabetesPedigreeFunction</th>\n",
       "      <th>Age</th>\n",
       "    </tr>\n",
       "  </thead>\n",
       "  <tbody>\n",
       "    <tr>\n",
       "      <th>661</th>\n",
       "      <td>1</td>\n",
       "      <td>199</td>\n",
       "      <td>76</td>\n",
       "      <td>43</td>\n",
       "      <td>0</td>\n",
       "      <td>42.9</td>\n",
       "      <td>1.394</td>\n",
       "      <td>22</td>\n",
       "    </tr>\n",
       "    <tr>\n",
       "      <th>122</th>\n",
       "      <td>2</td>\n",
       "      <td>107</td>\n",
       "      <td>74</td>\n",
       "      <td>30</td>\n",
       "      <td>100</td>\n",
       "      <td>33.6</td>\n",
       "      <td>0.404</td>\n",
       "      <td>23</td>\n",
       "    </tr>\n",
       "    <tr>\n",
       "      <th>113</th>\n",
       "      <td>4</td>\n",
       "      <td>76</td>\n",
       "      <td>62</td>\n",
       "      <td>0</td>\n",
       "      <td>0</td>\n",
       "      <td>34.0</td>\n",
       "      <td>0.391</td>\n",
       "      <td>25</td>\n",
       "    </tr>\n",
       "    <tr>\n",
       "      <th>14</th>\n",
       "      <td>5</td>\n",
       "      <td>166</td>\n",
       "      <td>72</td>\n",
       "      <td>19</td>\n",
       "      <td>175</td>\n",
       "      <td>25.8</td>\n",
       "      <td>0.587</td>\n",
       "      <td>51</td>\n",
       "    </tr>\n",
       "    <tr>\n",
       "      <th>529</th>\n",
       "      <td>0</td>\n",
       "      <td>111</td>\n",
       "      <td>65</td>\n",
       "      <td>0</td>\n",
       "      <td>0</td>\n",
       "      <td>24.6</td>\n",
       "      <td>0.660</td>\n",
       "      <td>31</td>\n",
       "    </tr>\n",
       "    <tr>\n",
       "      <th>...</th>\n",
       "      <td>...</td>\n",
       "      <td>...</td>\n",
       "      <td>...</td>\n",
       "      <td>...</td>\n",
       "      <td>...</td>\n",
       "      <td>...</td>\n",
       "      <td>...</td>\n",
       "      <td>...</td>\n",
       "    </tr>\n",
       "    <tr>\n",
       "      <th>476</th>\n",
       "      <td>2</td>\n",
       "      <td>105</td>\n",
       "      <td>80</td>\n",
       "      <td>45</td>\n",
       "      <td>191</td>\n",
       "      <td>33.7</td>\n",
       "      <td>0.711</td>\n",
       "      <td>29</td>\n",
       "    </tr>\n",
       "    <tr>\n",
       "      <th>482</th>\n",
       "      <td>4</td>\n",
       "      <td>85</td>\n",
       "      <td>58</td>\n",
       "      <td>22</td>\n",
       "      <td>49</td>\n",
       "      <td>27.8</td>\n",
       "      <td>0.306</td>\n",
       "      <td>28</td>\n",
       "    </tr>\n",
       "    <tr>\n",
       "      <th>230</th>\n",
       "      <td>4</td>\n",
       "      <td>142</td>\n",
       "      <td>86</td>\n",
       "      <td>0</td>\n",
       "      <td>0</td>\n",
       "      <td>44.0</td>\n",
       "      <td>0.645</td>\n",
       "      <td>22</td>\n",
       "    </tr>\n",
       "    <tr>\n",
       "      <th>527</th>\n",
       "      <td>3</td>\n",
       "      <td>116</td>\n",
       "      <td>74</td>\n",
       "      <td>15</td>\n",
       "      <td>105</td>\n",
       "      <td>26.3</td>\n",
       "      <td>0.107</td>\n",
       "      <td>24</td>\n",
       "    </tr>\n",
       "    <tr>\n",
       "      <th>380</th>\n",
       "      <td>1</td>\n",
       "      <td>107</td>\n",
       "      <td>72</td>\n",
       "      <td>30</td>\n",
       "      <td>82</td>\n",
       "      <td>30.8</td>\n",
       "      <td>0.821</td>\n",
       "      <td>24</td>\n",
       "    </tr>\n",
       "  </tbody>\n",
       "</table>\n",
       "<p>154 rows × 8 columns</p>\n",
       "</div>\n",
       "    <div class=\"colab-df-buttons\">\n",
       "\n",
       "  <div class=\"colab-df-container\">\n",
       "    <button class=\"colab-df-convert\" onclick=\"convertToInteractive('df-52b56390-3f91-4fa3-9db8-ac8b43f7387b')\"\n",
       "            title=\"Convert this dataframe to an interactive table.\"\n",
       "            style=\"display:none;\">\n",
       "\n",
       "  <svg xmlns=\"http://www.w3.org/2000/svg\" height=\"24px\" viewBox=\"0 -960 960 960\">\n",
       "    <path d=\"M120-120v-720h720v720H120Zm60-500h600v-160H180v160Zm220 220h160v-160H400v160Zm0 220h160v-160H400v160ZM180-400h160v-160H180v160Zm440 0h160v-160H620v160ZM180-180h160v-160H180v160Zm440 0h160v-160H620v160Z\"/>\n",
       "  </svg>\n",
       "    </button>\n",
       "\n",
       "  <style>\n",
       "    .colab-df-container {\n",
       "      display:flex;\n",
       "      gap: 12px;\n",
       "    }\n",
       "\n",
       "    .colab-df-convert {\n",
       "      background-color: #E8F0FE;\n",
       "      border: none;\n",
       "      border-radius: 50%;\n",
       "      cursor: pointer;\n",
       "      display: none;\n",
       "      fill: #1967D2;\n",
       "      height: 32px;\n",
       "      padding: 0 0 0 0;\n",
       "      width: 32px;\n",
       "    }\n",
       "\n",
       "    .colab-df-convert:hover {\n",
       "      background-color: #E2EBFA;\n",
       "      box-shadow: 0px 1px 2px rgba(60, 64, 67, 0.3), 0px 1px 3px 1px rgba(60, 64, 67, 0.15);\n",
       "      fill: #174EA6;\n",
       "    }\n",
       "\n",
       "    .colab-df-buttons div {\n",
       "      margin-bottom: 4px;\n",
       "    }\n",
       "\n",
       "    [theme=dark] .colab-df-convert {\n",
       "      background-color: #3B4455;\n",
       "      fill: #D2E3FC;\n",
       "    }\n",
       "\n",
       "    [theme=dark] .colab-df-convert:hover {\n",
       "      background-color: #434B5C;\n",
       "      box-shadow: 0px 1px 3px 1px rgba(0, 0, 0, 0.15);\n",
       "      filter: drop-shadow(0px 1px 2px rgba(0, 0, 0, 0.3));\n",
       "      fill: #FFFFFF;\n",
       "    }\n",
       "  </style>\n",
       "\n",
       "    <script>\n",
       "      const buttonEl =\n",
       "        document.querySelector('#df-52b56390-3f91-4fa3-9db8-ac8b43f7387b button.colab-df-convert');\n",
       "      buttonEl.style.display =\n",
       "        google.colab.kernel.accessAllowed ? 'block' : 'none';\n",
       "\n",
       "      async function convertToInteractive(key) {\n",
       "        const element = document.querySelector('#df-52b56390-3f91-4fa3-9db8-ac8b43f7387b');\n",
       "        const dataTable =\n",
       "          await google.colab.kernel.invokeFunction('convertToInteractive',\n",
       "                                                    [key], {});\n",
       "        if (!dataTable) return;\n",
       "\n",
       "        const docLinkHtml = 'Like what you see? Visit the ' +\n",
       "          '<a target=\"_blank\" href=https://colab.research.google.com/notebooks/data_table.ipynb>data table notebook</a>'\n",
       "          + ' to learn more about interactive tables.';\n",
       "        element.innerHTML = '';\n",
       "        dataTable['output_type'] = 'display_data';\n",
       "        await google.colab.output.renderOutput(dataTable, element);\n",
       "        const docLink = document.createElement('div');\n",
       "        docLink.innerHTML = docLinkHtml;\n",
       "        element.appendChild(docLink);\n",
       "      }\n",
       "    </script>\n",
       "  </div>\n",
       "\n",
       "\n",
       "<div id=\"df-caf2a50c-02ce-400a-a198-d852949d8d04\">\n",
       "  <button class=\"colab-df-quickchart\" onclick=\"quickchart('df-caf2a50c-02ce-400a-a198-d852949d8d04')\"\n",
       "            title=\"Suggest charts\"\n",
       "            style=\"display:none;\">\n",
       "\n",
       "<svg xmlns=\"http://www.w3.org/2000/svg\" height=\"24px\"viewBox=\"0 0 24 24\"\n",
       "     width=\"24px\">\n",
       "    <g>\n",
       "        <path d=\"M19 3H5c-1.1 0-2 .9-2 2v14c0 1.1.9 2 2 2h14c1.1 0 2-.9 2-2V5c0-1.1-.9-2-2-2zM9 17H7v-7h2v7zm4 0h-2V7h2v10zm4 0h-2v-4h2v4z\"/>\n",
       "    </g>\n",
       "</svg>\n",
       "  </button>\n",
       "\n",
       "<style>\n",
       "  .colab-df-quickchart {\n",
       "      --bg-color: #E8F0FE;\n",
       "      --fill-color: #1967D2;\n",
       "      --hover-bg-color: #E2EBFA;\n",
       "      --hover-fill-color: #174EA6;\n",
       "      --disabled-fill-color: #AAA;\n",
       "      --disabled-bg-color: #DDD;\n",
       "  }\n",
       "\n",
       "  [theme=dark] .colab-df-quickchart {\n",
       "      --bg-color: #3B4455;\n",
       "      --fill-color: #D2E3FC;\n",
       "      --hover-bg-color: #434B5C;\n",
       "      --hover-fill-color: #FFFFFF;\n",
       "      --disabled-bg-color: #3B4455;\n",
       "      --disabled-fill-color: #666;\n",
       "  }\n",
       "\n",
       "  .colab-df-quickchart {\n",
       "    background-color: var(--bg-color);\n",
       "    border: none;\n",
       "    border-radius: 50%;\n",
       "    cursor: pointer;\n",
       "    display: none;\n",
       "    fill: var(--fill-color);\n",
       "    height: 32px;\n",
       "    padding: 0;\n",
       "    width: 32px;\n",
       "  }\n",
       "\n",
       "  .colab-df-quickchart:hover {\n",
       "    background-color: var(--hover-bg-color);\n",
       "    box-shadow: 0 1px 2px rgba(60, 64, 67, 0.3), 0 1px 3px 1px rgba(60, 64, 67, 0.15);\n",
       "    fill: var(--button-hover-fill-color);\n",
       "  }\n",
       "\n",
       "  .colab-df-quickchart-complete:disabled,\n",
       "  .colab-df-quickchart-complete:disabled:hover {\n",
       "    background-color: var(--disabled-bg-color);\n",
       "    fill: var(--disabled-fill-color);\n",
       "    box-shadow: none;\n",
       "  }\n",
       "\n",
       "  .colab-df-spinner {\n",
       "    border: 2px solid var(--fill-color);\n",
       "    border-color: transparent;\n",
       "    border-bottom-color: var(--fill-color);\n",
       "    animation:\n",
       "      spin 1s steps(1) infinite;\n",
       "  }\n",
       "\n",
       "  @keyframes spin {\n",
       "    0% {\n",
       "      border-color: transparent;\n",
       "      border-bottom-color: var(--fill-color);\n",
       "      border-left-color: var(--fill-color);\n",
       "    }\n",
       "    20% {\n",
       "      border-color: transparent;\n",
       "      border-left-color: var(--fill-color);\n",
       "      border-top-color: var(--fill-color);\n",
       "    }\n",
       "    30% {\n",
       "      border-color: transparent;\n",
       "      border-left-color: var(--fill-color);\n",
       "      border-top-color: var(--fill-color);\n",
       "      border-right-color: var(--fill-color);\n",
       "    }\n",
       "    40% {\n",
       "      border-color: transparent;\n",
       "      border-right-color: var(--fill-color);\n",
       "      border-top-color: var(--fill-color);\n",
       "    }\n",
       "    60% {\n",
       "      border-color: transparent;\n",
       "      border-right-color: var(--fill-color);\n",
       "    }\n",
       "    80% {\n",
       "      border-color: transparent;\n",
       "      border-right-color: var(--fill-color);\n",
       "      border-bottom-color: var(--fill-color);\n",
       "    }\n",
       "    90% {\n",
       "      border-color: transparent;\n",
       "      border-bottom-color: var(--fill-color);\n",
       "    }\n",
       "  }\n",
       "</style>\n",
       "\n",
       "  <script>\n",
       "    async function quickchart(key) {\n",
       "      const quickchartButtonEl =\n",
       "        document.querySelector('#' + key + ' button');\n",
       "      quickchartButtonEl.disabled = true;  // To prevent multiple clicks.\n",
       "      quickchartButtonEl.classList.add('colab-df-spinner');\n",
       "      try {\n",
       "        const charts = await google.colab.kernel.invokeFunction(\n",
       "            'suggestCharts', [key], {});\n",
       "      } catch (error) {\n",
       "        console.error('Error during call to suggestCharts:', error);\n",
       "      }\n",
       "      quickchartButtonEl.classList.remove('colab-df-spinner');\n",
       "      quickchartButtonEl.classList.add('colab-df-quickchart-complete');\n",
       "    }\n",
       "    (() => {\n",
       "      let quickchartButtonEl =\n",
       "        document.querySelector('#df-caf2a50c-02ce-400a-a198-d852949d8d04 button');\n",
       "      quickchartButtonEl.style.display =\n",
       "        google.colab.kernel.accessAllowed ? 'block' : 'none';\n",
       "    })();\n",
       "  </script>\n",
       "</div>\n",
       "\n",
       "  <div id=\"id_0cc681f1-cf9b-46f0-9c37-31f3864fbb98\">\n",
       "    <style>\n",
       "      .colab-df-generate {\n",
       "        background-color: #E8F0FE;\n",
       "        border: none;\n",
       "        border-radius: 50%;\n",
       "        cursor: pointer;\n",
       "        display: none;\n",
       "        fill: #1967D2;\n",
       "        height: 32px;\n",
       "        padding: 0 0 0 0;\n",
       "        width: 32px;\n",
       "      }\n",
       "\n",
       "      .colab-df-generate:hover {\n",
       "        background-color: #E2EBFA;\n",
       "        box-shadow: 0px 1px 2px rgba(60, 64, 67, 0.3), 0px 1px 3px 1px rgba(60, 64, 67, 0.15);\n",
       "        fill: #174EA6;\n",
       "      }\n",
       "\n",
       "      [theme=dark] .colab-df-generate {\n",
       "        background-color: #3B4455;\n",
       "        fill: #D2E3FC;\n",
       "      }\n",
       "\n",
       "      [theme=dark] .colab-df-generate:hover {\n",
       "        background-color: #434B5C;\n",
       "        box-shadow: 0px 1px 3px 1px rgba(0, 0, 0, 0.15);\n",
       "        filter: drop-shadow(0px 1px 2px rgba(0, 0, 0, 0.3));\n",
       "        fill: #FFFFFF;\n",
       "      }\n",
       "    </style>\n",
       "    <button class=\"colab-df-generate\" onclick=\"generateWithVariable('X_test')\"\n",
       "            title=\"Generate code using this dataframe.\"\n",
       "            style=\"display:none;\">\n",
       "\n",
       "  <svg xmlns=\"http://www.w3.org/2000/svg\" height=\"24px\"viewBox=\"0 0 24 24\"\n",
       "       width=\"24px\">\n",
       "    <path d=\"M7,19H8.4L18.45,9,17,7.55,7,17.6ZM5,21V16.75L18.45,3.32a2,2,0,0,1,2.83,0l1.4,1.43a1.91,1.91,0,0,1,.58,1.4,1.91,1.91,0,0,1-.58,1.4L9.25,21ZM18.45,9,17,7.55Zm-12,3A5.31,5.31,0,0,0,4.9,8.1,5.31,5.31,0,0,0,1,6.5,5.31,5.31,0,0,0,4.9,4.9,5.31,5.31,0,0,0,6.5,1,5.31,5.31,0,0,0,8.1,4.9,5.31,5.31,0,0,0,12,6.5,5.46,5.46,0,0,0,6.5,12Z\"/>\n",
       "  </svg>\n",
       "    </button>\n",
       "    <script>\n",
       "      (() => {\n",
       "      const buttonEl =\n",
       "        document.querySelector('#id_0cc681f1-cf9b-46f0-9c37-31f3864fbb98 button.colab-df-generate');\n",
       "      buttonEl.style.display =\n",
       "        google.colab.kernel.accessAllowed ? 'block' : 'none';\n",
       "\n",
       "      buttonEl.onclick = () => {\n",
       "        google.colab.notebook.generateWithVariable('X_test');\n",
       "      }\n",
       "      })();\n",
       "    </script>\n",
       "  </div>\n",
       "\n",
       "    </div>\n",
       "  </div>\n"
      ],
      "text/plain": [
       "     Pregnancies  Glucose  BloodPressure  SkinThickness  Insulin   BMI  \\\n",
       "661            1      199             76             43        0  42.9   \n",
       "122            2      107             74             30      100  33.6   \n",
       "113            4       76             62              0        0  34.0   \n",
       "14             5      166             72             19      175  25.8   \n",
       "529            0      111             65              0        0  24.6   \n",
       "..           ...      ...            ...            ...      ...   ...   \n",
       "476            2      105             80             45      191  33.7   \n",
       "482            4       85             58             22       49  27.8   \n",
       "230            4      142             86              0        0  44.0   \n",
       "527            3      116             74             15      105  26.3   \n",
       "380            1      107             72             30       82  30.8   \n",
       "\n",
       "     DiabetesPedigreeFunction  Age  \n",
       "661                     1.394   22  \n",
       "122                     0.404   23  \n",
       "113                     0.391   25  \n",
       "14                      0.587   51  \n",
       "529                     0.660   31  \n",
       "..                        ...  ...  \n",
       "476                     0.711   29  \n",
       "482                     0.306   28  \n",
       "230                     0.645   22  \n",
       "527                     0.107   24  \n",
       "380                     0.821   24  \n",
       "\n",
       "[154 rows x 8 columns]"
      ]
     },
     "execution_count": 30,
     "metadata": {},
     "output_type": "execute_result"
    }
   ],
   "source": [
    "X_test"
   ]
  },
  {
   "cell_type": "code",
   "execution_count": 31,
   "id": "jjHyS_R9vsJW",
   "metadata": {
    "colab": {
     "base_uri": "https://localhost:8080/"
    },
    "executionInfo": {
     "elapsed": 515,
     "status": "ok",
     "timestamp": 1726554509790,
     "user": {
      "displayName": "Switra yana",
      "userId": "05526936548485182607"
     },
     "user_tz": -480
    },
    "id": "jjHyS_R9vsJW",
    "outputId": "e1fdc6d5-cfd7-45e1-e20e-17d62156dad6"
   },
   "outputs": [
    {
     "data": {
      "text/plain": [
       "(154,)"
      ]
     },
     "execution_count": 31,
     "metadata": {},
     "output_type": "execute_result"
    }
   ],
   "source": [
    "Y_test.shape"
   ]
  },
  {
   "cell_type": "markdown",
   "id": "qpxeRP9vxbEX",
   "metadata": {
    "id": "qpxeRP9vxbEX"
   },
   "source": [
    "# Build and Train the Model"
   ]
  },
  {
   "cell_type": "code",
   "execution_count": 32,
   "id": "3038dcd6",
   "metadata": {
    "executionInfo": {
     "elapsed": 5,
     "status": "ok",
     "timestamp": 1726554509790,
     "user": {
      "displayName": "Switra yana",
      "userId": "05526936548485182607"
     },
     "user_tz": -480
    },
    "id": "3038dcd6"
   },
   "outputs": [],
   "source": [
    "from sklearn.neighbors import KNeighborsClassifier\n",
    "knn = KNeighborsClassifier(n_neighbors=10) #jumlah tetangga terdekat untuk mengetahui bagaimana algoritma menentukan kelas"
   ]
  },
  {
   "cell_type": "code",
   "execution_count": 33,
   "id": "f5075b35",
   "metadata": {
    "colab": {
     "base_uri": "https://localhost:8080/",
     "height": 75
    },
    "executionInfo": {
     "elapsed": 5,
     "status": "ok",
     "timestamp": 1726554509790,
     "user": {
      "displayName": "Switra yana",
      "userId": "05526936548485182607"
     },
     "user_tz": -480
    },
    "id": "f5075b35",
    "outputId": "b36dd0f5-4dcb-49e3-d4e0-3c485e220541"
   },
   "outputs": [
    {
     "data": {
      "text/html": [
       "<style>#sk-container-id-1 {color: black;}#sk-container-id-1 pre{padding: 0;}#sk-container-id-1 div.sk-toggleable {background-color: white;}#sk-container-id-1 label.sk-toggleable__label {cursor: pointer;display: block;width: 100%;margin-bottom: 0;padding: 0.3em;box-sizing: border-box;text-align: center;}#sk-container-id-1 label.sk-toggleable__label-arrow:before {content: \"▸\";float: left;margin-right: 0.25em;color: #696969;}#sk-container-id-1 label.sk-toggleable__label-arrow:hover:before {color: black;}#sk-container-id-1 div.sk-estimator:hover label.sk-toggleable__label-arrow:before {color: black;}#sk-container-id-1 div.sk-toggleable__content {max-height: 0;max-width: 0;overflow: hidden;text-align: left;background-color: #f0f8ff;}#sk-container-id-1 div.sk-toggleable__content pre {margin: 0.2em;color: black;border-radius: 0.25em;background-color: #f0f8ff;}#sk-container-id-1 input.sk-toggleable__control:checked~div.sk-toggleable__content {max-height: 200px;max-width: 100%;overflow: auto;}#sk-container-id-1 input.sk-toggleable__control:checked~label.sk-toggleable__label-arrow:before {content: \"▾\";}#sk-container-id-1 div.sk-estimator input.sk-toggleable__control:checked~label.sk-toggleable__label {background-color: #d4ebff;}#sk-container-id-1 div.sk-label input.sk-toggleable__control:checked~label.sk-toggleable__label {background-color: #d4ebff;}#sk-container-id-1 input.sk-hidden--visually {border: 0;clip: rect(1px 1px 1px 1px);clip: rect(1px, 1px, 1px, 1px);height: 1px;margin: -1px;overflow: hidden;padding: 0;position: absolute;width: 1px;}#sk-container-id-1 div.sk-estimator {font-family: monospace;background-color: #f0f8ff;border: 1px dotted black;border-radius: 0.25em;box-sizing: border-box;margin-bottom: 0.5em;}#sk-container-id-1 div.sk-estimator:hover {background-color: #d4ebff;}#sk-container-id-1 div.sk-parallel-item::after {content: \"\";width: 100%;border-bottom: 1px solid gray;flex-grow: 1;}#sk-container-id-1 div.sk-label:hover label.sk-toggleable__label {background-color: #d4ebff;}#sk-container-id-1 div.sk-serial::before {content: \"\";position: absolute;border-left: 1px solid gray;box-sizing: border-box;top: 0;bottom: 0;left: 50%;z-index: 0;}#sk-container-id-1 div.sk-serial {display: flex;flex-direction: column;align-items: center;background-color: white;padding-right: 0.2em;padding-left: 0.2em;position: relative;}#sk-container-id-1 div.sk-item {position: relative;z-index: 1;}#sk-container-id-1 div.sk-parallel {display: flex;align-items: stretch;justify-content: center;background-color: white;position: relative;}#sk-container-id-1 div.sk-item::before, #sk-container-id-1 div.sk-parallel-item::before {content: \"\";position: absolute;border-left: 1px solid gray;box-sizing: border-box;top: 0;bottom: 0;left: 50%;z-index: -1;}#sk-container-id-1 div.sk-parallel-item {display: flex;flex-direction: column;z-index: 1;position: relative;background-color: white;}#sk-container-id-1 div.sk-parallel-item:first-child::after {align-self: flex-end;width: 50%;}#sk-container-id-1 div.sk-parallel-item:last-child::after {align-self: flex-start;width: 50%;}#sk-container-id-1 div.sk-parallel-item:only-child::after {width: 0;}#sk-container-id-1 div.sk-dashed-wrapped {border: 1px dashed gray;margin: 0 0.4em 0.5em 0.4em;box-sizing: border-box;padding-bottom: 0.4em;background-color: white;}#sk-container-id-1 div.sk-label label {font-family: monospace;font-weight: bold;display: inline-block;line-height: 1.2em;}#sk-container-id-1 div.sk-label-container {text-align: center;}#sk-container-id-1 div.sk-container {/* jupyter's `normalize.less` sets `[hidden] { display: none; }` but bootstrap.min.css set `[hidden] { display: none !important; }` so we also need the `!important` here to be able to override the default hidden behavior on the sphinx rendered scikit-learn.org. See: https://github.com/scikit-learn/scikit-learn/issues/21755 */display: inline-block !important;position: relative;}#sk-container-id-1 div.sk-text-repr-fallback {display: none;}</style><div id=\"sk-container-id-1\" class=\"sk-top-container\"><div class=\"sk-text-repr-fallback\"><pre>KNeighborsClassifier(n_neighbors=10)</pre><b>In a Jupyter environment, please rerun this cell to show the HTML representation or trust the notebook. <br />On GitHub, the HTML representation is unable to render, please try loading this page with nbviewer.org.</b></div><div class=\"sk-container\" hidden><div class=\"sk-item\"><div class=\"sk-estimator sk-toggleable\"><input class=\"sk-toggleable__control sk-hidden--visually\" id=\"sk-estimator-id-1\" type=\"checkbox\" checked><label for=\"sk-estimator-id-1\" class=\"sk-toggleable__label sk-toggleable__label-arrow\">KNeighborsClassifier</label><div class=\"sk-toggleable__content\"><pre>KNeighborsClassifier(n_neighbors=10)</pre></div></div></div></div></div>"
      ],
      "text/plain": [
       "KNeighborsClassifier(n_neighbors=10)"
      ]
     },
     "execution_count": 33,
     "metadata": {},
     "output_type": "execute_result"
    }
   ],
   "source": [
    "knn.fit(X_train, Y_train)"
   ]
  },
  {
   "cell_type": "markdown",
   "id": "JAEr1CbOxkRV",
   "metadata": {
    "id": "JAEr1CbOxkRV"
   },
   "source": [
    "# Evaluation"
   ]
  },
  {
   "cell_type": "code",
   "execution_count": 34,
   "id": "2db902d5",
   "metadata": {
    "colab": {
     "base_uri": "https://localhost:8080/"
    },
    "executionInfo": {
     "elapsed": 4,
     "status": "ok",
     "timestamp": 1726554509790,
     "user": {
      "displayName": "Switra yana",
      "userId": "05526936548485182607"
     },
     "user_tz": -480
    },
    "id": "2db902d5",
    "outputId": "6f968f49-949c-4992-f6e2-194d302ed35d",
    "scrolled": true
   },
   "outputs": [
    {
     "data": {
      "text/plain": [
       "array([1, 0, 0, 1, 0, 0, 1, 1, 0, 0, 1, 1, 0, 0, 0, 0, 1, 0, 0, 0, 0, 0,\n",
       "       0, 0, 0, 0, 0, 1, 0, 0, 1, 0, 0, 0, 0, 1, 1, 0, 0, 1, 0, 0, 0, 1,\n",
       "       1, 0, 0, 0, 0, 0, 0, 0, 0, 0, 0, 0, 0, 0, 0, 0, 1, 0, 0, 1, 1, 1,\n",
       "       1, 0, 1, 0, 0, 0, 0, 1, 1, 0, 0, 1, 0, 0, 1, 0, 0, 0, 0, 0, 0, 0,\n",
       "       1, 0, 0, 0, 0, 0, 0, 0, 0, 0, 0, 1, 0, 0, 0, 0, 0, 0, 0, 0, 0, 1,\n",
       "       0, 0, 0, 0, 1, 1, 0, 1, 0, 1, 0, 1, 0, 0, 0, 0, 0, 0, 0, 1, 0, 0,\n",
       "       0, 1, 0, 0, 0, 0, 1, 0, 0, 1, 0, 0, 1, 0, 0, 0, 0, 0, 0, 0, 0, 0])"
      ]
     },
     "execution_count": 34,
     "metadata": {},
     "output_type": "execute_result"
    }
   ],
   "source": [
    "y_prediksi = knn.predict(X_test) #prediksi data testing\n",
    "y_prediksi"
   ]
  },
  {
   "cell_type": "code",
   "execution_count": 35,
   "id": "3932d296",
   "metadata": {
    "colab": {
     "base_uri": "https://localhost:8080/"
    },
    "executionInfo": {
     "elapsed": 3,
     "status": "ok",
     "timestamp": 1726554509790,
     "user": {
      "displayName": "Switra yana",
      "userId": "05526936548485182607"
     },
     "user_tz": -480
    },
    "id": "3932d296",
    "outputId": "ec7941af-85b5-4e8f-cd47-fc5ff6752fad"
   },
   "outputs": [
    {
     "name": "stdout",
     "output_type": "stream",
     "text": [
      "Performa KNN\n",
      "Akurasi KNN : 0.7922077922077922\n",
      "              precision    recall  f1-score   support\n",
      "\n",
      "           0       0.82      0.90      0.86       107\n",
      "           1       0.70      0.55      0.62        47\n",
      "\n",
      "    accuracy                           0.79       154\n",
      "   macro avg       0.76      0.73      0.74       154\n",
      "weighted avg       0.78      0.79      0.78       154\n",
      "\n"
     ]
    }
   ],
   "source": [
    "from sklearn import metrics\n",
    "print(\"Performa KNN\")\n",
    "print(\"Akurasi KNN :\", metrics.accuracy_score(Y_test, y_prediksi))\n",
    "#print(\"Recall (Sensitivitas) SVM :\", metrics.recall_score(Y, Y_pred_ts,average='macro'))\n",
    "print(metrics.classification_report(Y_test, y_prediksi))"
   ]
  },
  {
   "cell_type": "code",
   "execution_count": 36,
   "id": "9d2d09fe",
   "metadata": {
    "colab": {
     "base_uri": "https://localhost:8080/",
     "height": 720
    },
    "executionInfo": {
     "elapsed": 907,
     "status": "ok",
     "timestamp": 1726554510695,
     "user": {
      "displayName": "Switra yana",
      "userId": "05526936548485182607"
     },
     "user_tz": -480
    },
    "id": "9d2d09fe",
    "outputId": "6205c608-1430-44b9-9a38-73a04061a350"
   },
   "outputs": [
    {
     "data": {
      "image/png": "[encoded data removed]",
      "text/plain": [
       "<Figure size 800x600 with 2 Axes>"
      ]
     },
     "metadata": {},
     "output_type": "display_data"
    },
    {
     "name": "stdout",
     "output_type": "stream",
     "text": [
      "              precision    recall  f1-score   support\n",
      "\n",
      "           0     0.8205    0.8972    0.8571       107\n",
      "           1     0.7027    0.5532    0.6190        47\n",
      "\n",
      "    accuracy                         0.7922       154\n",
      "   macro avg     0.7616    0.7252    0.7381       154\n",
      "weighted avg     0.7846    0.7922    0.7845       154\n",
      "\n"
     ]
    }
   ],
   "source": [
    "from sklearn.metrics import f1_score, accuracy_score, classification_report, confusion_matrix\n",
    "cm = confusion_matrix(Y_test, y_prediksi)\n",
    "plt.figure(figsize=(8, 6))\n",
    "sns.heatmap(cm, annot=True, fmt=\"d\", cmap=\"Blues\")\n",
    "plt.title(\"Confusion Matrix\")\n",
    "plt.xlabel(\"Predicted Labels\")\n",
    "plt.ylabel(\"True Labels\")\n",
    "plt.show()\n",
    "\n",
    "# Generate classification report with zero_division parameter\n",
    "report = classification_report(Y_test, y_prediksi, zero_division=0, digits=4)  # Zero division: You can use 0, 1, 'warn', or 'raise'\n",
    "print(report)"
   ]
  },
  {
   "cell_type": "code",
   "execution_count": 37,
   "id": "ff8e0f8f",
   "metadata": {
    "colab": {
     "base_uri": "https://localhost:8080/",
     "height": 441
    },
    "executionInfo": {
     "elapsed": 9,
     "status": "ok",
     "timestamp": 1726554510696,
     "user": {
      "displayName": "Switra yana",
      "userId": "05526936548485182607"
     },
     "user_tz": -480
    },
    "id": "ff8e0f8f",
    "outputId": "fcfe9f56-c1c2-425c-b4eb-fda13830570f"
   },
   "outputs": [
    {
     "name": "stdout",
     "output_type": "stream",
     "text": [
      "Hasil Klasifikasi Metode KNN\n"
     ]
    },
    {
     "data": {
      "application/vnd.google.colaboratory.intrinsic+json": {
       "summary": "{\n  \"name\": \"df\",\n  \"rows\": 154,\n  \"fields\": [\n    {\n      \"column\": \"Actual\",\n      \"properties\": {\n        \"dtype\": \"number\",\n        \"std\": 0,\n        \"min\": 0,\n        \"max\": 1,\n        \"num_unique_values\": 2,\n        \"samples\": [\n          0,\n          1\n        ],\n        \"semantic_type\": \"\",\n        \"description\": \"\"\n      }\n    },\n    {\n      \"column\": \"Predicted\",\n      \"properties\": {\n        \"dtype\": \"number\",\n        \"std\": 0,\n        \"min\": 0,\n        \"max\": 1,\n        \"num_unique_values\": 2,\n        \"samples\": [\n          0,\n          1\n        ],\n        \"semantic_type\": \"\",\n        \"description\": \"\"\n      }\n    }\n  ]\n}",
       "type": "dataframe",
       "variable_name": "df"
      },
      "text/html": [
       "\n",
       "  <div id=\"df-70ebcdef-ee06-4b07-8fb7-c754cbc861ad\" class=\"colab-df-container\">\n",
       "    <div>\n",
       "<style scoped>\n",
       "    .dataframe tbody tr th:only-of-type {\n",
       "        vertical-align: middle;\n",
       "    }\n",
       "\n",
       "    .dataframe tbody tr th {\n",
       "        vertical-align: top;\n",
       "    }\n",
       "\n",
       "    .dataframe thead th {\n",
       "        text-align: right;\n",
       "    }\n",
       "</style>\n",
       "<table border=\"1\" class=\"dataframe\">\n",
       "  <thead>\n",
       "    <tr style=\"text-align: right;\">\n",
       "      <th></th>\n",
       "      <th>Actual</th>\n",
       "      <th>Predicted</th>\n",
       "    </tr>\n",
       "  </thead>\n",
       "  <tbody>\n",
       "    <tr>\n",
       "      <th>661</th>\n",
       "      <td>1</td>\n",
       "      <td>1</td>\n",
       "    </tr>\n",
       "    <tr>\n",
       "      <th>122</th>\n",
       "      <td>0</td>\n",
       "      <td>0</td>\n",
       "    </tr>\n",
       "    <tr>\n",
       "      <th>113</th>\n",
       "      <td>0</td>\n",
       "      <td>0</td>\n",
       "    </tr>\n",
       "    <tr>\n",
       "      <th>14</th>\n",
       "      <td>1</td>\n",
       "      <td>1</td>\n",
       "    </tr>\n",
       "    <tr>\n",
       "      <th>529</th>\n",
       "      <td>0</td>\n",
       "      <td>0</td>\n",
       "    </tr>\n",
       "    <tr>\n",
       "      <th>...</th>\n",
       "      <td>...</td>\n",
       "      <td>...</td>\n",
       "    </tr>\n",
       "    <tr>\n",
       "      <th>476</th>\n",
       "      <td>1</td>\n",
       "      <td>0</td>\n",
       "    </tr>\n",
       "    <tr>\n",
       "      <th>482</th>\n",
       "      <td>0</td>\n",
       "      <td>0</td>\n",
       "    </tr>\n",
       "    <tr>\n",
       "      <th>230</th>\n",
       "      <td>1</td>\n",
       "      <td>0</td>\n",
       "    </tr>\n",
       "    <tr>\n",
       "      <th>527</th>\n",
       "      <td>0</td>\n",
       "      <td>0</td>\n",
       "    </tr>\n",
       "    <tr>\n",
       "      <th>380</th>\n",
       "      <td>0</td>\n",
       "      <td>0</td>\n",
       "    </tr>\n",
       "  </tbody>\n",
       "</table>\n",
       "<p>154 rows × 2 columns</p>\n",
       "</div>\n",
       "    <div class=\"colab-df-buttons\">\n",
       "\n",
       "  <div class=\"colab-df-container\">\n",
       "    <button class=\"colab-df-convert\" onclick=\"convertToInteractive('df-70ebcdef-ee06-4b07-8fb7-c754cbc861ad')\"\n",
       "            title=\"Convert this dataframe to an interactive table.\"\n",
       "            style=\"display:none;\">\n",
       "\n",
       "  <svg xmlns=\"http://www.w3.org/2000/svg\" height=\"24px\" viewBox=\"0 -960 960 960\">\n",
       "    <path d=\"M120-120v-720h720v720H120Zm60-500h600v-160H180v160Zm220 220h160v-160H400v160Zm0 220h160v-160H400v160ZM180-400h160v-160H180v160Zm440 0h160v-160H620v160ZM180-180h160v-160H180v160Zm440 0h160v-160H620v160Z\"/>\n",
       "  </svg>\n",
       "    </button>\n",
       "\n",
       "  <style>\n",
       "    .colab-df-container {\n",
       "      display:flex;\n",
       "      gap: 12px;\n",
       "    }\n",
       "\n",
       "    .colab-df-convert {\n",
       "      background-color: #E8F0FE;\n",
       "      border: none;\n",
       "      border-radius: 50%;\n",
       "      cursor: pointer;\n",
       "      display: none;\n",
       "      fill: #1967D2;\n",
       "      height: 32px;\n",
       "      padding: 0 0 0 0;\n",
       "      width: 32px;\n",
       "    }\n",
       "\n",
       "    .colab-df-convert:hover {\n",
       "      background-color: #E2EBFA;\n",
       "      box-shadow: 0px 1px 2px rgba(60, 64, 67, 0.3), 0px 1px 3px 1px rgba(60, 64, 67, 0.15);\n",
       "      fill: #174EA6;\n",
       "    }\n",
       "\n",
       "    .colab-df-buttons div {\n",
       "      margin-bottom: 4px;\n",
       "    }\n",
       "\n",
       "    [theme=dark] .colab-df-convert {\n",
       "      background-color: #3B4455;\n",
       "      fill: #D2E3FC;\n",
       "    }\n",
       "\n",
       "    [theme=dark] .colab-df-convert:hover {\n",
       "      background-color: #434B5C;\n",
       "      box-shadow: 0px 1px 3px 1px rgba(0, 0, 0, 0.15);\n",
       "      filter: drop-shadow(0px 1px 2px rgba(0, 0, 0, 0.3));\n",
       "      fill: #FFFFFF;\n",
       "    }\n",
       "  </style>\n",
       "\n",
       "    <script>\n",
       "      const buttonEl =\n",
       "        document.querySelector('#df-70ebcdef-ee06-4b07-8fb7-c754cbc861ad button.colab-df-convert');\n",
       "      buttonEl.style.display =\n",
       "        google.colab.kernel.accessAllowed ? 'block' : 'none';\n",
       "\n",
       "      async function convertToInteractive(key) {\n",
       "        const element = document.querySelector('#df-70ebcdef-ee06-4b07-8fb7-c754cbc861ad');\n",
       "        const dataTable =\n",
       "          await google.colab.kernel.invokeFunction('convertToInteractive',\n",
       "                                                    [key], {});\n",
       "        if (!dataTable) return;\n",
       "\n",
       "        const docLinkHtml = 'Like what you see? Visit the ' +\n",
       "          '<a target=\"_blank\" href=https://colab.research.google.com/notebooks/data_table.ipynb>data table notebook</a>'\n",
       "          + ' to learn more about interactive tables.';\n",
       "        element.innerHTML = '';\n",
       "        dataTable['output_type'] = 'display_data';\n",
       "        await google.colab.output.renderOutput(dataTable, element);\n",
       "        const docLink = document.createElement('div');\n",
       "        docLink.innerHTML = docLinkHtml;\n",
       "        element.appendChild(docLink);\n",
       "      }\n",
       "    </script>\n",
       "  </div>\n",
       "\n",
       "\n",
       "<div id=\"df-360f860f-3c15-417a-8224-69258798ec21\">\n",
       "  <button class=\"colab-df-quickchart\" onclick=\"quickchart('df-360f860f-3c15-417a-8224-69258798ec21')\"\n",
       "            title=\"Suggest charts\"\n",
       "            style=\"display:none;\">\n",
       "\n",
       "<svg xmlns=\"http://www.w3.org/2000/svg\" height=\"24px\"viewBox=\"0 0 24 24\"\n",
       "     width=\"24px\">\n",
       "    <g>\n",
       "        <path d=\"M19 3H5c-1.1 0-2 .9-2 2v14c0 1.1.9 2 2 2h14c1.1 0 2-.9 2-2V5c0-1.1-.9-2-2-2zM9 17H7v-7h2v7zm4 0h-2V7h2v10zm4 0h-2v-4h2v4z\"/>\n",
       "    </g>\n",
       "</svg>\n",
       "  </button>\n",
       "\n",
       "<style>\n",
       "  .colab-df-quickchart {\n",
       "      --bg-color: #E8F0FE;\n",
       "      --fill-color: #1967D2;\n",
       "      --hover-bg-color: #E2EBFA;\n",
       "      --hover-fill-color: #174EA6;\n",
       "      --disabled-fill-color: #AAA;\n",
       "      --disabled-bg-color: #DDD;\n",
       "  }\n",
       "\n",
       "  [theme=dark] .colab-df-quickchart {\n",
       "      --bg-color: #3B4455;\n",
       "      --fill-color: #D2E3FC;\n",
       "      --hover-bg-color: #434B5C;\n",
       "      --hover-fill-color: #FFFFFF;\n",
       "      --disabled-bg-color: #3B4455;\n",
       "      --disabled-fill-color: #666;\n",
       "  }\n",
       "\n",
       "  .colab-df-quickchart {\n",
       "    background-color: var(--bg-color);\n",
       "    border: none;\n",
       "    border-radius: 50%;\n",
       "    cursor: pointer;\n",
       "    display: none;\n",
       "    fill: var(--fill-color);\n",
       "    height: 32px;\n",
       "    padding: 0;\n",
       "    width: 32px;\n",
       "  }\n",
       "\n",
       "  .colab-df-quickchart:hover {\n",
       "    background-color: var(--hover-bg-color);\n",
       "    box-shadow: 0 1px 2px rgba(60, 64, 67, 0.3), 0 1px 3px 1px rgba(60, 64, 67, 0.15);\n",
       "    fill: var(--button-hover-fill-color);\n",
       "  }\n",
       "\n",
       "  .colab-df-quickchart-complete:disabled,\n",
       "  .colab-df-quickchart-complete:disabled:hover {\n",
       "    background-color: var(--disabled-bg-color);\n",
       "    fill: var(--disabled-fill-color);\n",
       "    box-shadow: none;\n",
       "  }\n",
       "\n",
       "  .colab-df-spinner {\n",
       "    border: 2px solid var(--fill-color);\n",
       "    border-color: transparent;\n",
       "    border-bottom-color: var(--fill-color);\n",
       "    animation:\n",
       "      spin 1s steps(1) infinite;\n",
       "  }\n",
       "\n",
       "  @keyframes spin {\n",
       "    0% {\n",
       "      border-color: transparent;\n",
       "      border-bottom-color: var(--fill-color);\n",
       "      border-left-color: var(--fill-color);\n",
       "    }\n",
       "    20% {\n",
       "      border-color: transparent;\n",
       "      border-left-color: var(--fill-color);\n",
       "      border-top-color: var(--fill-color);\n",
       "    }\n",
       "    30% {\n",
       "      border-color: transparent;\n",
       "      border-left-color: var(--fill-color);\n",
       "      border-top-color: var(--fill-color);\n",
       "      border-right-color: var(--fill-color);\n",
       "    }\n",
       "    40% {\n",
       "      border-color: transparent;\n",
       "      border-right-color: var(--fill-color);\n",
       "      border-top-color: var(--fill-color);\n",
       "    }\n",
       "    60% {\n",
       "      border-color: transparent;\n",
       "      border-right-color: var(--fill-color);\n",
       "    }\n",
       "    80% {\n",
       "      border-color: transparent;\n",
       "      border-right-color: var(--fill-color);\n",
       "      border-bottom-color: var(--fill-color);\n",
       "    }\n",
       "    90% {\n",
       "      border-color: transparent;\n",
       "      border-bottom-color: var(--fill-color);\n",
       "    }\n",
       "  }\n",
       "</style>\n",
       "\n",
       "  <script>\n",
       "    async function quickchart(key) {\n",
       "      const quickchartButtonEl =\n",
       "        document.querySelector('#' + key + ' button');\n",
       "      quickchartButtonEl.disabled = true;  // To prevent multiple clicks.\n",
       "      quickchartButtonEl.classList.add('colab-df-spinner');\n",
       "      try {\n",
       "        const charts = await google.colab.kernel.invokeFunction(\n",
       "            'suggestCharts', [key], {});\n",
       "      } catch (error) {\n",
       "        console.error('Error during call to suggestCharts:', error);\n",
       "      }\n",
       "      quickchartButtonEl.classList.remove('colab-df-spinner');\n",
       "      quickchartButtonEl.classList.add('colab-df-quickchart-complete');\n",
       "    }\n",
       "    (() => {\n",
       "      let quickchartButtonEl =\n",
       "        document.querySelector('#df-360f860f-3c15-417a-8224-69258798ec21 button');\n",
       "      quickchartButtonEl.style.display =\n",
       "        google.colab.kernel.accessAllowed ? 'block' : 'none';\n",
       "    })();\n",
       "  </script>\n",
       "</div>\n",
       "\n",
       "  <div id=\"id_3804f17e-848b-4e33-9300-29f703d6610c\">\n",
       "    <style>\n",
       "      .colab-df-generate {\n",
       "        background-color: #E8F0FE;\n",
       "        border: none;\n",
       "        border-radius: 50%;\n",
       "        cursor: pointer;\n",
       "        display: none;\n",
       "        fill: #1967D2;\n",
       "        height: 32px;\n",
       "        padding: 0 0 0 0;\n",
       "        width: 32px;\n",
       "      }\n",
       "\n",
       "      .colab-df-generate:hover {\n",
       "        background-color: #E2EBFA;\n",
       "        box-shadow: 0px 1px 2px rgba(60, 64, 67, 0.3), 0px 1px 3px 1px rgba(60, 64, 67, 0.15);\n",
       "        fill: #174EA6;\n",
       "      }\n",
       "\n",
       "      [theme=dark] .colab-df-generate {\n",
       "        background-color: #3B4455;\n",
       "        fill: #D2E3FC;\n",
       "      }\n",
       "\n",
       "      [theme=dark] .colab-df-generate:hover {\n",
       "        background-color: #434B5C;\n",
       "        box-shadow: 0px 1px 3px 1px rgba(0, 0, 0, 0.15);\n",
       "        filter: drop-shadow(0px 1px 2px rgba(0, 0, 0, 0.3));\n",
       "        fill: #FFFFFF;\n",
       "      }\n",
       "    </style>\n",
       "    <button class=\"colab-df-generate\" onclick=\"generateWithVariable('df')\"\n",
       "            title=\"Generate code using this dataframe.\"\n",
       "            style=\"display:none;\">\n",
       "\n",
       "  <svg xmlns=\"http://www.w3.org/2000/svg\" height=\"24px\"viewBox=\"0 0 24 24\"\n",
       "       width=\"24px\">\n",
       "    <path d=\"M7,19H8.4L18.45,9,17,7.55,7,17.6ZM5,21V16.75L18.45,3.32a2,2,0,0,1,2.83,0l1.4,1.43a1.91,1.91,0,0,1,.58,1.4,1.91,1.91,0,0,1-.58,1.4L9.25,21ZM18.45,9,17,7.55Zm-12,3A5.31,5.31,0,0,0,4.9,8.1,5.31,5.31,0,0,0,1,6.5,5.31,5.31,0,0,0,4.9,4.9,5.31,5.31,0,0,0,6.5,1,5.31,5.31,0,0,0,8.1,4.9,5.31,5.31,0,0,0,12,6.5,5.46,5.46,0,0,0,6.5,12Z\"/>\n",
       "  </svg>\n",
       "    </button>\n",
       "    <script>\n",
       "      (() => {\n",
       "      const buttonEl =\n",
       "        document.querySelector('#id_3804f17e-848b-4e33-9300-29f703d6610c button.colab-df-generate');\n",
       "      buttonEl.style.display =\n",
       "        google.colab.kernel.accessAllowed ? 'block' : 'none';\n",
       "\n",
       "      buttonEl.onclick = () => {\n",
       "        google.colab.notebook.generateWithVariable('df');\n",
       "      }\n",
       "      })();\n",
       "    </script>\n",
       "  </div>\n",
       "\n",
       "    </div>\n",
       "  </div>\n"
      ],
      "text/plain": [
       "     Actual  Predicted\n",
       "661       1          1\n",
       "122       0          0\n",
       "113       0          0\n",
       "14        1          1\n",
       "529       0          0\n",
       "..      ...        ...\n",
       "476       1          0\n",
       "482       0          0\n",
       "230       1          0\n",
       "527       0          0\n",
       "380       0          0\n",
       "\n",
       "[154 rows x 2 columns]"
      ]
     },
     "execution_count": 37,
     "metadata": {},
     "output_type": "execute_result"
    }
   ],
   "source": [
    "#simpan hasil klasifikasi metode knn dengan split data\n",
    "print(\"Hasil Klasifikasi Metode KNN\")\n",
    "df = pd.DataFrame({'Actual': Y_test, 'Predicted': y_prediksi.flatten()})\n",
    "df"
   ]
  },
  {
   "cell_type": "code",
   "execution_count": 38,
   "id": "33b458b6",
   "metadata": {
    "executionInfo": {
     "elapsed": 8,
     "status": "ok",
     "timestamp": 1726554510696,
     "user": {
      "displayName": "Switra yana",
      "userId": "05526936548485182607"
     },
     "user_tz": -480
    },
    "id": "33b458b6"
   },
   "outputs": [],
   "source": [
    "#4,90,88,47,54,37.7,0.362,29,0\n",
    "#0,125,68,0,0,24.7,0.206,21,0\n",
    "#0,132,78,0,0,32.4,0.393,21,0"
   ]
  },
  {
   "cell_type": "markdown",
   "id": "z4UzZQwW0uwp",
   "metadata": {
    "id": "z4UzZQwW0uwp"
   },
   "source": [
    "#TESTING USING UNSEEN DATA"
   ]
  },
  {
   "cell_type": "code",
   "execution_count": 39,
   "id": "0af7b7da",
   "metadata": {
    "colab": {
     "base_uri": "https://localhost:8080/"
    },
    "executionInfo": {
     "elapsed": 7,
     "status": "ok",
     "timestamp": 1726554510696,
     "user": {
      "displayName": "Switra yana",
      "userId": "05526936548485182607"
     },
     "user_tz": -480
    },
    "id": "0af7b7da",
    "outputId": "18dade2b-b0ca-4cf8-c79b-2aa5b945f12f"
   },
   "outputs": [
    {
     "name": "stdout",
     "output_type": "stream",
     "text": [
      "[0]\n",
      "Tidak Diabetes\n"
     ]
    },
    {
     "name": "stderr",
     "output_type": "stream",
     "text": [
      "/usr/local/lib/python3.10/dist-packages/sklearn/base.py:465: UserWarning: X does not have valid feature names, but KNeighborsClassifier was fitted with feature names\n",
      "  warnings.warn(\n"
     ]
    }
   ],
   "source": [
    "#Test Data Baru\n",
    "input_data = (0,132,78,0,0,32.4,0.393,21)\n",
    "input_data_as_numpy_array = np.array(input_data)\n",
    "input_data_reshape = input_data_as_numpy_array.reshape(1,-1)\n",
    "\n",
    "prediksi = knn.predict(input_data_reshape)\n",
    "print(prediksi)\n",
    "\n",
    "if (prediksi[0] == 0):\n",
    "    print('Tidak Diabetes')\n",
    "else:\n",
    "    print('Diabetes')"
   ]
  },
  {
   "cell_type": "markdown",
   "id": "bmltEsc81y7S",
   "metadata": {
    "id": "bmltEsc81y7S"
   },
   "source": [
    "# Compare to other Model"
   ]
  },
  {
   "cell_type": "markdown",
   "id": "JG59q6f7rqsH",
   "metadata": {
    "id": "JG59q6f7rqsH"
   },
   "source": [
    "# Naive Bayes"
   ]
  },
  {
   "cell_type": "code",
   "execution_count": 40,
   "id": "UnGVOHwfpbhM",
   "metadata": {
    "colab": {
     "base_uri": "https://localhost:8080/",
     "height": 75
    },
    "executionInfo": {
     "elapsed": 6,
     "status": "ok",
     "timestamp": 1726554510696,
     "user": {
      "displayName": "Switra yana",
      "userId": "05526936548485182607"
     },
     "user_tz": -480
    },
    "id": "UnGVOHwfpbhM",
    "outputId": "781d1f76-8c47-4a49-e3d4-5fb641d7e75e"
   },
   "outputs": [
    {
     "data": {
      "text/html": [
       "<style>#sk-container-id-2 {color: black;}#sk-container-id-2 pre{padding: 0;}#sk-container-id-2 div.sk-toggleable {background-color: white;}#sk-container-id-2 label.sk-toggleable__label {cursor: pointer;display: block;width: 100%;margin-bottom: 0;padding: 0.3em;box-sizing: border-box;text-align: center;}#sk-container-id-2 label.sk-toggleable__label-arrow:before {content: \"▸\";float: left;margin-right: 0.25em;color: #696969;}#sk-container-id-2 label.sk-toggleable__label-arrow:hover:before {color: black;}#sk-container-id-2 div.sk-estimator:hover label.sk-toggleable__label-arrow:before {color: black;}#sk-container-id-2 div.sk-toggleable__content {max-height: 0;max-width: 0;overflow: hidden;text-align: left;background-color: #f0f8ff;}#sk-container-id-2 div.sk-toggleable__content pre {margin: 0.2em;color: black;border-radius: 0.25em;background-color: #f0f8ff;}#sk-container-id-2 input.sk-toggleable__control:checked~div.sk-toggleable__content {max-height: 200px;max-width: 100%;overflow: auto;}#sk-container-id-2 input.sk-toggleable__control:checked~label.sk-toggleable__label-arrow:before {content: \"▾\";}#sk-container-id-2 div.sk-estimator input.sk-toggleable__control:checked~label.sk-toggleable__label {background-color: #d4ebff;}#sk-container-id-2 div.sk-label input.sk-toggleable__control:checked~label.sk-toggleable__label {background-color: #d4ebff;}#sk-container-id-2 input.sk-hidden--visually {border: 0;clip: rect(1px 1px 1px 1px);clip: rect(1px, 1px, 1px, 1px);height: 1px;margin: -1px;overflow: hidden;padding: 0;position: absolute;width: 1px;}#sk-container-id-2 div.sk-estimator {font-family: monospace;background-color: #f0f8ff;border: 1px dotted black;border-radius: 0.25em;box-sizing: border-box;margin-bottom: 0.5em;}#sk-container-id-2 div.sk-estimator:hover {background-color: #d4ebff;}#sk-container-id-2 div.sk-parallel-item::after {content: \"\";width: 100%;border-bottom: 1px solid gray;flex-grow: 1;}#sk-container-id-2 div.sk-label:hover label.sk-toggleable__label {background-color: #d4ebff;}#sk-container-id-2 div.sk-serial::before {content: \"\";position: absolute;border-left: 1px solid gray;box-sizing: border-box;top: 0;bottom: 0;left: 50%;z-index: 0;}#sk-container-id-2 div.sk-serial {display: flex;flex-direction: column;align-items: center;background-color: white;padding-right: 0.2em;padding-left: 0.2em;position: relative;}#sk-container-id-2 div.sk-item {position: relative;z-index: 1;}#sk-container-id-2 div.sk-parallel {display: flex;align-items: stretch;justify-content: center;background-color: white;position: relative;}#sk-container-id-2 div.sk-item::before, #sk-container-id-2 div.sk-parallel-item::before {content: \"\";position: absolute;border-left: 1px solid gray;box-sizing: border-box;top: 0;bottom: 0;left: 50%;z-index: -1;}#sk-container-id-2 div.sk-parallel-item {display: flex;flex-direction: column;z-index: 1;position: relative;background-color: white;}#sk-container-id-2 div.sk-parallel-item:first-child::after {align-self: flex-end;width: 50%;}#sk-container-id-2 div.sk-parallel-item:last-child::after {align-self: flex-start;width: 50%;}#sk-container-id-2 div.sk-parallel-item:only-child::after {width: 0;}#sk-container-id-2 div.sk-dashed-wrapped {border: 1px dashed gray;margin: 0 0.4em 0.5em 0.4em;box-sizing: border-box;padding-bottom: 0.4em;background-color: white;}#sk-container-id-2 div.sk-label label {font-family: monospace;font-weight: bold;display: inline-block;line-height: 1.2em;}#sk-container-id-2 div.sk-label-container {text-align: center;}#sk-container-id-2 div.sk-container {/* jupyter's `normalize.less` sets `[hidden] { display: none; }` but bootstrap.min.css set `[hidden] { display: none !important; }` so we also need the `!important` here to be able to override the default hidden behavior on the sphinx rendered scikit-learn.org. See: https://github.com/scikit-learn/scikit-learn/issues/21755 */display: inline-block !important;position: relative;}#sk-container-id-2 div.sk-text-repr-fallback {display: none;}</style><div id=\"sk-container-id-2\" class=\"sk-top-container\"><div class=\"sk-text-repr-fallback\"><pre>GaussianNB()</pre><b>In a Jupyter environment, please rerun this cell to show the HTML representation or trust the notebook. <br />On GitHub, the HTML representation is unable to render, please try loading this page with nbviewer.org.</b></div><div class=\"sk-container\" hidden><div class=\"sk-item\"><div class=\"sk-estimator sk-toggleable\"><input class=\"sk-toggleable__control sk-hidden--visually\" id=\"sk-estimator-id-2\" type=\"checkbox\" checked><label for=\"sk-estimator-id-2\" class=\"sk-toggleable__label sk-toggleable__label-arrow\">GaussianNB</label><div class=\"sk-toggleable__content\"><pre>GaussianNB()</pre></div></div></div></div></div>"
      ],
      "text/plain": [
       "GaussianNB()"
      ]
     },
     "execution_count": 40,
     "metadata": {},
     "output_type": "execute_result"
    }
   ],
   "source": [
    "from sklearn.naive_bayes import GaussianNB\n",
    "# Build and Train the Model\n",
    "nb = GaussianNB()\n",
    "nb.fit(X_train, Y_train)"
   ]
  },
  {
   "cell_type": "markdown",
   "id": "EJaik8Zmqcr4",
   "metadata": {
    "id": "EJaik8Zmqcr4"
   },
   "source": [
    "# Evaluation"
   ]
  },
  {
   "cell_type": "code",
   "execution_count": 41,
   "id": "FDM3ZrJgptGB",
   "metadata": {
    "colab": {
     "base_uri": "https://localhost:8080/"
    },
    "executionInfo": {
     "elapsed": 6,
     "status": "ok",
     "timestamp": 1726554510696,
     "user": {
      "displayName": "Switra yana",
      "userId": "05526936548485182607"
     },
     "user_tz": -480
    },
    "id": "FDM3ZrJgptGB",
    "outputId": "ac71c862-b34f-4835-f671-e3c46bb990d8"
   },
   "outputs": [
    {
     "name": "stdout",
     "output_type": "stream",
     "text": [
      "Performa Naive Bayes\n",
      "Akurasi Naive Bayes : 0.7922077922077922\n",
      "              precision    recall  f1-score   support\n",
      "\n",
      "           0       0.84      0.87      0.85       107\n",
      "           1       0.67      0.62      0.64        47\n",
      "\n",
      "    accuracy                           0.79       154\n",
      "   macro avg       0.76      0.74      0.75       154\n",
      "weighted avg       0.79      0.79      0.79       154\n",
      "\n"
     ]
    }
   ],
   "source": [
    "y_prediksi_nb = nb.predict(X_test)\n",
    "print(\"Performa Naive Bayes\")\n",
    "print(\"Akurasi Naive Bayes :\", metrics.accuracy_score(Y_test, y_prediksi_nb))\n",
    "print(metrics.classification_report(Y_test, y_prediksi_nb))"
   ]
  },
  {
   "cell_type": "code",
   "execution_count": 42,
   "id": "wk87KXagqFBR",
   "metadata": {
    "colab": {
     "base_uri": "https://localhost:8080/",
     "height": 720
    },
    "executionInfo": {
     "elapsed": 970,
     "status": "ok",
     "timestamp": 1726554511661,
     "user": {
      "displayName": "Switra yana",
      "userId": "05526936548485182607"
     },
     "user_tz": -480
    },
    "id": "wk87KXagqFBR",
    "outputId": "b6480e37-ea2f-4d1a-ef1d-76baba1f83bc"
   },
   "outputs": [
    {
     "data": {
      "image/png": "[encoded data removed]",
      "text/plain": [
       "<Figure size 800x600 with 2 Axes>"
      ]
     },
     "metadata": {},
     "output_type": "display_data"
    },
    {
     "name": "stdout",
     "output_type": "stream",
     "text": [
      "              precision    recall  f1-score   support\n",
      "\n",
      "           0     0.8378    0.8692    0.8532       107\n",
      "           1     0.6744    0.6170    0.6444        47\n",
      "\n",
      "    accuracy                         0.7922       154\n",
      "   macro avg     0.7561    0.7431    0.7488       154\n",
      "weighted avg     0.7880    0.7922    0.7895       154\n",
      "\n"
     ]
    }
   ],
   "source": [
    "cm_nb = confusion_matrix(Y_test, y_prediksi_nb)\n",
    "plt.figure(figsize=(8, 6))\n",
    "sns.heatmap(cm_nb, annot=True, fmt=\"d\", cmap=\"Blues\")\n",
    "plt.title(\"Confusion Matrix Naive Bayes\")\n",
    "plt.xlabel(\"Predicted Labels\")\n",
    "plt.ylabel(\"True Labels\")\n",
    "plt.show()\n",
    "\n",
    "# Generate classification report with zero_division parameter\n",
    "report_nb = classification_report(Y_test, y_prediksi_nb, zero_division=0, digits=4)  # Zero division: You can use 0, 1, 'warn', or 'raise'\n",
    "print(report_nb)"
   ]
  },
  {
   "cell_type": "code",
   "execution_count": 43,
   "id": "eHDlMjCBp75y",
   "metadata": {
    "colab": {
     "base_uri": "https://localhost:8080/",
     "height": 441
    },
    "executionInfo": {
     "elapsed": 6,
     "status": "ok",
     "timestamp": 1726554511661,
     "user": {
      "displayName": "Switra yana",
      "userId": "05526936548485182607"
     },
     "user_tz": -480
    },
    "id": "eHDlMjCBp75y",
    "outputId": "62171273-d216-4d09-f400-8f38bcd457ec"
   },
   "outputs": [
    {
     "name": "stdout",
     "output_type": "stream",
     "text": [
      "Hasil Klasifikasi Metode Naive Bayes\n"
     ]
    },
    {
     "data": {
      "application/vnd.google.colaboratory.intrinsic+json": {
       "summary": "{\n  \"name\": \"df_nb\",\n  \"rows\": 154,\n  \"fields\": [\n    {\n      \"column\": \"Actual\",\n      \"properties\": {\n        \"dtype\": \"number\",\n        \"std\": 0,\n        \"min\": 0,\n        \"max\": 1,\n        \"num_unique_values\": 2,\n        \"samples\": [\n          0,\n          1\n        ],\n        \"semantic_type\": \"\",\n        \"description\": \"\"\n      }\n    },\n    {\n      \"column\": \"Predicted\",\n      \"properties\": {\n        \"dtype\": \"number\",\n        \"std\": 0,\n        \"min\": 0,\n        \"max\": 1,\n        \"num_unique_values\": 2,\n        \"samples\": [\n          0,\n          1\n        ],\n        \"semantic_type\": \"\",\n        \"description\": \"\"\n      }\n    }\n  ]\n}",
       "type": "dataframe",
       "variable_name": "df_nb"
      },
      "text/html": [
       "\n",
       "  <div id=\"df-c8f8d97c-b710-469a-94a9-e7e0a07c5d65\" class=\"colab-df-container\">\n",
       "    <div>\n",
       "<style scoped>\n",
       "    .dataframe tbody tr th:only-of-type {\n",
       "        vertical-align: middle;\n",
       "    }\n",
       "\n",
       "    .dataframe tbody tr th {\n",
       "        vertical-align: top;\n",
       "    }\n",
       "\n",
       "    .dataframe thead th {\n",
       "        text-align: right;\n",
       "    }\n",
       "</style>\n",
       "<table border=\"1\" class=\"dataframe\">\n",
       "  <thead>\n",
       "    <tr style=\"text-align: right;\">\n",
       "      <th></th>\n",
       "      <th>Actual</th>\n",
       "      <th>Predicted</th>\n",
       "    </tr>\n",
       "  </thead>\n",
       "  <tbody>\n",
       "    <tr>\n",
       "      <th>661</th>\n",
       "      <td>1</td>\n",
       "      <td>1</td>\n",
       "    </tr>\n",
       "    <tr>\n",
       "      <th>122</th>\n",
       "      <td>0</td>\n",
       "      <td>0</td>\n",
       "    </tr>\n",
       "    <tr>\n",
       "      <th>113</th>\n",
       "      <td>0</td>\n",
       "      <td>0</td>\n",
       "    </tr>\n",
       "    <tr>\n",
       "      <th>14</th>\n",
       "      <td>1</td>\n",
       "      <td>1</td>\n",
       "    </tr>\n",
       "    <tr>\n",
       "      <th>529</th>\n",
       "      <td>0</td>\n",
       "      <td>0</td>\n",
       "    </tr>\n",
       "    <tr>\n",
       "      <th>...</th>\n",
       "      <td>...</td>\n",
       "      <td>...</td>\n",
       "    </tr>\n",
       "    <tr>\n",
       "      <th>476</th>\n",
       "      <td>1</td>\n",
       "      <td>0</td>\n",
       "    </tr>\n",
       "    <tr>\n",
       "      <th>482</th>\n",
       "      <td>0</td>\n",
       "      <td>0</td>\n",
       "    </tr>\n",
       "    <tr>\n",
       "      <th>230</th>\n",
       "      <td>1</td>\n",
       "      <td>0</td>\n",
       "    </tr>\n",
       "    <tr>\n",
       "      <th>527</th>\n",
       "      <td>0</td>\n",
       "      <td>0</td>\n",
       "    </tr>\n",
       "    <tr>\n",
       "      <th>380</th>\n",
       "      <td>0</td>\n",
       "      <td>0</td>\n",
       "    </tr>\n",
       "  </tbody>\n",
       "</table>\n",
       "<p>154 rows × 2 columns</p>\n",
       "</div>\n",
       "    <div class=\"colab-df-buttons\">\n",
       "\n",
       "  <div class=\"colab-df-container\">\n",
       "    <button class=\"colab-df-convert\" onclick=\"convertToInteractive('df-c8f8d97c-b710-469a-94a9-e7e0a07c5d65')\"\n",
       "            title=\"Convert this dataframe to an interactive table.\"\n",
       "            style=\"display:none;\">\n",
       "\n",
       "  <svg xmlns=\"http://www.w3.org/2000/svg\" height=\"24px\" viewBox=\"0 -960 960 960\">\n",
       "    <path d=\"M120-120v-720h720v720H120Zm60-500h600v-160H180v160Zm220 220h160v-160H400v160Zm0 220h160v-160H400v160ZM180-400h160v-160H180v160Zm440 0h160v-160H620v160ZM180-180h160v-160H180v160Zm440 0h160v-160H620v160Z\"/>\n",
       "  </svg>\n",
       "    </button>\n",
       "\n",
       "  <style>\n",
       "    .colab-df-container {\n",
       "      display:flex;\n",
       "      gap: 12px;\n",
       "    }\n",
       "\n",
       "    .colab-df-convert {\n",
       "      background-color: #E8F0FE;\n",
       "      border: none;\n",
       "      border-radius: 50%;\n",
       "      cursor: pointer;\n",
       "      display: none;\n",
       "      fill: #1967D2;\n",
       "      height: 32px;\n",
       "      padding: 0 0 0 0;\n",
       "      width: 32px;\n",
       "    }\n",
       "\n",
       "    .colab-df-convert:hover {\n",
       "      background-color: #E2EBFA;\n",
       "      box-shadow: 0px 1px 2px rgba(60, 64, 67, 0.3), 0px 1px 3px 1px rgba(60, 64, 67, 0.15);\n",
       "      fill: #174EA6;\n",
       "    }\n",
       "\n",
       "    .colab-df-buttons div {\n",
       "      margin-bottom: 4px;\n",
       "    }\n",
       "\n",
       "    [theme=dark] .colab-df-convert {\n",
       "      background-color: #3B4455;\n",
       "      fill: #D2E3FC;\n",
       "    }\n",
       "\n",
       "    [theme=dark] .colab-df-convert:hover {\n",
       "      background-color: #434B5C;\n",
       "      box-shadow: 0px 1px 3px 1px rgba(0, 0, 0, 0.15);\n",
       "      filter: drop-shadow(0px 1px 2px rgba(0, 0, 0, 0.3));\n",
       "      fill: #FFFFFF;\n",
       "    }\n",
       "  </style>\n",
       "\n",
       "    <script>\n",
       "      const buttonEl =\n",
       "        document.querySelector('#df-c8f8d97c-b710-469a-94a9-e7e0a07c5d65 button.colab-df-convert');\n",
       "      buttonEl.style.display =\n",
       "        google.colab.kernel.accessAllowed ? 'block' : 'none';\n",
       "\n",
       "      async function convertToInteractive(key) {\n",
       "        const element = document.querySelector('#df-c8f8d97c-b710-469a-94a9-e7e0a07c5d65');\n",
       "        const dataTable =\n",
       "          await google.colab.kernel.invokeFunction('convertToInteractive',\n",
       "                                                    [key], {});\n",
       "        if (!dataTable) return;\n",
       "\n",
       "        const docLinkHtml = 'Like what you see? Visit the ' +\n",
       "          '<a target=\"_blank\" href=https://colab.research.google.com/notebooks/data_table.ipynb>data table notebook</a>'\n",
       "          + ' to learn more about interactive tables.';\n",
       "        element.innerHTML = '';\n",
       "        dataTable['output_type'] = 'display_data';\n",
       "        await google.colab.output.renderOutput(dataTable, element);\n",
       "        const docLink = document.createElement('div');\n",
       "        docLink.innerHTML = docLinkHtml;\n",
       "        element.appendChild(docLink);\n",
       "      }\n",
       "    </script>\n",
       "  </div>\n",
       "\n",
       "\n",
       "<div id=\"df-a5c2973f-c0be-44aa-8321-522598882c73\">\n",
       "  <button class=\"colab-df-quickchart\" onclick=\"quickchart('df-a5c2973f-c0be-44aa-8321-522598882c73')\"\n",
       "            title=\"Suggest charts\"\n",
       "            style=\"display:none;\">\n",
       "\n",
       "<svg xmlns=\"http://www.w3.org/2000/svg\" height=\"24px\"viewBox=\"0 0 24 24\"\n",
       "     width=\"24px\">\n",
       "    <g>\n",
       "        <path d=\"M19 3H5c-1.1 0-2 .9-2 2v14c0 1.1.9 2 2 2h14c1.1 0 2-.9 2-2V5c0-1.1-.9-2-2-2zM9 17H7v-7h2v7zm4 0h-2V7h2v10zm4 0h-2v-4h2v4z\"/>\n",
       "    </g>\n",
       "</svg>\n",
       "  </button>\n",
       "\n",
       "<style>\n",
       "  .colab-df-quickchart {\n",
       "      --bg-color: #E8F0FE;\n",
       "      --fill-color: #1967D2;\n",
       "      --hover-bg-color: #E2EBFA;\n",
       "      --hover-fill-color: #174EA6;\n",
       "      --disabled-fill-color: #AAA;\n",
       "      --disabled-bg-color: #DDD;\n",
       "  }\n",
       "\n",
       "  [theme=dark] .colab-df-quickchart {\n",
       "      --bg-color: #3B4455;\n",
       "      --fill-color: #D2E3FC;\n",
       "      --hover-bg-color: #434B5C;\n",
       "      --hover-fill-color: #FFFFFF;\n",
       "      --disabled-bg-color: #3B4455;\n",
       "      --disabled-fill-color: #666;\n",
       "  }\n",
       "\n",
       "  .colab-df-quickchart {\n",
       "    background-color: var(--bg-color);\n",
       "    border: none;\n",
       "    border-radius: 50%;\n",
       "    cursor: pointer;\n",
       "    display: none;\n",
       "    fill: var(--fill-color);\n",
       "    height: 32px;\n",
       "    padding: 0;\n",
       "    width: 32px;\n",
       "  }\n",
       "\n",
       "  .colab-df-quickchart:hover {\n",
       "    background-color: var(--hover-bg-color);\n",
       "    box-shadow: 0 1px 2px rgba(60, 64, 67, 0.3), 0 1px 3px 1px rgba(60, 64, 67, 0.15);\n",
       "    fill: var(--button-hover-fill-color);\n",
       "  }\n",
       "\n",
       "  .colab-df-quickchart-complete:disabled,\n",
       "  .colab-df-quickchart-complete:disabled:hover {\n",
       "    background-color: var(--disabled-bg-color);\n",
       "    fill: var(--disabled-fill-color);\n",
       "    box-shadow: none;\n",
       "  }\n",
       "\n",
       "  .colab-df-spinner {\n",
       "    border: 2px solid var(--fill-color);\n",
       "    border-color: transparent;\n",
       "    border-bottom-color: var(--fill-color);\n",
       "    animation:\n",
       "      spin 1s steps(1) infinite;\n",
       "  }\n",
       "\n",
       "  @keyframes spin {\n",
       "    0% {\n",
       "      border-color: transparent;\n",
       "      border-bottom-color: var(--fill-color);\n",
       "      border-left-color: var(--fill-color);\n",
       "    }\n",
       "    20% {\n",
       "      border-color: transparent;\n",
       "      border-left-color: var(--fill-color);\n",
       "      border-top-color: var(--fill-color);\n",
       "    }\n",
       "    30% {\n",
       "      border-color: transparent;\n",
       "      border-left-color: var(--fill-color);\n",
       "      border-top-color: var(--fill-color);\n",
       "      border-right-color: var(--fill-color);\n",
       "    }\n",
       "    40% {\n",
       "      border-color: transparent;\n",
       "      border-right-color: var(--fill-color);\n",
       "      border-top-color: var(--fill-color);\n",
       "    }\n",
       "    60% {\n",
       "      border-color: transparent;\n",
       "      border-right-color: var(--fill-color);\n",
       "    }\n",
       "    80% {\n",
       "      border-color: transparent;\n",
       "      border-right-color: var(--fill-color);\n",
       "      border-bottom-color: var(--fill-color);\n",
       "    }\n",
       "    90% {\n",
       "      border-color: transparent;\n",
       "      border-bottom-color: var(--fill-color);\n",
       "    }\n",
       "  }\n",
       "</style>\n",
       "\n",
       "  <script>\n",
       "    async function quickchart(key) {\n",
       "      const quickchartButtonEl =\n",
       "        document.querySelector('#' + key + ' button');\n",
       "      quickchartButtonEl.disabled = true;  // To prevent multiple clicks.\n",
       "      quickchartButtonEl.classList.add('colab-df-spinner');\n",
       "      try {\n",
       "        const charts = await google.colab.kernel.invokeFunction(\n",
       "            'suggestCharts', [key], {});\n",
       "      } catch (error) {\n",
       "        console.error('Error during call to suggestCharts:', error);\n",
       "      }\n",
       "      quickchartButtonEl.classList.remove('colab-df-spinner');\n",
       "      quickchartButtonEl.classList.add('colab-df-quickchart-complete');\n",
       "    }\n",
       "    (() => {\n",
       "      let quickchartButtonEl =\n",
       "        document.querySelector('#df-a5c2973f-c0be-44aa-8321-522598882c73 button');\n",
       "      quickchartButtonEl.style.display =\n",
       "        google.colab.kernel.accessAllowed ? 'block' : 'none';\n",
       "    })();\n",
       "  </script>\n",
       "</div>\n",
       "\n",
       "  <div id=\"id_59a43854-91d1-4ba7-aaaf-8405455e6701\">\n",
       "    <style>\n",
       "      .colab-df-generate {\n",
       "        background-color: #E8F0FE;\n",
       "        border: none;\n",
       "        border-radius: 50%;\n",
       "        cursor: pointer;\n",
       "        display: none;\n",
       "        fill: #1967D2;\n",
       "        height: 32px;\n",
       "        padding: 0 0 0 0;\n",
       "        width: 32px;\n",
       "      }\n",
       "\n",
       "      .colab-df-generate:hover {\n",
       "        background-color: #E2EBFA;\n",
       "        box-shadow: 0px 1px 2px rgba(60, 64, 67, 0.3), 0px 1px 3px 1px rgba(60, 64, 67, 0.15);\n",
       "        fill: #174EA6;\n",
       "      }\n",
       "\n",
       "      [theme=dark] .colab-df-generate {\n",
       "        background-color: #3B4455;\n",
       "        fill: #D2E3FC;\n",
       "      }\n",
       "\n",
       "      [theme=dark] .colab-df-generate:hover {\n",
       "        background-color: #434B5C;\n",
       "        box-shadow: 0px 1px 3px 1px rgba(0, 0, 0, 0.15);\n",
       "        filter: drop-shadow(0px 1px 2px rgba(0, 0, 0, 0.3));\n",
       "        fill: #FFFFFF;\n",
       "      }\n",
       "    </style>\n",
       "    <button class=\"colab-df-generate\" onclick=\"generateWithVariable('df_nb')\"\n",
       "            title=\"Generate code using this dataframe.\"\n",
       "            style=\"display:none;\">\n",
       "\n",
       "  <svg xmlns=\"http://www.w3.org/2000/svg\" height=\"24px\"viewBox=\"0 0 24 24\"\n",
       "       width=\"24px\">\n",
       "    <path d=\"M7,19H8.4L18.45,9,17,7.55,7,17.6ZM5,21V16.75L18.45,3.32a2,2,0,0,1,2.83,0l1.4,1.43a1.91,1.91,0,0,1,.58,1.4,1.91,1.91,0,0,1-.58,1.4L9.25,21ZM18.45,9,17,7.55Zm-12,3A5.31,5.31,0,0,0,4.9,8.1,5.31,5.31,0,0,0,1,6.5,5.31,5.31,0,0,0,4.9,4.9,5.31,5.31,0,0,0,6.5,1,5.31,5.31,0,0,0,8.1,4.9,5.31,5.31,0,0,0,12,6.5,5.46,5.46,0,0,0,6.5,12Z\"/>\n",
       "  </svg>\n",
       "    </button>\n",
       "    <script>\n",
       "      (() => {\n",
       "      const buttonEl =\n",
       "        document.querySelector('#id_59a43854-91d1-4ba7-aaaf-8405455e6701 button.colab-df-generate');\n",
       "      buttonEl.style.display =\n",
       "        google.colab.kernel.accessAllowed ? 'block' : 'none';\n",
       "\n",
       "      buttonEl.onclick = () => {\n",
       "        google.colab.notebook.generateWithVariable('df_nb');\n",
       "      }\n",
       "      })();\n",
       "    </script>\n",
       "  </div>\n",
       "\n",
       "    </div>\n",
       "  </div>\n"
      ],
      "text/plain": [
       "     Actual  Predicted\n",
       "661       1          1\n",
       "122       0          0\n",
       "113       0          0\n",
       "14        1          1\n",
       "529       0          0\n",
       "..      ...        ...\n",
       "476       1          0\n",
       "482       0          0\n",
       "230       1          0\n",
       "527       0          0\n",
       "380       0          0\n",
       "\n",
       "[154 rows x 2 columns]"
      ]
     },
     "execution_count": 43,
     "metadata": {},
     "output_type": "execute_result"
    }
   ],
   "source": [
    "# Simpan hasil klasifikasi metode Naive Bayes dengan split data\n",
    "print(\"Hasil Klasifikasi Metode Naive Bayes\")\n",
    "df_nb = pd.DataFrame({'Actual': Y_test, 'Predicted': y_prediksi_nb.flatten()})\n",
    "df_nb\n"
   ]
  },
  {
   "cell_type": "markdown",
   "id": "LkwW2KQhqkgh",
   "metadata": {
    "id": "LkwW2KQhqkgh"
   },
   "source": [
    "# TESTING USING UNSEEN DATA"
   ]
  },
  {
   "cell_type": "code",
   "execution_count": 44,
   "id": "fdtglFsVp9yu",
   "metadata": {
    "colab": {
     "base_uri": "https://localhost:8080/"
    },
    "executionInfo": {
     "elapsed": 5,
     "status": "ok",
     "timestamp": 1726554511661,
     "user": {
      "displayName": "Switra yana",
      "userId": "05526936548485182607"
     },
     "user_tz": -480
    },
    "id": "fdtglFsVp9yu",
    "outputId": "d5a7c116-e859-4a19-8617-cd2a3ed0de87"
   },
   "outputs": [
    {
     "name": "stdout",
     "output_type": "stream",
     "text": [
      "[0]\n",
      "Tidak Diabetes\n"
     ]
    },
    {
     "name": "stderr",
     "output_type": "stream",
     "text": [
      "/usr/local/lib/python3.10/dist-packages/sklearn/base.py:465: UserWarning: X does not have valid feature names, but GaussianNB was fitted with feature names\n",
      "  warnings.warn(\n"
     ]
    }
   ],
   "source": [
    "# Test Data Baru\n",
    "input_data = (0,132,78,0,0,32.4,0.393,21)\n",
    "input_data_as_numpy_array = np.array(input_data)\n",
    "input_data_reshape = input_data_as_numpy_array.reshape(1,-1)\n",
    "\n",
    "prediksi_nb = nb.predict(input_data_reshape)\n",
    "print(prediksi_nb)\n",
    "\n",
    "if (prediksi_nb[0] == 0):\n",
    "    print('Tidak Diabetes')\n",
    "else:\n",
    "    print('Diabetes')"
   ]
  },
  {
   "cell_type": "markdown",
   "id": "8hmjn1ZU3Adk",
   "metadata": {
    "id": "8hmjn1ZU3Adk"
   },
   "source": [
    "# https://scikit-learn.org/stable/user_guide.html"
   ]
  },
  {
   "cell_type": "markdown",
   "id": "fymeSAQF3FO2",
   "metadata": {
    "id": "fymeSAQF3FO2"
   },
   "source": [
    "![image.png](data:image/png;base64,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)"
   ]
  }
 ],
 "metadata": {
  "colab": {
   "provenance": []
  },
  "kernelspec": {
   "display_name": "Python 3 (ipykernel)",
   "language": "python",
   "name": "python3"
  },
  "language_info": {
   "codemirror_mode": {
    "name": "ipython",
    "version": 3
   },
   "file_extension": ".py",
   "mimetype": "text/x-python",
   "name": "python",
   "nbconvert_exporter": "python",
   "pygments_lexer": "ipython3",
   "version": "3.9.16"
  }
 },
 "nbformat": 4,
 "nbformat_minor": 5
}
