{
 "cells": [
  {
   "cell_type": "markdown",
   "metadata": {
    "id": "t_Zsa6Qq3Cld"
   },
   "source": [
    "# Simple Linear Regression"
   ]
  },
  {
   "cell_type": "code",
   "execution_count": 1,
   "metadata": {
    "colab": {
     "base_uri": "https://localhost:8080/"
    },
    "executionInfo": {
     "elapsed": 26671,
     "status": "ok",
     "timestamp": 1726557920601,
     "user": {
      "displayName": "Switra yana",
      "userId": "05526936548485182607"
     },
     "user_tz": -480
    },
    "id": "vxX045ya3iz7",
    "outputId": "8fc6749a-97d6-4d60-e011-716fac7947de"
   },
   "outputs": [
    {
     "name": "stdout",
     "output_type": "stream",
     "text": [
      "Mounted at /content/drive\n"
     ]
    }
   ],
   "source": [
    "from google.colab import drive\n",
    "drive.mount('/content/drive')"
   ]
  },
  {
   "cell_type": "code",
   "execution_count": 2,
   "metadata": {
    "colab": {
     "base_uri": "https://localhost:8080/"
    },
    "executionInfo": {
     "elapsed": 5,
     "status": "ok",
     "timestamp": 1726557920602,
     "user": {
      "displayName": "Switra yana",
      "userId": "05526936548485182607"
     },
     "user_tz": -480
    },
    "id": "xnmeckrr3i23",
    "outputId": "3a603eea-683a-4193-a893-d4aab5c9c9fa"
   },
   "outputs": [
    {
     "name": "stdout",
     "output_type": "stream",
     "text": [
      "/content/drive/My Drive/Colab Notebooks/Praktikum Pemrograman 5\n"
     ]
    }
   ],
   "source": [
    "%cd /content/drive/My Drive/Colab Notebooks/Praktikum Pemrograman 5"
   ]
  },
  {
   "cell_type": "code",
   "execution_count": 3,
   "metadata": {
    "colab": {
     "base_uri": "https://localhost:8080/"
    },
    "executionInfo": {
     "elapsed": 875,
     "status": "ok",
     "timestamp": 1726557921474,
     "user": {
      "displayName": "Switra yana",
      "userId": "05526936548485182607"
     },
     "user_tz": -480
    },
    "id": "nuB2_HMq3i6n",
    "outputId": "c197287a-e161-4dd3-ff0a-9726b596e2a9"
   },
   "outputs": [
    {
     "name": "stdout",
     "output_type": "stream",
     "text": [
      "'4a Simple Linear Regression.ipynb'                          'Data SLR.csv'\n",
      "'4b Multivariate Linear Regression.ipynb'                     decision_tree.jpg\n",
      "'5 Diabetes Classification using KNN & Naive Bayes .ipynb'    diabetes.csv\n",
      "'6 Diabetes Classification using Decision Tree & SVM.ipynb'  'House Price MLR.csv'\n",
      "'7 Diabetes Classification using Random Forest.ipynb'\n"
     ]
    }
   ],
   "source": [
    "ls"
   ]
  },
  {
   "cell_type": "code",
   "execution_count": 4,
   "metadata": {
    "executionInfo": {
     "elapsed": 493,
     "status": "ok",
     "timestamp": 1726557925751,
     "user": {
      "displayName": "Switra yana",
      "userId": "05526936548485182607"
     },
     "user_tz": -480
    },
    "id": "vS_nRt0w3vLO"
   },
   "outputs": [],
   "source": [
    "path = \"/content/drive/My Drive/Colab Notebooks/Praktikum Pemrograman 5\""
   ]
  },
  {
   "cell_type": "markdown",
   "metadata": {
    "id": "el80ri543Cle"
   },
   "source": [
    "### Load library"
   ]
  },
  {
   "cell_type": "code",
   "execution_count": 5,
   "metadata": {
    "executionInfo": {
     "elapsed": 3054,
     "status": "ok",
     "timestamp": 1726557940110,
     "user": {
      "displayName": "Switra yana",
      "userId": "05526936548485182607"
     },
     "user_tz": -480
    },
    "id": "oiGAHful3Clf"
   },
   "outputs": [],
   "source": [
    "import pandas as pd\n",
    "import matplotlib.pyplot as plt\n",
    "from sklearn.linear_model import LinearRegression\n",
    "from sklearn.model_selection import train_test_split"
   ]
  },
  {
   "cell_type": "markdown",
   "metadata": {
    "id": "SIzDAZvM3Clf"
   },
   "source": [
    "### Load datasets"
   ]
  },
  {
   "cell_type": "code",
   "execution_count": 6,
   "metadata": {
    "executionInfo": {
     "elapsed": 430,
     "status": "ok",
     "timestamp": 1726557959180,
     "user": {
      "displayName": "Switra yana",
      "userId": "05526936548485182607"
     },
     "user_tz": -480
    },
    "id": "PnEd60O33Clg"
   },
   "outputs": [],
   "source": [
    "#Nama dataframe kita adalah df yang berisi data dari data.csv\n",
    "#Hanya menggunakan kolom horsepower dan price\n",
    "df = pd.read_csv(path + '/Data SLR.csv', usecols=['horsepower', 'price'])"
   ]
  },
  {
   "cell_type": "markdown",
   "metadata": {
    "id": "PnwGrqLY3Clg"
   },
   "source": [
    "### Sneak peak data"
   ]
  },
  {
   "cell_type": "code",
   "execution_count": 7,
   "metadata": {
    "colab": {
     "base_uri": "https://localhost:8080/",
     "height": 206
    },
    "executionInfo": {
     "elapsed": 588,
     "status": "ok",
     "timestamp": 1726557967135,
     "user": {
      "displayName": "Switra yana",
      "userId": "05526936548485182607"
     },
     "user_tz": -480
    },
    "id": "QEGhmVWn3Clg",
    "outputId": "0eaba72b-a8e4-43f2-9fef-39c51e8935e5"
   },
   "outputs": [
    {
     "data": {
      "application/vnd.google.colaboratory.intrinsic+json": {
       "summary": "{\n  \"name\": \"df\",\n  \"rows\": 200,\n  \"fields\": [\n    {\n      \"column\": \"horsepower\",\n      \"properties\": {\n        \"dtype\": \"number\",\n        \"std\": 37.468614671844165,\n        \"min\": 48.0,\n        \"max\": 262.0,\n        \"num_unique_values\": 58,\n        \"samples\": [\n          111.0,\n          140.0,\n          55.0\n        ],\n        \"semantic_type\": \"\",\n        \"description\": \"\"\n      }\n    },\n    {\n      \"column\": \"price\",\n      \"properties\": {\n        \"dtype\": \"number\",\n        \"std\": 7960.155238529109,\n        \"min\": 5118.0,\n        \"max\": 45400.0,\n        \"num_unique_values\": 185,\n        \"samples\": [\n          5572.0,\n          35550.0,\n          10698.0\n        ],\n        \"semantic_type\": \"\",\n        \"description\": \"\"\n      }\n    }\n  ]\n}",
       "type": "dataframe",
       "variable_name": "df"
      },
      "text/html": [
       "\n",
       "  <div id=\"df-ae7176ba-2960-45b1-8a67-3d6f3eb68d03\" class=\"colab-df-container\">\n",
       "    <div>\n",
       "<style scoped>\n",
       "    .dataframe tbody tr th:only-of-type {\n",
       "        vertical-align: middle;\n",
       "    }\n",
       "\n",
       "    .dataframe tbody tr th {\n",
       "        vertical-align: top;\n",
       "    }\n",
       "\n",
       "    .dataframe thead th {\n",
       "        text-align: right;\n",
       "    }\n",
       "</style>\n",
       "<table border=\"1\" class=\"dataframe\">\n",
       "  <thead>\n",
       "    <tr style=\"text-align: right;\">\n",
       "      <th></th>\n",
       "      <th>horsepower</th>\n",
       "      <th>price</th>\n",
       "    </tr>\n",
       "  </thead>\n",
       "  <tbody>\n",
       "    <tr>\n",
       "      <th>0</th>\n",
       "      <td>111.0</td>\n",
       "      <td>13495.0</td>\n",
       "    </tr>\n",
       "    <tr>\n",
       "      <th>1</th>\n",
       "      <td>111.0</td>\n",
       "      <td>16500.0</td>\n",
       "    </tr>\n",
       "    <tr>\n",
       "      <th>2</th>\n",
       "      <td>154.0</td>\n",
       "      <td>16500.0</td>\n",
       "    </tr>\n",
       "    <tr>\n",
       "      <th>3</th>\n",
       "      <td>102.0</td>\n",
       "      <td>13950.0</td>\n",
       "    </tr>\n",
       "    <tr>\n",
       "      <th>4</th>\n",
       "      <td>115.0</td>\n",
       "      <td>17450.0</td>\n",
       "    </tr>\n",
       "  </tbody>\n",
       "</table>\n",
       "</div>\n",
       "    <div class=\"colab-df-buttons\">\n",
       "\n",
       "  <div class=\"colab-df-container\">\n",
       "    <button class=\"colab-df-convert\" onclick=\"convertToInteractive('df-ae7176ba-2960-45b1-8a67-3d6f3eb68d03')\"\n",
       "            title=\"Convert this dataframe to an interactive table.\"\n",
       "            style=\"display:none;\">\n",
       "\n",
       "  <svg xmlns=\"http://www.w3.org/2000/svg\" height=\"24px\" viewBox=\"0 -960 960 960\">\n",
       "    <path d=\"M120-120v-720h720v720H120Zm60-500h600v-160H180v160Zm220 220h160v-160H400v160Zm0 220h160v-160H400v160ZM180-400h160v-160H180v160Zm440 0h160v-160H620v160ZM180-180h160v-160H180v160Zm440 0h160v-160H620v160Z\"/>\n",
       "  </svg>\n",
       "    </button>\n",
       "\n",
       "  <style>\n",
       "    .colab-df-container {\n",
       "      display:flex;\n",
       "      gap: 12px;\n",
       "    }\n",
       "\n",
       "    .colab-df-convert {\n",
       "      background-color: #E8F0FE;\n",
       "      border: none;\n",
       "      border-radius: 50%;\n",
       "      cursor: pointer;\n",
       "      display: none;\n",
       "      fill: #1967D2;\n",
       "      height: 32px;\n",
       "      padding: 0 0 0 0;\n",
       "      width: 32px;\n",
       "    }\n",
       "\n",
       "    .colab-df-convert:hover {\n",
       "      background-color: #E2EBFA;\n",
       "      box-shadow: 0px 1px 2px rgba(60, 64, 67, 0.3), 0px 1px 3px 1px rgba(60, 64, 67, 0.15);\n",
       "      fill: #174EA6;\n",
       "    }\n",
       "\n",
       "    .colab-df-buttons div {\n",
       "      margin-bottom: 4px;\n",
       "    }\n",
       "\n",
       "    [theme=dark] .colab-df-convert {\n",
       "      background-color: #3B4455;\n",
       "      fill: #D2E3FC;\n",
       "    }\n",
       "\n",
       "    [theme=dark] .colab-df-convert:hover {\n",
       "      background-color: #434B5C;\n",
       "      box-shadow: 0px 1px 3px 1px rgba(0, 0, 0, 0.15);\n",
       "      filter: drop-shadow(0px 1px 2px rgba(0, 0, 0, 0.3));\n",
       "      fill: #FFFFFF;\n",
       "    }\n",
       "  </style>\n",
       "\n",
       "    <script>\n",
       "      const buttonEl =\n",
       "        document.querySelector('#df-ae7176ba-2960-45b1-8a67-3d6f3eb68d03 button.colab-df-convert');\n",
       "      buttonEl.style.display =\n",
       "        google.colab.kernel.accessAllowed ? 'block' : 'none';\n",
       "\n",
       "      async function convertToInteractive(key) {\n",
       "        const element = document.querySelector('#df-ae7176ba-2960-45b1-8a67-3d6f3eb68d03');\n",
       "        const dataTable =\n",
       "          await google.colab.kernel.invokeFunction('convertToInteractive',\n",
       "                                                    [key], {});\n",
       "        if (!dataTable) return;\n",
       "\n",
       "        const docLinkHtml = 'Like what you see? Visit the ' +\n",
       "          '<a target=\"_blank\" href=https://colab.research.google.com/notebooks/data_table.ipynb>data table notebook</a>'\n",
       "          + ' to learn more about interactive tables.';\n",
       "        element.innerHTML = '';\n",
       "        dataTable['output_type'] = 'display_data';\n",
       "        await google.colab.output.renderOutput(dataTable, element);\n",
       "        const docLink = document.createElement('div');\n",
       "        docLink.innerHTML = docLinkHtml;\n",
       "        element.appendChild(docLink);\n",
       "      }\n",
       "    </script>\n",
       "  </div>\n",
       "\n",
       "\n",
       "<div id=\"df-e7cbf767-3a9c-4a17-b133-1a5807374683\">\n",
       "  <button class=\"colab-df-quickchart\" onclick=\"quickchart('df-e7cbf767-3a9c-4a17-b133-1a5807374683')\"\n",
       "            title=\"Suggest charts\"\n",
       "            style=\"display:none;\">\n",
       "\n",
       "<svg xmlns=\"http://www.w3.org/2000/svg\" height=\"24px\"viewBox=\"0 0 24 24\"\n",
       "     width=\"24px\">\n",
       "    <g>\n",
       "        <path d=\"M19 3H5c-1.1 0-2 .9-2 2v14c0 1.1.9 2 2 2h14c1.1 0 2-.9 2-2V5c0-1.1-.9-2-2-2zM9 17H7v-7h2v7zm4 0h-2V7h2v10zm4 0h-2v-4h2v4z\"/>\n",
       "    </g>\n",
       "</svg>\n",
       "  </button>\n",
       "\n",
       "<style>\n",
       "  .colab-df-quickchart {\n",
       "      --bg-color: #E8F0FE;\n",
       "      --fill-color: #1967D2;\n",
       "      --hover-bg-color: #E2EBFA;\n",
       "      --hover-fill-color: #174EA6;\n",
       "      --disabled-fill-color: #AAA;\n",
       "      --disabled-bg-color: #DDD;\n",
       "  }\n",
       "\n",
       "  [theme=dark] .colab-df-quickchart {\n",
       "      --bg-color: #3B4455;\n",
       "      --fill-color: #D2E3FC;\n",
       "      --hover-bg-color: #434B5C;\n",
       "      --hover-fill-color: #FFFFFF;\n",
       "      --disabled-bg-color: #3B4455;\n",
       "      --disabled-fill-color: #666;\n",
       "  }\n",
       "\n",
       "  .colab-df-quickchart {\n",
       "    background-color: var(--bg-color);\n",
       "    border: none;\n",
       "    border-radius: 50%;\n",
       "    cursor: pointer;\n",
       "    display: none;\n",
       "    fill: var(--fill-color);\n",
       "    height: 32px;\n",
       "    padding: 0;\n",
       "    width: 32px;\n",
       "  }\n",
       "\n",
       "  .colab-df-quickchart:hover {\n",
       "    background-color: var(--hover-bg-color);\n",
       "    box-shadow: 0 1px 2px rgba(60, 64, 67, 0.3), 0 1px 3px 1px rgba(60, 64, 67, 0.15);\n",
       "    fill: var(--button-hover-fill-color);\n",
       "  }\n",
       "\n",
       "  .colab-df-quickchart-complete:disabled,\n",
       "  .colab-df-quickchart-complete:disabled:hover {\n",
       "    background-color: var(--disabled-bg-color);\n",
       "    fill: var(--disabled-fill-color);\n",
       "    box-shadow: none;\n",
       "  }\n",
       "\n",
       "  .colab-df-spinner {\n",
       "    border: 2px solid var(--fill-color);\n",
       "    border-color: transparent;\n",
       "    border-bottom-color: var(--fill-color);\n",
       "    animation:\n",
       "      spin 1s steps(1) infinite;\n",
       "  }\n",
       "\n",
       "  @keyframes spin {\n",
       "    0% {\n",
       "      border-color: transparent;\n",
       "      border-bottom-color: var(--fill-color);\n",
       "      border-left-color: var(--fill-color);\n",
       "    }\n",
       "    20% {\n",
       "      border-color: transparent;\n",
       "      border-left-color: var(--fill-color);\n",
       "      border-top-color: var(--fill-color);\n",
       "    }\n",
       "    30% {\n",
       "      border-color: transparent;\n",
       "      border-left-color: var(--fill-color);\n",
       "      border-top-color: var(--fill-color);\n",
       "      border-right-color: var(--fill-color);\n",
       "    }\n",
       "    40% {\n",
       "      border-color: transparent;\n",
       "      border-right-color: var(--fill-color);\n",
       "      border-top-color: var(--fill-color);\n",
       "    }\n",
       "    60% {\n",
       "      border-color: transparent;\n",
       "      border-right-color: var(--fill-color);\n",
       "    }\n",
       "    80% {\n",
       "      border-color: transparent;\n",
       "      border-right-color: var(--fill-color);\n",
       "      border-bottom-color: var(--fill-color);\n",
       "    }\n",
       "    90% {\n",
       "      border-color: transparent;\n",
       "      border-bottom-color: var(--fill-color);\n",
       "    }\n",
       "  }\n",
       "</style>\n",
       "\n",
       "  <script>\n",
       "    async function quickchart(key) {\n",
       "      const quickchartButtonEl =\n",
       "        document.querySelector('#' + key + ' button');\n",
       "      quickchartButtonEl.disabled = true;  // To prevent multiple clicks.\n",
       "      quickchartButtonEl.classList.add('colab-df-spinner');\n",
       "      try {\n",
       "        const charts = await google.colab.kernel.invokeFunction(\n",
       "            'suggestCharts', [key], {});\n",
       "      } catch (error) {\n",
       "        console.error('Error during call to suggestCharts:', error);\n",
       "      }\n",
       "      quickchartButtonEl.classList.remove('colab-df-spinner');\n",
       "      quickchartButtonEl.classList.add('colab-df-quickchart-complete');\n",
       "    }\n",
       "    (() => {\n",
       "      let quickchartButtonEl =\n",
       "        document.querySelector('#df-e7cbf767-3a9c-4a17-b133-1a5807374683 button');\n",
       "      quickchartButtonEl.style.display =\n",
       "        google.colab.kernel.accessAllowed ? 'block' : 'none';\n",
       "    })();\n",
       "  </script>\n",
       "</div>\n",
       "\n",
       "    </div>\n",
       "  </div>\n"
      ],
      "text/plain": [
       "   horsepower    price\n",
       "0       111.0  13495.0\n",
       "1       111.0  16500.0\n",
       "2       154.0  16500.0\n",
       "3       102.0  13950.0\n",
       "4       115.0  17450.0"
      ]
     },
     "execution_count": 7,
     "metadata": {},
     "output_type": "execute_result"
    }
   ],
   "source": [
    "#Melihat 5 baris teratas dari data\n",
    "#Independent variabel(x) adalah horsepower\n",
    "#Dependent variabel(y) adalah price\n",
    "df.head()"
   ]
  },
  {
   "cell_type": "code",
   "execution_count": 8,
   "metadata": {
    "colab": {
     "base_uri": "https://localhost:8080/"
    },
    "executionInfo": {
     "elapsed": 629,
     "status": "ok",
     "timestamp": 1726557973423,
     "user": {
      "displayName": "Switra yana",
      "userId": "05526936548485182607"
     },
     "user_tz": -480
    },
    "id": "OnSzQDjC3Clh",
    "outputId": "556089c3-159d-49a0-aae0-3385420aa264"
   },
   "outputs": [
    {
     "data": {
      "text/plain": [
       "(200, 2)"
      ]
     },
     "execution_count": 8,
     "metadata": {},
     "output_type": "execute_result"
    }
   ],
   "source": [
    "#Mengetahui jumlah kolom dan baris dari data\n",
    "#Data kita mempunya 2 kolom dengan 200 baris\n",
    "df.shape"
   ]
  },
  {
   "cell_type": "code",
   "execution_count": 9,
   "metadata": {
    "colab": {
     "base_uri": "https://localhost:8080/"
    },
    "executionInfo": {
     "elapsed": 666,
     "status": "ok",
     "timestamp": 1726557978800,
     "user": {
      "displayName": "Switra yana",
      "userId": "05526936548485182607"
     },
     "user_tz": -480
    },
    "id": "He07aLFX3Clh",
    "outputId": "4b67b199-0e5f-4049-ee4b-a9b087e306c2"
   },
   "outputs": [
    {
     "name": "stdout",
     "output_type": "stream",
     "text": [
      "<class 'pandas.core.frame.DataFrame'>\n",
      "RangeIndex: 200 entries, 0 to 199\n",
      "Data columns (total 2 columns):\n",
      " #   Column      Non-Null Count  Dtype  \n",
      "---  ------      --------------  -----  \n",
      " 0   horsepower  200 non-null    float64\n",
      " 1   price       200 non-null    float64\n",
      "dtypes: float64(2)\n",
      "memory usage: 3.2 KB\n"
     ]
    }
   ],
   "source": [
    "#Melihat informasi data kita mulai dari jumlah data, tipe data, memory yang digunakan dll.\n",
    "df.info()"
   ]
  },
  {
   "cell_type": "code",
   "execution_count": 10,
   "metadata": {
    "colab": {
     "base_uri": "https://localhost:8080/",
     "height": 300
    },
    "executionInfo": {
     "elapsed": 438,
     "status": "ok",
     "timestamp": 1726557981790,
     "user": {
      "displayName": "Switra yana",
      "userId": "05526936548485182607"
     },
     "user_tz": -480
    },
    "id": "IfBk7hnD3Clh",
    "outputId": "c3b5350f-da7d-4f91-f927-b994cc71ca5b"
   },
   "outputs": [
    {
     "data": {
      "application/vnd.google.colaboratory.intrinsic+json": {
       "summary": "{\n  \"name\": \"df\",\n  \"rows\": 8,\n  \"fields\": [\n    {\n      \"column\": \"horsepower\",\n      \"properties\": {\n        \"dtype\": \"number\",\n        \"std\": 77.34816156409539,\n        \"min\": 37.468614671844165,\n        \"max\": 262.0,\n        \"num_unique_values\": 8,\n        \"samples\": [\n          103.32,\n          95.0,\n          200.0\n        ],\n        \"semantic_type\": \"\",\n        \"description\": \"\"\n      }\n    },\n    {\n      \"column\": \"price\",\n      \"properties\": {\n        \"dtype\": \"number\",\n        \"std\": 13872.549358786193,\n        \"min\": 200.0,\n        \"max\": 45400.0,\n        \"num_unique_values\": 8,\n        \"samples\": [\n          13230.375,\n          10320.0,\n          200.0\n        ],\n        \"semantic_type\": \"\",\n        \"description\": \"\"\n      }\n    }\n  ]\n}",
       "type": "dataframe"
      },
      "text/html": [
       "\n",
       "  <div id=\"df-9a84b412-6519-4d40-97cb-a901299d37ea\" class=\"colab-df-container\">\n",
       "    <div>\n",
       "<style scoped>\n",
       "    .dataframe tbody tr th:only-of-type {\n",
       "        vertical-align: middle;\n",
       "    }\n",
       "\n",
       "    .dataframe tbody tr th {\n",
       "        vertical-align: top;\n",
       "    }\n",
       "\n",
       "    .dataframe thead th {\n",
       "        text-align: right;\n",
       "    }\n",
       "</style>\n",
       "<table border=\"1\" class=\"dataframe\">\n",
       "  <thead>\n",
       "    <tr style=\"text-align: right;\">\n",
       "      <th></th>\n",
       "      <th>horsepower</th>\n",
       "      <th>price</th>\n",
       "    </tr>\n",
       "  </thead>\n",
       "  <tbody>\n",
       "    <tr>\n",
       "      <th>count</th>\n",
       "      <td>200.000000</td>\n",
       "      <td>200.000000</td>\n",
       "    </tr>\n",
       "    <tr>\n",
       "      <th>mean</th>\n",
       "      <td>103.320000</td>\n",
       "      <td>13230.375000</td>\n",
       "    </tr>\n",
       "    <tr>\n",
       "      <th>std</th>\n",
       "      <td>37.468615</td>\n",
       "      <td>7960.155239</td>\n",
       "    </tr>\n",
       "    <tr>\n",
       "      <th>min</th>\n",
       "      <td>48.000000</td>\n",
       "      <td>5118.000000</td>\n",
       "    </tr>\n",
       "    <tr>\n",
       "      <th>25%</th>\n",
       "      <td>70.000000</td>\n",
       "      <td>7775.000000</td>\n",
       "    </tr>\n",
       "    <tr>\n",
       "      <th>50%</th>\n",
       "      <td>95.000000</td>\n",
       "      <td>10320.000000</td>\n",
       "    </tr>\n",
       "    <tr>\n",
       "      <th>75%</th>\n",
       "      <td>116.000000</td>\n",
       "      <td>16500.750000</td>\n",
       "    </tr>\n",
       "    <tr>\n",
       "      <th>max</th>\n",
       "      <td>262.000000</td>\n",
       "      <td>45400.000000</td>\n",
       "    </tr>\n",
       "  </tbody>\n",
       "</table>\n",
       "</div>\n",
       "    <div class=\"colab-df-buttons\">\n",
       "\n",
       "  <div class=\"colab-df-container\">\n",
       "    <button class=\"colab-df-convert\" onclick=\"convertToInteractive('df-9a84b412-6519-4d40-97cb-a901299d37ea')\"\n",
       "            title=\"Convert this dataframe to an interactive table.\"\n",
       "            style=\"display:none;\">\n",
       "\n",
       "  <svg xmlns=\"http://www.w3.org/2000/svg\" height=\"24px\" viewBox=\"0 -960 960 960\">\n",
       "    <path d=\"M120-120v-720h720v720H120Zm60-500h600v-160H180v160Zm220 220h160v-160H400v160Zm0 220h160v-160H400v160ZM180-400h160v-160H180v160Zm440 0h160v-160H620v160ZM180-180h160v-160H180v160Zm440 0h160v-160H620v160Z\"/>\n",
       "  </svg>\n",
       "    </button>\n",
       "\n",
       "  <style>\n",
       "    .colab-df-container {\n",
       "      display:flex;\n",
       "      gap: 12px;\n",
       "    }\n",
       "\n",
       "    .colab-df-convert {\n",
       "      background-color: #E8F0FE;\n",
       "      border: none;\n",
       "      border-radius: 50%;\n",
       "      cursor: pointer;\n",
       "      display: none;\n",
       "      fill: #1967D2;\n",
       "      height: 32px;\n",
       "      padding: 0 0 0 0;\n",
       "      width: 32px;\n",
       "    }\n",
       "\n",
       "    .colab-df-convert:hover {\n",
       "      background-color: #E2EBFA;\n",
       "      box-shadow: 0px 1px 2px rgba(60, 64, 67, 0.3), 0px 1px 3px 1px rgba(60, 64, 67, 0.15);\n",
       "      fill: #174EA6;\n",
       "    }\n",
       "\n",
       "    .colab-df-buttons div {\n",
       "      margin-bottom: 4px;\n",
       "    }\n",
       "\n",
       "    [theme=dark] .colab-df-convert {\n",
       "      background-color: #3B4455;\n",
       "      fill: #D2E3FC;\n",
       "    }\n",
       "\n",
       "    [theme=dark] .colab-df-convert:hover {\n",
       "      background-color: #434B5C;\n",
       "      box-shadow: 0px 1px 3px 1px rgba(0, 0, 0, 0.15);\n",
       "      filter: drop-shadow(0px 1px 2px rgba(0, 0, 0, 0.3));\n",
       "      fill: #FFFFFF;\n",
       "    }\n",
       "  </style>\n",
       "\n",
       "    <script>\n",
       "      const buttonEl =\n",
       "        document.querySelector('#df-9a84b412-6519-4d40-97cb-a901299d37ea button.colab-df-convert');\n",
       "      buttonEl.style.display =\n",
       "        google.colab.kernel.accessAllowed ? 'block' : 'none';\n",
       "\n",
       "      async function convertToInteractive(key) {\n",
       "        const element = document.querySelector('#df-9a84b412-6519-4d40-97cb-a901299d37ea');\n",
       "        const dataTable =\n",
       "          await google.colab.kernel.invokeFunction('convertToInteractive',\n",
       "                                                    [key], {});\n",
       "        if (!dataTable) return;\n",
       "\n",
       "        const docLinkHtml = 'Like what you see? Visit the ' +\n",
       "          '<a target=\"_blank\" href=https://colab.research.google.com/notebooks/data_table.ipynb>data table notebook</a>'\n",
       "          + ' to learn more about interactive tables.';\n",
       "        element.innerHTML = '';\n",
       "        dataTable['output_type'] = 'display_data';\n",
       "        await google.colab.output.renderOutput(dataTable, element);\n",
       "        const docLink = document.createElement('div');\n",
       "        docLink.innerHTML = docLinkHtml;\n",
       "        element.appendChild(docLink);\n",
       "      }\n",
       "    </script>\n",
       "  </div>\n",
       "\n",
       "\n",
       "<div id=\"df-b8345335-a6bb-45ff-8858-135f5a93bc23\">\n",
       "  <button class=\"colab-df-quickchart\" onclick=\"quickchart('df-b8345335-a6bb-45ff-8858-135f5a93bc23')\"\n",
       "            title=\"Suggest charts\"\n",
       "            style=\"display:none;\">\n",
       "\n",
       "<svg xmlns=\"http://www.w3.org/2000/svg\" height=\"24px\"viewBox=\"0 0 24 24\"\n",
       "     width=\"24px\">\n",
       "    <g>\n",
       "        <path d=\"M19 3H5c-1.1 0-2 .9-2 2v14c0 1.1.9 2 2 2h14c1.1 0 2-.9 2-2V5c0-1.1-.9-2-2-2zM9 17H7v-7h2v7zm4 0h-2V7h2v10zm4 0h-2v-4h2v4z\"/>\n",
       "    </g>\n",
       "</svg>\n",
       "  </button>\n",
       "\n",
       "<style>\n",
       "  .colab-df-quickchart {\n",
       "      --bg-color: #E8F0FE;\n",
       "      --fill-color: #1967D2;\n",
       "      --hover-bg-color: #E2EBFA;\n",
       "      --hover-fill-color: #174EA6;\n",
       "      --disabled-fill-color: #AAA;\n",
       "      --disabled-bg-color: #DDD;\n",
       "  }\n",
       "\n",
       "  [theme=dark] .colab-df-quickchart {\n",
       "      --bg-color: #3B4455;\n",
       "      --fill-color: #D2E3FC;\n",
       "      --hover-bg-color: #434B5C;\n",
       "      --hover-fill-color: #FFFFFF;\n",
       "      --disabled-bg-color: #3B4455;\n",
       "      --disabled-fill-color: #666;\n",
       "  }\n",
       "\n",
       "  .colab-df-quickchart {\n",
       "    background-color: var(--bg-color);\n",
       "    border: none;\n",
       "    border-radius: 50%;\n",
       "    cursor: pointer;\n",
       "    display: none;\n",
       "    fill: var(--fill-color);\n",
       "    height: 32px;\n",
       "    padding: 0;\n",
       "    width: 32px;\n",
       "  }\n",
       "\n",
       "  .colab-df-quickchart:hover {\n",
       "    background-color: var(--hover-bg-color);\n",
       "    box-shadow: 0 1px 2px rgba(60, 64, 67, 0.3), 0 1px 3px 1px rgba(60, 64, 67, 0.15);\n",
       "    fill: var(--button-hover-fill-color);\n",
       "  }\n",
       "\n",
       "  .colab-df-quickchart-complete:disabled,\n",
       "  .colab-df-quickchart-complete:disabled:hover {\n",
       "    background-color: var(--disabled-bg-color);\n",
       "    fill: var(--disabled-fill-color);\n",
       "    box-shadow: none;\n",
       "  }\n",
       "\n",
       "  .colab-df-spinner {\n",
       "    border: 2px solid var(--fill-color);\n",
       "    border-color: transparent;\n",
       "    border-bottom-color: var(--fill-color);\n",
       "    animation:\n",
       "      spin 1s steps(1) infinite;\n",
       "  }\n",
       "\n",
       "  @keyframes spin {\n",
       "    0% {\n",
       "      border-color: transparent;\n",
       "      border-bottom-color: var(--fill-color);\n",
       "      border-left-color: var(--fill-color);\n",
       "    }\n",
       "    20% {\n",
       "      border-color: transparent;\n",
       "      border-left-color: var(--fill-color);\n",
       "      border-top-color: var(--fill-color);\n",
       "    }\n",
       "    30% {\n",
       "      border-color: transparent;\n",
       "      border-left-color: var(--fill-color);\n",
       "      border-top-color: var(--fill-color);\n",
       "      border-right-color: var(--fill-color);\n",
       "    }\n",
       "    40% {\n",
       "      border-color: transparent;\n",
       "      border-right-color: var(--fill-color);\n",
       "      border-top-color: var(--fill-color);\n",
       "    }\n",
       "    60% {\n",
       "      border-color: transparent;\n",
       "      border-right-color: var(--fill-color);\n",
       "    }\n",
       "    80% {\n",
       "      border-color: transparent;\n",
       "      border-right-color: var(--fill-color);\n",
       "      border-bottom-color: var(--fill-color);\n",
       "    }\n",
       "    90% {\n",
       "      border-color: transparent;\n",
       "      border-bottom-color: var(--fill-color);\n",
       "    }\n",
       "  }\n",
       "</style>\n",
       "\n",
       "  <script>\n",
       "    async function quickchart(key) {\n",
       "      const quickchartButtonEl =\n",
       "        document.querySelector('#' + key + ' button');\n",
       "      quickchartButtonEl.disabled = true;  // To prevent multiple clicks.\n",
       "      quickchartButtonEl.classList.add('colab-df-spinner');\n",
       "      try {\n",
       "        const charts = await google.colab.kernel.invokeFunction(\n",
       "            'suggestCharts', [key], {});\n",
       "      } catch (error) {\n",
       "        console.error('Error during call to suggestCharts:', error);\n",
       "      }\n",
       "      quickchartButtonEl.classList.remove('colab-df-spinner');\n",
       "      quickchartButtonEl.classList.add('colab-df-quickchart-complete');\n",
       "    }\n",
       "    (() => {\n",
       "      let quickchartButtonEl =\n",
       "        document.querySelector('#df-b8345335-a6bb-45ff-8858-135f5a93bc23 button');\n",
       "      quickchartButtonEl.style.display =\n",
       "        google.colab.kernel.accessAllowed ? 'block' : 'none';\n",
       "    })();\n",
       "  </script>\n",
       "</div>\n",
       "\n",
       "    </div>\n",
       "  </div>\n"
      ],
      "text/plain": [
       "       horsepower         price\n",
       "count  200.000000    200.000000\n",
       "mean   103.320000  13230.375000\n",
       "std     37.468615   7960.155239\n",
       "min     48.000000   5118.000000\n",
       "25%     70.000000   7775.000000\n",
       "50%     95.000000  10320.000000\n",
       "75%    116.000000  16500.750000\n",
       "max    262.000000  45400.000000"
      ]
     },
     "execution_count": 10,
     "metadata": {},
     "output_type": "execute_result"
    }
   ],
   "source": [
    "#Melihat statistical description dari data mulai dari mean, kuartil, standard deviation dll\n",
    "df.describe()"
   ]
  },
  {
   "cell_type": "markdown",
   "metadata": {
    "id": "lp1l5-si3Cli"
   },
   "source": [
    "### Handling Missing Values"
   ]
  },
  {
   "cell_type": "code",
   "execution_count": 11,
   "metadata": {
    "colab": {
     "base_uri": "https://localhost:8080/",
     "height": 147
    },
    "executionInfo": {
     "elapsed": 1140,
     "status": "ok",
     "timestamp": 1726557987168,
     "user": {
      "displayName": "Switra yana",
      "userId": "05526936548485182607"
     },
     "user_tz": -480
    },
    "id": "sVFDcJjG3Cli",
    "outputId": "6e8cd5ee-b39b-484e-c664-9b8dc5daf909"
   },
   "outputs": [
    {
     "data": {
      "text/html": [
       "<div>\n",
       "<style scoped>\n",
       "    .dataframe tbody tr th:only-of-type {\n",
       "        vertical-align: middle;\n",
       "    }\n",
       "\n",
       "    .dataframe tbody tr th {\n",
       "        vertical-align: top;\n",
       "    }\n",
       "\n",
       "    .dataframe thead th {\n",
       "        text-align: right;\n",
       "    }\n",
       "</style>\n",
       "<table border=\"1\" class=\"dataframe\">\n",
       "  <thead>\n",
       "    <tr style=\"text-align: right;\">\n",
       "      <th></th>\n",
       "      <th>0</th>\n",
       "    </tr>\n",
       "  </thead>\n",
       "  <tbody>\n",
       "    <tr>\n",
       "      <th>horsepower</th>\n",
       "      <td>0</td>\n",
       "    </tr>\n",
       "    <tr>\n",
       "      <th>price</th>\n",
       "      <td>0</td>\n",
       "    </tr>\n",
       "  </tbody>\n",
       "</table>\n",
       "</div><br><label><b>dtype:</b> int64</label>"
      ],
      "text/plain": [
       "horsepower    0\n",
       "price         0\n",
       "dtype: int64"
      ]
     },
     "execution_count": 11,
     "metadata": {},
     "output_type": "execute_result"
    }
   ],
   "source": [
    "#Mencari dan menangani missing values\n",
    "#Ternyata data kita tidak ada missing values\n",
    "df.isnull().sum()"
   ]
  },
  {
   "cell_type": "markdown",
   "metadata": {
    "id": "I9akxFuJ3Cli"
   },
   "source": [
    "### Exploratory Data Analysis (EDA)"
   ]
  },
  {
   "cell_type": "code",
   "execution_count": 12,
   "metadata": {
    "colab": {
     "base_uri": "https://localhost:8080/",
     "height": 368
    },
    "executionInfo": {
     "elapsed": 997,
     "status": "ok",
     "timestamp": 1726558003706,
     "user": {
      "displayName": "Switra yana",
      "userId": "05526936548485182607"
     },
     "user_tz": -480
    },
    "id": "fKJV974s3Cli",
    "outputId": "6aaf5ec2-857a-49aa-b7dd-8e05f8e07304"
   },
   "outputs": [
    {
     "data": {
      "image/png": "[encoded data removed]",
      "text/plain": [
       "<Figure size 1200x400 with 2 Axes>"
      ]
     },
     "metadata": {},
     "output_type": "display_data"
    }
   ],
   "source": [
    "#Univariate analysis horsepower\n",
    "#Melihat distribusi dari horsepower\n",
    "f = plt.figure(figsize=(12,4))\n",
    "\n",
    "f.add_subplot(1,2,1)\n",
    "df['horsepower'].plot(kind='kde')\n",
    "\n",
    "f.add_subplot(1,2,2)\n",
    "plt.boxplot(df['horsepower'])\n",
    "plt.show()"
   ]
  },
  {
   "cell_type": "markdown",
   "metadata": {
    "id": "f90irvPU3Cli"
   },
   "source": [
    "- Dapat dilihat bahwa density dari horsepower paling tinggi di nilai 100.\n",
    "- Distribusinya hampir mirip dengan distribusi normal namun persebaran data kurang merata (memiliki standard deviasi yang tinggi)."
   ]
  },
  {
   "cell_type": "code",
   "execution_count": 13,
   "metadata": {
    "colab": {
     "base_uri": "https://localhost:8080/",
     "height": 383
    },
    "executionInfo": {
     "elapsed": 883,
     "status": "ok",
     "timestamp": 1726558019271,
     "user": {
      "displayName": "Switra yana",
      "userId": "05526936548485182607"
     },
     "user_tz": -480
    },
    "id": "1vVjYCWz3Cli",
    "outputId": "e905888d-e324-45b5-a7ab-f54befbfe366"
   },
   "outputs": [
    {
     "data": {
      "image/png": "[encoded data removed]",
      "text/plain": [
       "<Figure size 1200x400 with 2 Axes>"
      ]
     },
     "metadata": {},
     "output_type": "display_data"
    }
   ],
   "source": [
    "#Univariate analysis price\n",
    "#Melihat distribusi dari price\n",
    "f = plt.figure(figsize=(12,4))\n",
    "\n",
    "f.add_subplot(1,2,1)\n",
    "df['price'].plot(kind='kde', c='g')\n",
    "\n",
    "f.add_subplot(1,2,2)\n",
    "plt.boxplot(df['price'])\n",
    "plt.show()"
   ]
  },
  {
   "cell_type": "markdown",
   "metadata": {
    "id": "uKLSvFJ63Clj"
   },
   "source": [
    "- Density dari price paling tinggi di nilai 10000.\n",
    "- Distribusinya hampir mirip dengan distribusi normal namun persebaran data kurang merata (memiliki standard deviasi yang tinggi)."
   ]
  },
  {
   "cell_type": "code",
   "execution_count": 14,
   "metadata": {
    "colab": {
     "base_uri": "https://localhost:8080/",
     "height": 472
    },
    "executionInfo": {
     "elapsed": 1178,
     "status": "ok",
     "timestamp": 1726558038288,
     "user": {
      "displayName": "Switra yana",
      "userId": "05526936548485182607"
     },
     "user_tz": -480
    },
    "id": "HjxwnDq53Clj",
    "outputId": "9de30fee-c1ae-4d65-c543-05b7b565d5dd"
   },
   "outputs": [
    {
     "data": {
      "image/png": "[encoded data removed]",
      "text/plain": [
       "<Figure size 640x480 with 1 Axes>"
      ]
     },
     "metadata": {},
     "output_type": "display_data"
    }
   ],
   "source": [
    "#Bivariate analysis horsepower dan price\n",
    "#Menggunakan scatter plot\n",
    "plt.scatter(df['horsepower'], df['price'])\n",
    "plt.xlabel('Horsepower')\n",
    "plt.ylabel('Price')\n",
    "plt.title('Scatter Plot Horsepower vs Price')\n",
    "plt.show()"
   ]
  },
  {
   "cell_type": "markdown",
   "metadata": {
    "id": "3wkAVjwM3Clj"
   },
   "source": [
    "- Dari scatter plot dapat dilihat bahwa data memiliki korelasi positif yang cukup signifikan.\n",
    "- Hal ini berarti dengan bertambahnya nilai dari horsepower maka nilai price pun akan bertambah"
   ]
  },
  {
   "cell_type": "code",
   "execution_count": 15,
   "metadata": {
    "colab": {
     "base_uri": "https://localhost:8080/",
     "height": 112
    },
    "executionInfo": {
     "elapsed": 440,
     "status": "ok",
     "timestamp": 1726558043768,
     "user": {
      "displayName": "Switra yana",
      "userId": "05526936548485182607"
     },
     "user_tz": -480
    },
    "id": "527QANxt3Clj",
    "outputId": "eaa4bce5-4d28-4e88-d38e-650a9a2cd66b",
    "scrolled": true
   },
   "outputs": [
    {
     "data": {
      "application/vnd.google.colaboratory.intrinsic+json": {
       "summary": "{\n  \"name\": \"df\",\n  \"rows\": 2,\n  \"fields\": [\n    {\n      \"column\": \"horsepower\",\n      \"properties\": {\n        \"dtype\": \"number\",\n        \"std\": 0.13357460541842817,\n        \"min\": 0.8110969814286242,\n        \"max\": 1.0,\n        \"num_unique_values\": 2,\n        \"samples\": [\n          0.8110969814286242,\n          1.0\n        ],\n        \"semantic_type\": \"\",\n        \"description\": \"\"\n      }\n    },\n    {\n      \"column\": \"price\",\n      \"properties\": {\n        \"dtype\": \"number\",\n        \"std\": 0.13357460541842817,\n        \"min\": 0.8110969814286242,\n        \"max\": 1.0,\n        \"num_unique_values\": 2,\n        \"samples\": [\n          1.0,\n          0.8110969814286242\n        ],\n        \"semantic_type\": \"\",\n        \"description\": \"\"\n      }\n    }\n  ]\n}",
       "type": "dataframe"
      },
      "text/html": [
       "\n",
       "  <div id=\"df-84ad0ffc-2fd5-413b-82be-269250127333\" class=\"colab-df-container\">\n",
       "    <div>\n",
       "<style scoped>\n",
       "    .dataframe tbody tr th:only-of-type {\n",
       "        vertical-align: middle;\n",
       "    }\n",
       "\n",
       "    .dataframe tbody tr th {\n",
       "        vertical-align: top;\n",
       "    }\n",
       "\n",
       "    .dataframe thead th {\n",
       "        text-align: right;\n",
       "    }\n",
       "</style>\n",
       "<table border=\"1\" class=\"dataframe\">\n",
       "  <thead>\n",
       "    <tr style=\"text-align: right;\">\n",
       "      <th></th>\n",
       "      <th>horsepower</th>\n",
       "      <th>price</th>\n",
       "    </tr>\n",
       "  </thead>\n",
       "  <tbody>\n",
       "    <tr>\n",
       "      <th>horsepower</th>\n",
       "      <td>1.000000</td>\n",
       "      <td>0.811097</td>\n",
       "    </tr>\n",
       "    <tr>\n",
       "      <th>price</th>\n",
       "      <td>0.811097</td>\n",
       "      <td>1.000000</td>\n",
       "    </tr>\n",
       "  </tbody>\n",
       "</table>\n",
       "</div>\n",
       "    <div class=\"colab-df-buttons\">\n",
       "\n",
       "  <div class=\"colab-df-container\">\n",
       "    <button class=\"colab-df-convert\" onclick=\"convertToInteractive('df-84ad0ffc-2fd5-413b-82be-269250127333')\"\n",
       "            title=\"Convert this dataframe to an interactive table.\"\n",
       "            style=\"display:none;\">\n",
       "\n",
       "  <svg xmlns=\"http://www.w3.org/2000/svg\" height=\"24px\" viewBox=\"0 -960 960 960\">\n",
       "    <path d=\"M120-120v-720h720v720H120Zm60-500h600v-160H180v160Zm220 220h160v-160H400v160Zm0 220h160v-160H400v160ZM180-400h160v-160H180v160Zm440 0h160v-160H620v160ZM180-180h160v-160H180v160Zm440 0h160v-160H620v160Z\"/>\n",
       "  </svg>\n",
       "    </button>\n",
       "\n",
       "  <style>\n",
       "    .colab-df-container {\n",
       "      display:flex;\n",
       "      gap: 12px;\n",
       "    }\n",
       "\n",
       "    .colab-df-convert {\n",
       "      background-color: #E8F0FE;\n",
       "      border: none;\n",
       "      border-radius: 50%;\n",
       "      cursor: pointer;\n",
       "      display: none;\n",
       "      fill: #1967D2;\n",
       "      height: 32px;\n",
       "      padding: 0 0 0 0;\n",
       "      width: 32px;\n",
       "    }\n",
       "\n",
       "    .colab-df-convert:hover {\n",
       "      background-color: #E2EBFA;\n",
       "      box-shadow: 0px 1px 2px rgba(60, 64, 67, 0.3), 0px 1px 3px 1px rgba(60, 64, 67, 0.15);\n",
       "      fill: #174EA6;\n",
       "    }\n",
       "\n",
       "    .colab-df-buttons div {\n",
       "      margin-bottom: 4px;\n",
       "    }\n",
       "\n",
       "    [theme=dark] .colab-df-convert {\n",
       "      background-color: #3B4455;\n",
       "      fill: #D2E3FC;\n",
       "    }\n",
       "\n",
       "    [theme=dark] .colab-df-convert:hover {\n",
       "      background-color: #434B5C;\n",
       "      box-shadow: 0px 1px 3px 1px rgba(0, 0, 0, 0.15);\n",
       "      filter: drop-shadow(0px 1px 2px rgba(0, 0, 0, 0.3));\n",
       "      fill: #FFFFFF;\n",
       "    }\n",
       "  </style>\n",
       "\n",
       "    <script>\n",
       "      const buttonEl =\n",
       "        document.querySelector('#df-84ad0ffc-2fd5-413b-82be-269250127333 button.colab-df-convert');\n",
       "      buttonEl.style.display =\n",
       "        google.colab.kernel.accessAllowed ? 'block' : 'none';\n",
       "\n",
       "      async function convertToInteractive(key) {\n",
       "        const element = document.querySelector('#df-84ad0ffc-2fd5-413b-82be-269250127333');\n",
       "        const dataTable =\n",
       "          await google.colab.kernel.invokeFunction('convertToInteractive',\n",
       "                                                    [key], {});\n",
       "        if (!dataTable) return;\n",
       "\n",
       "        const docLinkHtml = 'Like what you see? Visit the ' +\n",
       "          '<a target=\"_blank\" href=https://colab.research.google.com/notebooks/data_table.ipynb>data table notebook</a>'\n",
       "          + ' to learn more about interactive tables.';\n",
       "        element.innerHTML = '';\n",
       "        dataTable['output_type'] = 'display_data';\n",
       "        await google.colab.output.renderOutput(dataTable, element);\n",
       "        const docLink = document.createElement('div');\n",
       "        docLink.innerHTML = docLinkHtml;\n",
       "        element.appendChild(docLink);\n",
       "      }\n",
       "    </script>\n",
       "  </div>\n",
       "\n",
       "\n",
       "<div id=\"df-7955708b-e7a4-4366-8591-6224a8250604\">\n",
       "  <button class=\"colab-df-quickchart\" onclick=\"quickchart('df-7955708b-e7a4-4366-8591-6224a8250604')\"\n",
       "            title=\"Suggest charts\"\n",
       "            style=\"display:none;\">\n",
       "\n",
       "<svg xmlns=\"http://www.w3.org/2000/svg\" height=\"24px\"viewBox=\"0 0 24 24\"\n",
       "     width=\"24px\">\n",
       "    <g>\n",
       "        <path d=\"M19 3H5c-1.1 0-2 .9-2 2v14c0 1.1.9 2 2 2h14c1.1 0 2-.9 2-2V5c0-1.1-.9-2-2-2zM9 17H7v-7h2v7zm4 0h-2V7h2v10zm4 0h-2v-4h2v4z\"/>\n",
       "    </g>\n",
       "</svg>\n",
       "  </button>\n",
       "\n",
       "<style>\n",
       "  .colab-df-quickchart {\n",
       "      --bg-color: #E8F0FE;\n",
       "      --fill-color: #1967D2;\n",
       "      --hover-bg-color: #E2EBFA;\n",
       "      --hover-fill-color: #174EA6;\n",
       "      --disabled-fill-color: #AAA;\n",
       "      --disabled-bg-color: #DDD;\n",
       "  }\n",
       "\n",
       "  [theme=dark] .colab-df-quickchart {\n",
       "      --bg-color: #3B4455;\n",
       "      --fill-color: #D2E3FC;\n",
       "      --hover-bg-color: #434B5C;\n",
       "      --hover-fill-color: #FFFFFF;\n",
       "      --disabled-bg-color: #3B4455;\n",
       "      --disabled-fill-color: #666;\n",
       "  }\n",
       "\n",
       "  .colab-df-quickchart {\n",
       "    background-color: var(--bg-color);\n",
       "    border: none;\n",
       "    border-radius: 50%;\n",
       "    cursor: pointer;\n",
       "    display: none;\n",
       "    fill: var(--fill-color);\n",
       "    height: 32px;\n",
       "    padding: 0;\n",
       "    width: 32px;\n",
       "  }\n",
       "\n",
       "  .colab-df-quickchart:hover {\n",
       "    background-color: var(--hover-bg-color);\n",
       "    box-shadow: 0 1px 2px rgba(60, 64, 67, 0.3), 0 1px 3px 1px rgba(60, 64, 67, 0.15);\n",
       "    fill: var(--button-hover-fill-color);\n",
       "  }\n",
       "\n",
       "  .colab-df-quickchart-complete:disabled,\n",
       "  .colab-df-quickchart-complete:disabled:hover {\n",
       "    background-color: var(--disabled-bg-color);\n",
       "    fill: var(--disabled-fill-color);\n",
       "    box-shadow: none;\n",
       "  }\n",
       "\n",
       "  .colab-df-spinner {\n",
       "    border: 2px solid var(--fill-color);\n",
       "    border-color: transparent;\n",
       "    border-bottom-color: var(--fill-color);\n",
       "    animation:\n",
       "      spin 1s steps(1) infinite;\n",
       "  }\n",
       "\n",
       "  @keyframes spin {\n",
       "    0% {\n",
       "      border-color: transparent;\n",
       "      border-bottom-color: var(--fill-color);\n",
       "      border-left-color: var(--fill-color);\n",
       "    }\n",
       "    20% {\n",
       "      border-color: transparent;\n",
       "      border-left-color: var(--fill-color);\n",
       "      border-top-color: var(--fill-color);\n",
       "    }\n",
       "    30% {\n",
       "      border-color: transparent;\n",
       "      border-left-color: var(--fill-color);\n",
       "      border-top-color: var(--fill-color);\n",
       "      border-right-color: var(--fill-color);\n",
       "    }\n",
       "    40% {\n",
       "      border-color: transparent;\n",
       "      border-right-color: var(--fill-color);\n",
       "      border-top-color: var(--fill-color);\n",
       "    }\n",
       "    60% {\n",
       "      border-color: transparent;\n",
       "      border-right-color: var(--fill-color);\n",
       "    }\n",
       "    80% {\n",
       "      border-color: transparent;\n",
       "      border-right-color: var(--fill-color);\n",
       "      border-bottom-color: var(--fill-color);\n",
       "    }\n",
       "    90% {\n",
       "      border-color: transparent;\n",
       "      border-bottom-color: var(--fill-color);\n",
       "    }\n",
       "  }\n",
       "</style>\n",
       "\n",
       "  <script>\n",
       "    async function quickchart(key) {\n",
       "      const quickchartButtonEl =\n",
       "        document.querySelector('#' + key + ' button');\n",
       "      quickchartButtonEl.disabled = true;  // To prevent multiple clicks.\n",
       "      quickchartButtonEl.classList.add('colab-df-spinner');\n",
       "      try {\n",
       "        const charts = await google.colab.kernel.invokeFunction(\n",
       "            'suggestCharts', [key], {});\n",
       "      } catch (error) {\n",
       "        console.error('Error during call to suggestCharts:', error);\n",
       "      }\n",
       "      quickchartButtonEl.classList.remove('colab-df-spinner');\n",
       "      quickchartButtonEl.classList.add('colab-df-quickchart-complete');\n",
       "    }\n",
       "    (() => {\n",
       "      let quickchartButtonEl =\n",
       "        document.querySelector('#df-7955708b-e7a4-4366-8591-6224a8250604 button');\n",
       "      quickchartButtonEl.style.display =\n",
       "        google.colab.kernel.accessAllowed ? 'block' : 'none';\n",
       "    })();\n",
       "  </script>\n",
       "</div>\n",
       "\n",
       "    </div>\n",
       "  </div>\n"
      ],
      "text/plain": [
       "            horsepower     price\n",
       "horsepower    1.000000  0.811097\n",
       "price         0.811097  1.000000"
      ]
     },
     "execution_count": 15,
     "metadata": {},
     "output_type": "execute_result"
    }
   ],
   "source": [
    "#Mengetahui nilai korelasi dari horsepower dan price\n",
    "#Nilai korelasinya adalah 0.81 termasuk kategori sangat tinggi\n",
    "df.corr()"
   ]
  },
  {
   "cell_type": "markdown",
   "metadata": {
    "id": "u_35ZMcG3Clj"
   },
   "source": [
    "- Setelah kita tahu tentang karakteristik data kita, bisa dilanjutkan ke tahap modelling"
   ]
  },
  {
   "cell_type": "markdown",
   "metadata": {
    "id": "TF5UNP4K3Clj"
   },
   "source": [
    "### Modelling"
   ]
  },
  {
   "cell_type": "code",
   "execution_count": 16,
   "metadata": {
    "colab": {
     "base_uri": "https://localhost:8080/",
     "height": 206
    },
    "executionInfo": {
     "elapsed": 410,
     "status": "ok",
     "timestamp": 1726558051032,
     "user": {
      "displayName": "Switra yana",
      "userId": "05526936548485182607"
     },
     "user_tz": -480
    },
    "id": "F5SR-qaD3Clj",
    "outputId": "f8263038-9703-443b-f9c5-6cb78da092dd",
    "scrolled": true
   },
   "outputs": [
    {
     "data": {
      "application/vnd.google.colaboratory.intrinsic+json": {
       "summary": "{\n  \"name\": \"df\",\n  \"rows\": 200,\n  \"fields\": [\n    {\n      \"column\": \"horsepower\",\n      \"properties\": {\n        \"dtype\": \"number\",\n        \"std\": 37.468614671844165,\n        \"min\": 48.0,\n        \"max\": 262.0,\n        \"num_unique_values\": 58,\n        \"samples\": [\n          111.0,\n          140.0,\n          55.0\n        ],\n        \"semantic_type\": \"\",\n        \"description\": \"\"\n      }\n    },\n    {\n      \"column\": \"price\",\n      \"properties\": {\n        \"dtype\": \"number\",\n        \"std\": 7960.155238529109,\n        \"min\": 5118.0,\n        \"max\": 45400.0,\n        \"num_unique_values\": 185,\n        \"samples\": [\n          5572.0,\n          35550.0,\n          10698.0\n        ],\n        \"semantic_type\": \"\",\n        \"description\": \"\"\n      }\n    }\n  ]\n}",
       "type": "dataframe",
       "variable_name": "df"
      },
      "text/html": [
       "\n",
       "  <div id=\"df-a9a91adf-171e-4acd-9df8-ed6bd76fb624\" class=\"colab-df-container\">\n",
       "    <div>\n",
       "<style scoped>\n",
       "    .dataframe tbody tr th:only-of-type {\n",
       "        vertical-align: middle;\n",
       "    }\n",
       "\n",
       "    .dataframe tbody tr th {\n",
       "        vertical-align: top;\n",
       "    }\n",
       "\n",
       "    .dataframe thead th {\n",
       "        text-align: right;\n",
       "    }\n",
       "</style>\n",
       "<table border=\"1\" class=\"dataframe\">\n",
       "  <thead>\n",
       "    <tr style=\"text-align: right;\">\n",
       "      <th></th>\n",
       "      <th>horsepower</th>\n",
       "      <th>price</th>\n",
       "    </tr>\n",
       "  </thead>\n",
       "  <tbody>\n",
       "    <tr>\n",
       "      <th>0</th>\n",
       "      <td>111.0</td>\n",
       "      <td>13495.0</td>\n",
       "    </tr>\n",
       "    <tr>\n",
       "      <th>1</th>\n",
       "      <td>111.0</td>\n",
       "      <td>16500.0</td>\n",
       "    </tr>\n",
       "    <tr>\n",
       "      <th>2</th>\n",
       "      <td>154.0</td>\n",
       "      <td>16500.0</td>\n",
       "    </tr>\n",
       "    <tr>\n",
       "      <th>3</th>\n",
       "      <td>102.0</td>\n",
       "      <td>13950.0</td>\n",
       "    </tr>\n",
       "    <tr>\n",
       "      <th>4</th>\n",
       "      <td>115.0</td>\n",
       "      <td>17450.0</td>\n",
       "    </tr>\n",
       "  </tbody>\n",
       "</table>\n",
       "</div>\n",
       "    <div class=\"colab-df-buttons\">\n",
       "\n",
       "  <div class=\"colab-df-container\">\n",
       "    <button class=\"colab-df-convert\" onclick=\"convertToInteractive('df-a9a91adf-171e-4acd-9df8-ed6bd76fb624')\"\n",
       "            title=\"Convert this dataframe to an interactive table.\"\n",
       "            style=\"display:none;\">\n",
       "\n",
       "  <svg xmlns=\"http://www.w3.org/2000/svg\" height=\"24px\" viewBox=\"0 -960 960 960\">\n",
       "    <path d=\"M120-120v-720h720v720H120Zm60-500h600v-160H180v160Zm220 220h160v-160H400v160Zm0 220h160v-160H400v160ZM180-400h160v-160H180v160Zm440 0h160v-160H620v160ZM180-180h160v-160H180v160Zm440 0h160v-160H620v160Z\"/>\n",
       "  </svg>\n",
       "    </button>\n",
       "\n",
       "  <style>\n",
       "    .colab-df-container {\n",
       "      display:flex;\n",
       "      gap: 12px;\n",
       "    }\n",
       "\n",
       "    .colab-df-convert {\n",
       "      background-color: #E8F0FE;\n",
       "      border: none;\n",
       "      border-radius: 50%;\n",
       "      cursor: pointer;\n",
       "      display: none;\n",
       "      fill: #1967D2;\n",
       "      height: 32px;\n",
       "      padding: 0 0 0 0;\n",
       "      width: 32px;\n",
       "    }\n",
       "\n",
       "    .colab-df-convert:hover {\n",
       "      background-color: #E2EBFA;\n",
       "      box-shadow: 0px 1px 2px rgba(60, 64, 67, 0.3), 0px 1px 3px 1px rgba(60, 64, 67, 0.15);\n",
       "      fill: #174EA6;\n",
       "    }\n",
       "\n",
       "    .colab-df-buttons div {\n",
       "      margin-bottom: 4px;\n",
       "    }\n",
       "\n",
       "    [theme=dark] .colab-df-convert {\n",
       "      background-color: #3B4455;\n",
       "      fill: #D2E3FC;\n",
       "    }\n",
       "\n",
       "    [theme=dark] .colab-df-convert:hover {\n",
       "      background-color: #434B5C;\n",
       "      box-shadow: 0px 1px 3px 1px rgba(0, 0, 0, 0.15);\n",
       "      filter: drop-shadow(0px 1px 2px rgba(0, 0, 0, 0.3));\n",
       "      fill: #FFFFFF;\n",
       "    }\n",
       "  </style>\n",
       "\n",
       "    <script>\n",
       "      const buttonEl =\n",
       "        document.querySelector('#df-a9a91adf-171e-4acd-9df8-ed6bd76fb624 button.colab-df-convert');\n",
       "      buttonEl.style.display =\n",
       "        google.colab.kernel.accessAllowed ? 'block' : 'none';\n",
       "\n",
       "      async function convertToInteractive(key) {\n",
       "        const element = document.querySelector('#df-a9a91adf-171e-4acd-9df8-ed6bd76fb624');\n",
       "        const dataTable =\n",
       "          await google.colab.kernel.invokeFunction('convertToInteractive',\n",
       "                                                    [key], {});\n",
       "        if (!dataTable) return;\n",
       "\n",
       "        const docLinkHtml = 'Like what you see? Visit the ' +\n",
       "          '<a target=\"_blank\" href=https://colab.research.google.com/notebooks/data_table.ipynb>data table notebook</a>'\n",
       "          + ' to learn more about interactive tables.';\n",
       "        element.innerHTML = '';\n",
       "        dataTable['output_type'] = 'display_data';\n",
       "        await google.colab.output.renderOutput(dataTable, element);\n",
       "        const docLink = document.createElement('div');\n",
       "        docLink.innerHTML = docLinkHtml;\n",
       "        element.appendChild(docLink);\n",
       "      }\n",
       "    </script>\n",
       "  </div>\n",
       "\n",
       "\n",
       "<div id=\"df-e1f070ce-8002-4c01-8b5f-9736e183858b\">\n",
       "  <button class=\"colab-df-quickchart\" onclick=\"quickchart('df-e1f070ce-8002-4c01-8b5f-9736e183858b')\"\n",
       "            title=\"Suggest charts\"\n",
       "            style=\"display:none;\">\n",
       "\n",
       "<svg xmlns=\"http://www.w3.org/2000/svg\" height=\"24px\"viewBox=\"0 0 24 24\"\n",
       "     width=\"24px\">\n",
       "    <g>\n",
       "        <path d=\"M19 3H5c-1.1 0-2 .9-2 2v14c0 1.1.9 2 2 2h14c1.1 0 2-.9 2-2V5c0-1.1-.9-2-2-2zM9 17H7v-7h2v7zm4 0h-2V7h2v10zm4 0h-2v-4h2v4z\"/>\n",
       "    </g>\n",
       "</svg>\n",
       "  </button>\n",
       "\n",
       "<style>\n",
       "  .colab-df-quickchart {\n",
       "      --bg-color: #E8F0FE;\n",
       "      --fill-color: #1967D2;\n",
       "      --hover-bg-color: #E2EBFA;\n",
       "      --hover-fill-color: #174EA6;\n",
       "      --disabled-fill-color: #AAA;\n",
       "      --disabled-bg-color: #DDD;\n",
       "  }\n",
       "\n",
       "  [theme=dark] .colab-df-quickchart {\n",
       "      --bg-color: #3B4455;\n",
       "      --fill-color: #D2E3FC;\n",
       "      --hover-bg-color: #434B5C;\n",
       "      --hover-fill-color: #FFFFFF;\n",
       "      --disabled-bg-color: #3B4455;\n",
       "      --disabled-fill-color: #666;\n",
       "  }\n",
       "\n",
       "  .colab-df-quickchart {\n",
       "    background-color: var(--bg-color);\n",
       "    border: none;\n",
       "    border-radius: 50%;\n",
       "    cursor: pointer;\n",
       "    display: none;\n",
       "    fill: var(--fill-color);\n",
       "    height: 32px;\n",
       "    padding: 0;\n",
       "    width: 32px;\n",
       "  }\n",
       "\n",
       "  .colab-df-quickchart:hover {\n",
       "    background-color: var(--hover-bg-color);\n",
       "    box-shadow: 0 1px 2px rgba(60, 64, 67, 0.3), 0 1px 3px 1px rgba(60, 64, 67, 0.15);\n",
       "    fill: var(--button-hover-fill-color);\n",
       "  }\n",
       "\n",
       "  .colab-df-quickchart-complete:disabled,\n",
       "  .colab-df-quickchart-complete:disabled:hover {\n",
       "    background-color: var(--disabled-bg-color);\n",
       "    fill: var(--disabled-fill-color);\n",
       "    box-shadow: none;\n",
       "  }\n",
       "\n",
       "  .colab-df-spinner {\n",
       "    border: 2px solid var(--fill-color);\n",
       "    border-color: transparent;\n",
       "    border-bottom-color: var(--fill-color);\n",
       "    animation:\n",
       "      spin 1s steps(1) infinite;\n",
       "  }\n",
       "\n",
       "  @keyframes spin {\n",
       "    0% {\n",
       "      border-color: transparent;\n",
       "      border-bottom-color: var(--fill-color);\n",
       "      border-left-color: var(--fill-color);\n",
       "    }\n",
       "    20% {\n",
       "      border-color: transparent;\n",
       "      border-left-color: var(--fill-color);\n",
       "      border-top-color: var(--fill-color);\n",
       "    }\n",
       "    30% {\n",
       "      border-color: transparent;\n",
       "      border-left-color: var(--fill-color);\n",
       "      border-top-color: var(--fill-color);\n",
       "      border-right-color: var(--fill-color);\n",
       "    }\n",
       "    40% {\n",
       "      border-color: transparent;\n",
       "      border-right-color: var(--fill-color);\n",
       "      border-top-color: var(--fill-color);\n",
       "    }\n",
       "    60% {\n",
       "      border-color: transparent;\n",
       "      border-right-color: var(--fill-color);\n",
       "    }\n",
       "    80% {\n",
       "      border-color: transparent;\n",
       "      border-right-color: var(--fill-color);\n",
       "      border-bottom-color: var(--fill-color);\n",
       "    }\n",
       "    90% {\n",
       "      border-color: transparent;\n",
       "      border-bottom-color: var(--fill-color);\n",
       "    }\n",
       "  }\n",
       "</style>\n",
       "\n",
       "  <script>\n",
       "    async function quickchart(key) {\n",
       "      const quickchartButtonEl =\n",
       "        document.querySelector('#' + key + ' button');\n",
       "      quickchartButtonEl.disabled = true;  // To prevent multiple clicks.\n",
       "      quickchartButtonEl.classList.add('colab-df-spinner');\n",
       "      try {\n",
       "        const charts = await google.colab.kernel.invokeFunction(\n",
       "            'suggestCharts', [key], {});\n",
       "      } catch (error) {\n",
       "        console.error('Error during call to suggestCharts:', error);\n",
       "      }\n",
       "      quickchartButtonEl.classList.remove('colab-df-spinner');\n",
       "      quickchartButtonEl.classList.add('colab-df-quickchart-complete');\n",
       "    }\n",
       "    (() => {\n",
       "      let quickchartButtonEl =\n",
       "        document.querySelector('#df-e1f070ce-8002-4c01-8b5f-9736e183858b button');\n",
       "      quickchartButtonEl.style.display =\n",
       "        google.colab.kernel.accessAllowed ? 'block' : 'none';\n",
       "    })();\n",
       "  </script>\n",
       "</div>\n",
       "\n",
       "    </div>\n",
       "  </div>\n"
      ],
      "text/plain": [
       "   horsepower    price\n",
       "0       111.0  13495.0\n",
       "1       111.0  16500.0\n",
       "2       154.0  16500.0\n",
       "3       102.0  13950.0\n",
       "4       115.0  17450.0"
      ]
     },
     "execution_count": 16,
     "metadata": {},
     "output_type": "execute_result"
    }
   ],
   "source": [
    "#Recall data kita\n",
    "df.head()"
   ]
  },
  {
   "cell_type": "markdown",
   "metadata": {
    "id": "eXoJl4KF4Wzb"
   },
   "source": [
    "# Split Data"
   ]
  },
  {
   "cell_type": "code",
   "execution_count": 17,
   "metadata": {
    "executionInfo": {
     "elapsed": 936,
     "status": "ok",
     "timestamp": 1726558058935,
     "user": {
      "displayName": "Switra yana",
      "userId": "05526936548485182607"
     },
     "user_tz": -480
    },
    "id": "w3sEptoS3Clj"
   },
   "outputs": [],
   "source": [
    "#Pertama, buat variabel x dan y\n",
    "x = df['horsepower'].values.reshape(-1,1)\n",
    "y = df['price'].values.reshape(-1,1)"
   ]
  },
  {
   "cell_type": "code",
   "execution_count": 18,
   "metadata": {
    "executionInfo": {
     "elapsed": 488,
     "status": "ok",
     "timestamp": 1726558061877,
     "user": {
      "displayName": "Switra yana",
      "userId": "05526936548485182607"
     },
     "user_tz": -480
    },
    "id": "H6lZ5YMh3Clk"
   },
   "outputs": [],
   "source": [
    "#Kedua, kita split data kita menjadi training and testing dengan porsi 80:20\n",
    "x_train, x_test, y_train, y_test = train_test_split(x, y, test_size=0.2)"
   ]
  },
  {
   "cell_type": "markdown",
   "metadata": {
    "id": "iLA7Zhov4Z_P"
   },
   "source": [
    "# SLR Model"
   ]
  },
  {
   "cell_type": "markdown",
   "metadata": {},
   "source": [
    "Linear regression adalah metode statistik yang digunakan untuk memodelkan hubungan antara satu variabel dependen (terikat) dan satu atau lebih variabel independen (bebas). Model ini digunakan untuk memprediksi nilai variabel dependen berdasarkan nilai variabel independen. Jika hanya ada satu variabel independen, model tersebut disebut regresi linear sederhana, sedangkan jika ada lebih dari satu, disebut regresi linear berganda."
   ]
  },
  {
   "cell_type": "code",
   "execution_count": 19,
   "metadata": {
    "executionInfo": {
     "elapsed": 402,
     "status": "ok",
     "timestamp": 1726558108568,
     "user": {
      "displayName": "Switra yana",
      "userId": "05526936548485182607"
     },
     "user_tz": -480
    },
    "id": "NTyTsHWa3Clk"
   },
   "outputs": [],
   "source": [
    "#Ketiga, kita bikin object linear regresi\n",
    "lin_reg = LinearRegression()"
   ]
  },
  {
   "cell_type": "code",
   "execution_count": 20,
   "metadata": {
    "colab": {
     "base_uri": "https://localhost:8080/",
     "height": 74
    },
    "executionInfo": {
     "elapsed": 4,
     "status": "ok",
     "timestamp": 1726558110047,
     "user": {
      "displayName": "Switra yana",
      "userId": "05526936548485182607"
     },
     "user_tz": -480
    },
    "id": "rKn3KCrF3Clk",
    "outputId": "d21e70d5-53e0-4965-f3c2-a659ee5f2bc5"
   },
   "outputs": [
    {
     "data": {
      "text/html": [
       "<style>#sk-container-id-1 {color: black;}#sk-container-id-1 pre{padding: 0;}#sk-container-id-1 div.sk-toggleable {background-color: white;}#sk-container-id-1 label.sk-toggleable__label {cursor: pointer;display: block;width: 100%;margin-bottom: 0;padding: 0.3em;box-sizing: border-box;text-align: center;}#sk-container-id-1 label.sk-toggleable__label-arrow:before {content: \"▸\";float: left;margin-right: 0.25em;color: #696969;}#sk-container-id-1 label.sk-toggleable__label-arrow:hover:before {color: black;}#sk-container-id-1 div.sk-estimator:hover label.sk-toggleable__label-arrow:before {color: black;}#sk-container-id-1 div.sk-toggleable__content {max-height: 0;max-width: 0;overflow: hidden;text-align: left;background-color: #f0f8ff;}#sk-container-id-1 div.sk-toggleable__content pre {margin: 0.2em;color: black;border-radius: 0.25em;background-color: #f0f8ff;}#sk-container-id-1 input.sk-toggleable__control:checked~div.sk-toggleable__content {max-height: 200px;max-width: 100%;overflow: auto;}#sk-container-id-1 input.sk-toggleable__control:checked~label.sk-toggleable__label-arrow:before {content: \"▾\";}#sk-container-id-1 div.sk-estimator input.sk-toggleable__control:checked~label.sk-toggleable__label {background-color: #d4ebff;}#sk-container-id-1 div.sk-label input.sk-toggleable__control:checked~label.sk-toggleable__label {background-color: #d4ebff;}#sk-container-id-1 input.sk-hidden--visually {border: 0;clip: rect(1px 1px 1px 1px);clip: rect(1px, 1px, 1px, 1px);height: 1px;margin: -1px;overflow: hidden;padding: 0;position: absolute;width: 1px;}#sk-container-id-1 div.sk-estimator {font-family: monospace;background-color: #f0f8ff;border: 1px dotted black;border-radius: 0.25em;box-sizing: border-box;margin-bottom: 0.5em;}#sk-container-id-1 div.sk-estimator:hover {background-color: #d4ebff;}#sk-container-id-1 div.sk-parallel-item::after {content: \"\";width: 100%;border-bottom: 1px solid gray;flex-grow: 1;}#sk-container-id-1 div.sk-label:hover label.sk-toggleable__label {background-color: #d4ebff;}#sk-container-id-1 div.sk-serial::before {content: \"\";position: absolute;border-left: 1px solid gray;box-sizing: border-box;top: 0;bottom: 0;left: 50%;z-index: 0;}#sk-container-id-1 div.sk-serial {display: flex;flex-direction: column;align-items: center;background-color: white;padding-right: 0.2em;padding-left: 0.2em;position: relative;}#sk-container-id-1 div.sk-item {position: relative;z-index: 1;}#sk-container-id-1 div.sk-parallel {display: flex;align-items: stretch;justify-content: center;background-color: white;position: relative;}#sk-container-id-1 div.sk-item::before, #sk-container-id-1 div.sk-parallel-item::before {content: \"\";position: absolute;border-left: 1px solid gray;box-sizing: border-box;top: 0;bottom: 0;left: 50%;z-index: -1;}#sk-container-id-1 div.sk-parallel-item {display: flex;flex-direction: column;z-index: 1;position: relative;background-color: white;}#sk-container-id-1 div.sk-parallel-item:first-child::after {align-self: flex-end;width: 50%;}#sk-container-id-1 div.sk-parallel-item:last-child::after {align-self: flex-start;width: 50%;}#sk-container-id-1 div.sk-parallel-item:only-child::after {width: 0;}#sk-container-id-1 div.sk-dashed-wrapped {border: 1px dashed gray;margin: 0 0.4em 0.5em 0.4em;box-sizing: border-box;padding-bottom: 0.4em;background-color: white;}#sk-container-id-1 div.sk-label label {font-family: monospace;font-weight: bold;display: inline-block;line-height: 1.2em;}#sk-container-id-1 div.sk-label-container {text-align: center;}#sk-container-id-1 div.sk-container {/* jupyter's `normalize.less` sets `[hidden] { display: none; }` but bootstrap.min.css set `[hidden] { display: none !important; }` so we also need the `!important` here to be able to override the default hidden behavior on the sphinx rendered scikit-learn.org. See: https://github.com/scikit-learn/scikit-learn/issues/21755 */display: inline-block !important;position: relative;}#sk-container-id-1 div.sk-text-repr-fallback {display: none;}</style><div id=\"sk-container-id-1\" class=\"sk-top-container\"><div class=\"sk-text-repr-fallback\"><pre>LinearRegression()</pre><b>In a Jupyter environment, please rerun this cell to show the HTML representation or trust the notebook. <br />On GitHub, the HTML representation is unable to render, please try loading this page with nbviewer.org.</b></div><div class=\"sk-container\" hidden><div class=\"sk-item\"><div class=\"sk-estimator sk-toggleable\"><input class=\"sk-toggleable__control sk-hidden--visually\" id=\"sk-estimator-id-1\" type=\"checkbox\" checked><label for=\"sk-estimator-id-1\" class=\"sk-toggleable__label sk-toggleable__label-arrow\">LinearRegression</label><div class=\"sk-toggleable__content\"><pre>LinearRegression()</pre></div></div></div></div></div>"
      ],
      "text/plain": [
       "LinearRegression()"
      ]
     },
     "execution_count": 20,
     "metadata": {},
     "output_type": "execute_result"
    }
   ],
   "source": [
    "#Keempat, train the model menggunakan training data yang sudah displit\n",
    "lin_reg.fit(x_train, y_train)"
   ]
  },
  {
   "cell_type": "code",
   "execution_count": 21,
   "metadata": {
    "colab": {
     "base_uri": "https://localhost:8080/"
    },
    "executionInfo": {
     "elapsed": 651,
     "status": "ok",
     "timestamp": 1726558114122,
     "user": {
      "displayName": "Switra yana",
      "userId": "05526936548485182607"
     },
     "user_tz": -480
    },
    "id": "WOS4h14b3Clk",
    "outputId": "ba1afafc-e3c4-4c87-f865-193818a5f073"
   },
   "outputs": [
    {
     "name": "stdout",
     "output_type": "stream",
     "text": [
      "[[165.99136945]]\n",
      "[-3988.05631331]\n"
     ]
    }
   ],
   "source": [
    "#Kelima, cari tau nilai slope/koefisien (m) dan intercept (b)\n",
    "print(lin_reg.coef_)\n",
    "print(lin_reg.intercept_)"
   ]
  },
  {
   "cell_type": "markdown",
   "metadata": {
    "id": "8zUhZrLj3Clk"
   },
   "source": [
    "- dari nilai m dan b diatas, kalau dimasukan ke dalam rumus menjadi:\n",
    "Y = 164.73x - 3903.39"
   ]
  },
  {
   "cell_type": "code",
   "execution_count": 22,
   "metadata": {
    "colab": {
     "base_uri": "https://localhost:8080/"
    },
    "executionInfo": {
     "elapsed": 398,
     "status": "ok",
     "timestamp": 1726558120686,
     "user": {
      "displayName": "Switra yana",
      "userId": "05526936548485182607"
     },
     "user_tz": -480
    },
    "id": "QTn8VbVf3Clk",
    "outputId": "06af7632-b6d8-46fe-c8ed-eb502cb1055d"
   },
   "outputs": [
    {
     "data": {
      "text/plain": [
       "0.7675710840822998"
      ]
     },
     "execution_count": 22,
     "metadata": {},
     "output_type": "execute_result"
    }
   ],
   "source": [
    "#Keenam, kita cari tahu accuracy score dari model kita menggunakan testing data yang sudah displit\n",
    "lin_reg.score(x_test, y_test)"
   ]
  },
  {
   "cell_type": "markdown",
   "metadata": {
    "id": "XlyE1Fkz3Clk"
   },
   "source": [
    "- Model kita mendapatkan accuracy score sebesar 78.68%"
   ]
  },
  {
   "cell_type": "markdown",
   "metadata": {
    "id": "ogSs1QJQ5Bcv"
   },
   "source": [
    "# Hitung Error\n",
    "\n",
    "![image.png](data:image/png;base64,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)"
   ]
  },
  {
   "cell_type": "markdown",
   "metadata": {},
   "source": [
    "Metrik evaluasi yang digunakan untuk menilai kualitas model regresi, terutama dalam konteks linear regression. Berikut penjelasan dari masing-masing metrik:\n",
    "\n",
    "#### 1. MAE adalah rata-rata dari nilai absolut perbedaan antara nilai sebenarnya dan nilai prediksi.\n",
    "#### 2. MSE adalah rata-rata dari kuadrat perbedaan antara nilai sebenarnya dan nilai prediksi.\n",
    "#### 3. RMSE adalah akar kuadrat dari MSE. Ini memberikan interpretasi error dalam unit yang sama dengan variabel target (output), sehingga lebih mudah diinterpretasikan.\n",
    "#### 4. R^2(Koefisien Determinasi) ukuran seberapa baik variabel independen menjelaskan variabilitas variabel dependen."
   ]
  },
  {
   "cell_type": "code",
   "execution_count": 29,
   "metadata": {
    "colab": {
     "base_uri": "https://localhost:8080/"
    },
    "executionInfo": {
     "elapsed": 399,
     "status": "ok",
     "timestamp": 1726558348215,
     "user": {
      "displayName": "Switra yana",
      "userId": "05526936548485182607"
     },
     "user_tz": -480
    },
    "id": "R1tA5SXh5SrC",
    "outputId": "b39db295-121c-4be7-99fc-13333f38f29a"
   },
   "outputs": [
    {
     "name": "stdout",
     "output_type": "stream",
     "text": [
      "     y_test        y_pred\n",
      "0   15040.0  14270.994326\n",
      "1   11845.0  12777.072001\n",
      "2    6692.0   7299.356809\n",
      "3   16558.0  22736.554168\n",
      "4    6488.0   6303.408592\n",
      "5   18280.0  15930.908020\n",
      "6   15580.0  11781.123784\n",
      "7   35550.0  25226.424709\n",
      "8   15690.0  21906.597320\n",
      "9    6295.0   7631.339548\n",
      "10   7895.0  10287.201459\n",
      "11  10595.0   9955.218720\n",
      "12  10345.0  12611.080631\n",
      "13  10898.0  11283.149676\n",
      "14  10945.0  12777.072001\n",
      "15   5499.0   7465.348178\n",
      "16  18920.0  14270.994326\n",
      "17  35056.0  21740.605951\n",
      "18   5389.0   7299.356809\n",
      "19  10198.0  11615.132415\n",
      "20  37028.0  30372.157162\n",
      "21   7775.0   9623.235981\n",
      "22  11048.0  10951.166937\n",
      "23   6692.0   7299.356809\n",
      "24   7395.0   7299.356809\n",
      "25   6669.0   7299.356809\n",
      "26  16695.0  11781.123784\n",
      "27  13415.0  14934.959804\n",
      "28   8921.0  10619.184198\n",
      "29  18150.0  22570.562798\n",
      "30   8845.0   9955.218720\n",
      "31  16845.0  14934.959804\n",
      "32   6479.0   5639.443115\n",
      "33  32250.0  25226.424709\n",
      "34   7775.0   4643.494898\n",
      "35  19045.0  22570.562798\n",
      "36  11850.0  14270.994326\n",
      "37  21485.0  18254.787192\n",
      "38  11259.0  14436.985695\n",
      "39   9895.0  11781.123784\n"
     ]
    }
   ],
   "source": [
    "df_comparison = pd.DataFrame({'y_test': y_test.flatten(), 'y_pred': y_pred.flatten()})\n",
    "print(df_comparison)"
   ]
  },
  {
   "cell_type": "code",
   "execution_count": 27,
   "metadata": {
    "colab": {
     "base_uri": "https://localhost:8080/"
    },
    "executionInfo": {
     "elapsed": 417,
     "status": "ok",
     "timestamp": 1726558285038,
     "user": {
      "displayName": "Switra yana",
      "userId": "05526936548485182607"
     },
     "user_tz": -480
    },
    "id": "zr-EgVh55J8B",
    "outputId": "f0cb0672-6a7d-4315-b7bd-744e6d771c54"
   },
   "outputs": [
    {
     "name": "stdout",
     "output_type": "stream",
     "text": [
      "Mean Squared Error: 15867298.233639974\n"
     ]
    }
   ],
   "source": [
    "from sklearn.metrics import mean_squared_error\n",
    "\n",
    "y_pred = lin_reg.predict(x_test)\n",
    "mse = mean_squared_error(y_test, y_pred)\n",
    "print(\"Mean Squared Error:\", mse)"
   ]
  },
  {
   "cell_type": "code",
   "execution_count": 32,
   "metadata": {
    "colab": {
     "base_uri": "https://localhost:8080/",
     "height": 564
    },
    "executionInfo": {
     "elapsed": 1151,
     "status": "ok",
     "timestamp": 1726558490446,
     "user": {
      "displayName": "Switra yana",
      "userId": "05526936548485182607"
     },
     "user_tz": -480
    },
    "id": "jOpFjR_i57lH",
    "outputId": "568bfc1f-4ae0-4763-df51-184720688f32"
   },
   "outputs": [
    {
     "data": {
      "image/png": "[encoded data removed]",
      "text/plain": [
       "<Figure size 1000x600 with 1 Axes>"
      ]
     },
     "metadata": {},
     "output_type": "display_data"
    }
   ],
   "source": [
    "# tampilkan grafik y test dan y pred dalam line chart\n",
    "\n",
    "plt.figure(figsize=(10, 6))\n",
    "plt.plot(y_test, label='Nilai Aktual (y_test)')\n",
    "plt.plot(y_pred, label='Nilai Prediksi (y_pred)')\n",
    "plt.xlabel(\"Index\")\n",
    "plt.ylabel(\"Nilai\")\n",
    "plt.title(\"Grafik Perbandingan Nilai Aktual dan Prediksi\")\n",
    "plt.legend()\n",
    "plt.show()"
   ]
  },
  {
   "cell_type": "code",
   "execution_count": 34,
   "metadata": {
    "colab": {
     "base_uri": "https://localhost:8080/",
     "height": 472
    },
    "executionInfo": {
     "elapsed": 1483,
     "status": "ok",
     "timestamp": 1726558640189,
     "user": {
      "displayName": "Switra yana",
      "userId": "05526936548485182607"
     },
     "user_tz": -480
    },
    "id": "CEi3MqYz3Clk",
    "outputId": "d640fc8e-c02a-432d-a94d-d8d7e9985ae5"
   },
   "outputs": [
    {
     "data": {
      "image/png": "[encoded data removed]",
      "text/plain": [
       "<Figure size 640x480 with 1 Axes>"
      ]
     },
     "metadata": {},
     "output_type": "display_data"
    }
   ],
   "source": [
    "# visualisasi aktual vs prediksi menggunakan data testing\n",
    "#Garis merah merupakan garis regresi dari persamaan yang kita dapat tadi\n",
    "y_prediksi = lin_reg.predict(x_test)\n",
    "plt.scatter(x_test, y_test, color='blue', label='Aktual') # Warna biru untuk data aktual\n",
    "plt.plot(x_test, y_prediksi, c='r', label='Prediksi') # Warna merah untuk garis prediksi\n",
    "plt.xlabel('Horsepower')\n",
    "plt.ylabel('Price')\n",
    "plt.title('Plot Horsepower vs Price')\n",
    "plt.legend() # Menampilkan legenda untuk membedakan aktual dan prediksi\n",
    "plt.show()"
   ]
  },
  {
   "cell_type": "markdown",
   "metadata": {
    "id": "PDHMG7r43Cll"
   },
   "source": [
    "### Prediction\n",
    "- Yuk kita prediksi harga mobil ketika memiliki horsepower 100, 150, dan 200"
   ]
  },
  {
   "cell_type": "code",
   "execution_count": 24,
   "metadata": {
    "colab": {
     "base_uri": "https://localhost:8080/"
    },
    "executionInfo": {
     "elapsed": 458,
     "status": "ok",
     "timestamp": 1726558155841,
     "user": {
      "displayName": "Switra yana",
      "userId": "05526936548485182607"
     },
     "user_tz": -480
    },
    "id": "_Nv6ZI423Cll",
    "outputId": "a28d2638-2b6b-4689-9647-6c9e49bb510e"
   },
   "outputs": [
    {
     "data": {
      "text/plain": [
       "array([[12611.08063131]])"
      ]
     },
     "execution_count": 24,
     "metadata": {},
     "output_type": "execute_result"
    }
   ],
   "source": [
    "#Prediksi harga mobil dengan horsepower 100\n",
    "lin_reg.predict([[100]])"
   ]
  },
  {
   "cell_type": "code",
   "execution_count": 25,
   "metadata": {
    "colab": {
     "base_uri": "https://localhost:8080/"
    },
    "executionInfo": {
     "elapsed": 3,
     "status": "ok",
     "timestamp": 1726558156252,
     "user": {
      "displayName": "Switra yana",
      "userId": "05526936548485182607"
     },
     "user_tz": -480
    },
    "id": "5mfMFixp3Cll",
    "outputId": "a4a41494-f479-425d-a3ba-21b42cdcafee"
   },
   "outputs": [
    {
     "data": {
      "text/plain": [
       "array([[20910.64910363]])"
      ]
     },
     "execution_count": 25,
     "metadata": {},
     "output_type": "execute_result"
    }
   ],
   "source": [
    "#Prediksi harga mobil dengan horsepower 150\n",
    "lin_reg.predict([[150]])"
   ]
  },
  {
   "cell_type": "code",
   "execution_count": 26,
   "metadata": {
    "colab": {
     "base_uri": "https://localhost:8080/"
    },
    "executionInfo": {
     "elapsed": 2,
     "status": "ok",
     "timestamp": 1726558156252,
     "user": {
      "displayName": "Switra yana",
      "userId": "05526936548485182607"
     },
     "user_tz": -480
    },
    "id": "DQFV_Vfq3Cll",
    "outputId": "6af10b1c-4715-409b-dec2-2ac7c7bef560"
   },
   "outputs": [
    {
     "data": {
      "text/plain": [
       "array([[29210.21757594]])"
      ]
     },
     "execution_count": 26,
     "metadata": {},
     "output_type": "execute_result"
    }
   ],
   "source": [
    "#Prediksi harga mobil dengan horsepower 200\n",
    "lin_reg.predict([[200]])"
   ]
  },
  {
   "cell_type": "markdown",
   "metadata": {
    "id": "ohqzQyGq3Cll"
   },
   "source": [
    "- dengan melihat prediksi harga diatas, didapatkan bahwa hipotesis awal kita memang benar yaitu mobil dengan Horsepower 200 memiliki harga yang lebih mahal daripada yang lain!"
   ]
  },
  {
   "cell_type": "markdown",
   "metadata": {
    "id": "9ewS5ytI9_Z-"
   },
   "source": [
    "# https://scikit-learn.org/stable/user_guide.html"
   ]
  },
  {
   "cell_type": "markdown",
   "metadata": {
    "id": "vHfTqYZf9_ef"
   },
   "source": [
    "![image.png](data:image/png;base64,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)"
   ]
  },
  {
   "cell_type": "code",
   "execution_count": null,
   "metadata": {
    "id": "1HqPkyNM4rUV"
   },
   "outputs": [],
   "source": []
  }
 ],
 "metadata": {
  "colab": {
   "provenance": []
  },
  "kernelspec": {
   "display_name": "Python 3",
   "language": "python",
   "name": "python3"
  },
  "language_info": {
   "codemirror_mode": {
    "name": "ipython",
    "version": 3
   },
   "file_extension": ".py",
   "mimetype": "text/x-python",
   "name": "python",
   "nbconvert_exporter": "python",
   "pygments_lexer": "ipython3",
   "version": "3.7.3"
  }
 },
 "nbformat": 4,
 "nbformat_minor": 0
}
